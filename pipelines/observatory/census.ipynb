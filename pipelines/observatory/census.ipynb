{
 "cells": [
  {
   "cell_type": "code",
   "execution_count": 1,
   "metadata": {},
   "outputs": [],
   "source": [
    "import sys, os\n",
    "os.path.abspath('..') in sys.path or sys.path.append(os.path.abspath('..'))"
   ]
  },
  {
   "cell_type": "code",
   "execution_count": 2,
   "metadata": {},
   "outputs": [],
   "source": [
    "import pandas as pd\n",
    "import petl as etl\n",
    "from utils.paths import OPEN_DATA, SITE"
   ]
  },
  {
   "cell_type": "code",
   "execution_count": 3,
   "metadata": {},
   "outputs": [],
   "source": [
    "BRADFORD_DG = SITE / 'observatory/demographics/_data/'\n",
    "BRADFORD_DG.mkdir(exist_ok=True, parents=True)"
   ]
  },
  {
   "cell_type": "code",
   "execution_count": 4,
   "metadata": {},
   "outputs": [],
   "source": [
    "census = etl.fromdataframe(pd.read_parquet(OPEN_DATA / 'census.parquet'))"
   ]
  },
  {
   "cell_type": "code",
   "execution_count": 5,
   "metadata": {},
   "outputs": [],
   "source": [
    "categories = etl.lookup(\n",
    "    etl.fromcsv(OPEN_DATA / 'census_categories.csv').sort('sortorder'),\n",
    "    key='variable',\n",
    "    value='category'\n",
    ")"
   ]
  },
  {
   "cell_type": "code",
   "execution_count": 6,
   "metadata": {},
   "outputs": [],
   "source": [
    "def prepare_data(variable, folder):\n",
    "    folder.mkdir(exist_ok=True, parents=True)\n",
    "    data = (\n",
    "        census\n",
    "        .selecteq('variable', variable)\n",
    "        .selecteq('measure', 'Percent')\n",
    "        .cutout('variable', 'measure')\n",
    "        .recast(variablefield='category')\n",
    "        .cut('geography_code', 'geography_name', *categories.get(variable))\n",
    "    )\n",
    "    data.tocsv(folder / 'by_geography.csv')\n",
    "\n",
    "prepare_data('Age', BRADFORD_DG / 'age')\n",
    "prepare_data('Sex', BRADFORD_DG / 'sex')\n",
    "prepare_data('Ethnic group', BRADFORD_DG / 'ethnic_group')"
   ]
  },
  {
   "cell_type": "code",
   "execution_count": null,
   "metadata": {},
   "outputs": [],
   "source": []
  },
  {
   "cell_type": "markdown",
   "metadata": {},
   "source": []
  }
 ],
 "metadata": {
  "kernelspec": {
   "display_name": "bd25-L4uOQWuf",
   "language": "python",
   "name": "python3"
  },
  "language_info": {
   "codemirror_mode": {
    "name": "ipython",
    "version": 3
   },
   "file_extension": ".py",
   "mimetype": "text/x-python",
   "name": "python",
   "nbconvert_exporter": "python",
   "pygments_lexer": "ipython3",
   "version": "3.12.7"
  }
 },
 "nbformat": 4,
 "nbformat_minor": 2
}
