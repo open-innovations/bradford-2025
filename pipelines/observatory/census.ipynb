{
 "cells": [
  {
   "cell_type": "code",
   "execution_count": 38,
   "metadata": {},
   "outputs": [
    {
     "data": {
      "text/plain": [
       "True"
      ]
     },
     "execution_count": 38,
     "metadata": {},
     "output_type": "execute_result"
    }
   ],
   "source": [
    "import sys, os\n",
    "os.path.abspath('..') in sys.path or sys.path.append(os.path.abspath('..'))"
   ]
  },
  {
   "cell_type": "code",
   "execution_count": 39,
   "metadata": {},
   "outputs": [],
   "source": [
    "import pandas as pd\n",
    "import petl as etl\n",
    "from utils.paths import OPEN_DATA, SITE"
   ]
  },
  {
   "cell_type": "code",
   "execution_count": 40,
   "metadata": {},
   "outputs": [],
   "source": [
    "BRADFORD_DG = SITE / 'observatory/demographics/_data/'\n",
    "BRADFORD_DG.mkdir(exist_ok=True, parents=True)"
   ]
  },
  {
   "cell_type": "code",
   "execution_count": 41,
   "metadata": {},
   "outputs": [],
   "source": [
    "census = etl.fromdataframe(pd.read_parquet(OPEN_DATA / 'census.parquet'))"
   ]
  },
  {
   "cell_type": "code",
   "execution_count": 46,
   "metadata": {},
   "outputs": [],
   "source": [
    "categories = etl.lookup(\n",
    "    etl.fromcsv(OPEN_DATA / 'census_categories.csv').convertnumbers().sort('sortorder'),\n",
    "    key='variable',\n",
    "    value='category'\n",
    ")"
   ]
  },
  {
   "cell_type": "code",
   "execution_count": 56,
   "metadata": {},
   "outputs": [],
   "source": [
    "def prepare_data(variable, folder, ward_sorter=None):\n",
    "    folder.mkdir(exist_ok=True, parents=True)\n",
    "    data = (\n",
    "        census\n",
    "        .selecteq('variable', variable)\n",
    "        .selecteq('measure', 'Percent')\n",
    "        .cutout('variable', 'measure')\n",
    "        .recast(variablefield='category')\n",
    "        .cut('geography_code', 'geography_name', *categories.get(variable))\n",
    "    )\n",
    "    data.tocsv(folder / 'by_geography.csv')\n",
    "    (\n",
    "        data\n",
    "        .select(lambda r: r.geography_code.startswith('E05'))\n",
    "        .addfield('order', ward_sorter)\n",
    "        .sort('order')\n",
    "        .tocsv(folder / 'by_ward.csv')\n",
    "    )\n",
    "\n",
    "prepare_data('Age', BRADFORD_DG / 'age', ward_sorter=lambda r: -sum(r[f] for f in categories.get('Age')[:5]))\n",
    "prepare_data('Sex', BRADFORD_DG / 'sex', ward_sorter=lambda r: r.Female)\n",
    "prepare_data('Ethnic group', BRADFORD_DG / 'ethnic_group', ward_sorter=lambda r: -r['Asian, Asian British or Asian Welsh'])\n",
    "prepare_data('General health', BRADFORD_DG / 'general_health', ward_sorter=lambda r: -sum(r[f] for f in categories.get('General health')[-2:]))"
   ]
  },
  {
   "cell_type": "markdown",
   "metadata": {},
   "source": []
  },
  {
   "cell_type": "markdown",
   "metadata": {},
   "source": []
  }
 ],
 "metadata": {
  "kernelspec": {
   "display_name": "bd25-L4uOQWuf",
   "language": "python",
   "name": "python3"
  },
  "language_info": {
   "codemirror_mode": {
    "name": "ipython",
    "version": 3
   },
   "file_extension": ".py",
   "mimetype": "text/x-python",
   "name": "python",
   "nbconvert_exporter": "python",
   "pygments_lexer": "ipython3",
   "version": "3.12.7"
  }
 },
 "nbformat": 4,
 "nbformat_minor": 2
}
