{
 "cells": [
  {
   "cell_type": "code",
   "execution_count": 1,
   "metadata": {
    "tags": [
     "parameters"
    ]
   },
   "outputs": [],
   "source": [
    "target: str = ''\n",
    "start: str = '2025-01-01'\n",
    "end: str = '2025-12-31'"
   ]
  },
  {
   "cell_type": "code",
   "execution_count": 2,
   "metadata": {},
   "outputs": [],
   "source": [
    "import json\n",
    "from datetime import date\n",
    "\n",
    "import petl as etl\n",
    "from utils.paths import PUBLISHED, SITE"
   ]
  },
  {
   "cell_type": "code",
   "execution_count": 3,
   "metadata": {},
   "outputs": [],
   "source": [
    "TARGET = SITE / 'dashboard/kpi' / target / '_data'"
   ]
  },
  {
   "cell_type": "code",
   "execution_count": 4,
   "metadata": {},
   "outputs": [],
   "source": [
    "TARGET.mkdir(exist_ok=True, parents=True)"
   ]
  },
  {
   "cell_type": "code",
   "execution_count": 5,
   "metadata": {},
   "outputs": [],
   "source": [
    "date_range = (\n",
    "    date.fromisoformat(start),\n",
    "    min(date.today(), date.fromisoformat(end))\n",
    ")"
   ]
  },
  {
   "cell_type": "code",
   "execution_count": 6,
   "metadata": {},
   "outputs": [],
   "source": [
    "with open(TARGET / 'timestamp.json', 'w') as f:\n",
    "    json.dump(dict(zip(['start', 'end'], (str(x) for x in date_range))), f)"
   ]
  },
  {
   "cell_type": "code",
   "execution_count": 7,
   "metadata": {},
   "outputs": [],
   "source": [
    "data = (\n",
    "    etl\n",
    "    .fromjson(PUBLISHED / 'programme/projects.json')\n",
    "    .convert(['Date From', 'Date To'], etl.dateparser('%Y-%m-%d'))\n",
    "    .selectge('Date To', date_range[0])\n",
    "    .selectle('Date From', date_range[1])\n",
    ")"
   ]
  },
  {
   "cell_type": "code",
   "execution_count": 8,
   "metadata": {},
   "outputs": [],
   "source": [
    "def rowgenerator(row):\n",
    "    for v in row['Producing model (from Audiences Sync)']:\n",
    "        yield [v]\n",
    "\n",
    "producing_model = etl.cat(\n",
    "    data\n",
    "    .rowmapmany(rowgenerator, header=['Producing model'])\n",
    "    .aggregate('Producing model', len),\n",
    "\n",
    "    data\n",
    "    .selecteq('Producing model (from Audiences Sync)', [])\n",
    "    .aggregate(None, len)\n",
    "    .addfield('Producing model', 'UNKNOWN')\n",
    ")"
   ]
  },
  {
   "cell_type": "code",
   "execution_count": 9,
   "metadata": {},
   "outputs": [],
   "source": [
    "projects = {\n",
    "    'count': data.nrows(),\n",
    "    'producing_model': dict(producing_model.records())\n",
    "}"
   ]
  },
  {
   "cell_type": "code",
   "execution_count": 10,
   "metadata": {},
   "outputs": [],
   "source": [
    "with open(TARGET / 'events.json', 'w') as f:\n",
    "    json.dump(\n",
    "        {\n",
    "            'projects': projects\n",
    "        },\n",
    "        f,\n",
    "        indent=2\n",
    "    )"
   ]
  },
  {
   "cell_type": "code",
   "execution_count": null,
   "metadata": {},
   "outputs": [],
   "source": []
  }
 ],
 "metadata": {
  "kernelspec": {
   "display_name": "bd25-L4uOQWuf",
   "language": "python",
   "name": "python3"
  },
  "language_info": {
   "codemirror_mode": {
    "name": "ipython",
    "version": 3
   },
   "file_extension": ".py",
   "mimetype": "text/x-python",
   "name": "python",
   "nbconvert_exporter": "python",
   "pygments_lexer": "ipython3",
   "version": "3.12.3"
  }
 },
 "nbformat": 4,
 "nbformat_minor": 2
}
