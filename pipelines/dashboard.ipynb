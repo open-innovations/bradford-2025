{
 "cells": [
  {
   "cell_type": "markdown",
   "metadata": {},
   "source": [
    "# Dashboard\n",
    "\n",
    "This pipeline processes data into a form to drive the dashboard."
   ]
  },
  {
   "cell_type": "markdown",
   "metadata": {},
   "source": [
    "The parameters are injected using papermill."
   ]
  },
  {
   "cell_type": "code",
   "execution_count": 1,
   "metadata": {
    "tags": [
     "parameters"
    ]
   },
   "outputs": [],
   "source": [
    "target: str = ''\n",
    "start: str = '2023-01-01'\n",
    "end: str = '2025-06-10'\n",
    "fixed_date: str = 'true'"
   ]
  },
  {
   "cell_type": "markdown",
   "metadata": {},
   "source": [
    "## Setup"
   ]
  },
  {
   "cell_type": "markdown",
   "metadata": {},
   "source": [
    "Import some libraries"
   ]
  },
  {
   "cell_type": "code",
   "execution_count": 2,
   "metadata": {},
   "outputs": [],
   "source": [
    "import json\n",
    "from datetime import date\n",
    "from ast import literal_eval\n",
    "\n",
    "import petl as etl\n",
    "from utils.paths import PUBLISHED, SITE\n",
    "from utils.themes.programme import ProgrammeSlice"
   ]
  },
  {
   "cell_type": "markdown",
   "metadata": {},
   "source": [
    "Set the target directory, and ensure it exists"
   ]
  },
  {
   "cell_type": "code",
   "execution_count": 3,
   "metadata": {},
   "outputs": [],
   "source": [
    "TARGET = SITE / 'insights/dashboard' / target / '_data'\n",
    "TARGET.mkdir(exist_ok=True, parents=True)"
   ]
  },
  {
   "cell_type": "markdown",
   "metadata": {},
   "source": [
    "Calculate the date range. If the `fixed_date` parameter is `false`, make today the latest date."
   ]
  },
  {
   "cell_type": "code",
   "execution_count": 4,
   "metadata": {},
   "outputs": [],
   "source": [
    "date_range = (\n",
    "    date.fromisoformat(start),\n",
    "    min(date.today(), date.fromisoformat(end)) if fixed_date == 'false' else date.fromisoformat(end),\n",
    "    date.today(),\n",
    ")"
   ]
  },
  {
   "cell_type": "markdown",
   "metadata": {},
   "source": [
    "Write the timestamp file"
   ]
  },
  {
   "cell_type": "code",
   "execution_count": 5,
   "metadata": {},
   "outputs": [],
   "source": [
    "with open(TARGET / 'timestamp.json', 'w') as f:\n",
    "    json.dump(dict(zip(['start', 'end', 'updated'], (str(x) for x in date_range))), f)"
   ]
  },
  {
   "cell_type": "markdown",
   "metadata": {},
   "source": [
    "Load programme data"
   ]
  },
  {
   "cell_type": "code",
   "execution_count": 6,
   "metadata": {},
   "outputs": [],
   "source": [
    "programme_data = ProgrammeSlice(range=date_range[0:2])"
   ]
  },
  {
   "cell_type": "markdown",
   "metadata": {},
   "source": [
    "## Events & projects data"
   ]
  },
  {
   "cell_type": "code",
   "execution_count": 7,
   "metadata": {},
   "outputs": [],
   "source": [
    "events = (\n",
    "    programme_data.project_breakdown\n",
    "    .aggregate(['project_name', 'project_id', 'evaluation_category'], sum, 'events', field='events')\n",
    ")"
   ]
  },
  {
   "cell_type": "code",
   "execution_count": 8,
   "metadata": {},
   "outputs": [],
   "source": [
    "project_summary = {\n",
    "    'total': events.distinct('project_name').nrows(),\n",
    "    'by_category': dict(events.aggregate('evaluation_category', len).records()),\n",
    "    'names': list(events.cut('project_name').distinct().values('project_name')),\n",
    "}"
   ]
  },
  {
   "cell_type": "code",
   "execution_count": 9,
   "metadata": {},
   "outputs": [],
   "source": [
    "events_summary = {\n",
    "    'total': sum(events.values('events')),\n",
    "    'by_category': dict(events.aggregate('evaluation_category', sum, 'events').records()),\n",
    "    'by_project': {\n",
    "        r[0]: {'category': r[2], 'count': r[3]}\n",
    "        for r\n",
    "        in events.records()\n",
    "    },\n",
    "}"
   ]
  },
  {
   "cell_type": "code",
   "execution_count": 10,
   "metadata": {},
   "outputs": [],
   "source": [
    "with open(TARGET / 'events.json', 'w') as f:\n",
    "    json.dump(\n",
    "        events_summary,\n",
    "        f,\n",
    "        indent=2\n",
    "    )\n",
    "\n",
    "with open(TARGET / 'projects.json', 'w') as f:\n",
    "    json.dump(\n",
    "        project_summary,\n",
    "        f,\n",
    "        indent=2\n",
    "    )"
   ]
  },
  {
   "cell_type": "markdown",
   "metadata": {},
   "source": [
    "## Audiences"
   ]
  },
  {
   "cell_type": "code",
   "execution_count": 11,
   "metadata": {},
   "outputs": [],
   "source": [
    "ticketed_events = (\n",
    "    etl\n",
    "    .fromcsv(PUBLISHED / 'ticketing/event-instances.csv')\n",
    "    .convert('start', etl.dateparser('%Y-%m-%d %H:%M:%S'))\n",
    "    .selectrangeopen('start', date_range[0], date_range[1])\n",
    "    .selectcontains('eventType', 'MainProgrammeEvent')\n",
    ")"
   ]
  },
  {
   "cell_type": "code",
   "execution_count": 12,
   "metadata": {},
   "outputs": [],
   "source": [
    "tickets_sold = (\n",
    "    etl\n",
    "    .fromcsv(PUBLISHED / 'ticketing/tickets.csv')\n",
    "    .selecteq('geography_type', 'oslaua')\n",
    "    .rightjoin(ticketed_events.cut('instance_id', 'event_name'))\n",
    "    .cut('event_name', 'geography_code', 'count_of_tickets')\n",
    "    .convertnumbers()\n",
    "    .selectnotnone('count_of_tickets')\n",
    ")"
   ]
  },
  {
   "cell_type": "code",
   "execution_count": 13,
   "metadata": {},
   "outputs": [],
   "source": [
    "tickets_scanned = dict(\n",
    "    etl\n",
    "    .fromcsv(PUBLISHED / 'manual/spektrix-sales-and-scans.csv')\n",
    "    .convert('Event Date', etl.dateparser('%Y-%m-%d'))\n",
    "    .selectrangeopen('Event Date', date_range[0], date_range[1])\n",
    "    .convertnumbers()\n",
    "    .aggregate(None, {\n",
    "        'sold': ('Sold', sum),\n",
    "        'scanned': ('Scanned', sum)\n",
    "    })\n",
    "    .melt(variables=['sold', 'scanned'])\n",
    "    .records()\n",
    ")"
   ]
  },
  {
   "cell_type": "code",
   "execution_count": 14,
   "metadata": {},
   "outputs": [],
   "source": [
    "ticketed_audience = {\n",
    "    'sold': {\n",
    "        'total': sum(tickets_sold.values('count_of_tickets')),\n",
    "        'bradford': sum(tickets_sold.selecteq('geography_code', 'E08000032').values('count_of_tickets')),\n",
    "        'by_project': dict(tickets_sold.aggregate('event_name', sum, 'count_of_tickets', field='count_of_tickets').records()),\n",
    "        'by_geo': dict(tickets_sold.aggregate('geography_code', sum, 'count_of_tickets', field='count_of_tickets').records()),\n",
    "    },\n",
    "    'scanned': {\n",
    "        'total': tickets_scanned\n",
    "    }\n",
    "}"
   ]
  },
  {
   "cell_type": "code",
   "execution_count": 15,
   "metadata": {},
   "outputs": [],
   "source": [
    "audience_data = (\n",
    "    programme_data.project_breakdown\n",
    "    .aggregate(['project_name', 'project_id', 'evaluation_category'], sum, 'audience', field='audience')\n",
    ")\n"
   ]
  },
  {
   "cell_type": "code",
   "execution_count": 16,
   "metadata": {},
   "outputs": [],
   "source": [
    "audience = {\n",
    "    'total': sum(audience_data.values('audience')),\n",
    "    'by_category': dict(\n",
    "        audience_data\n",
    "        .aggregate(['evaluation_category'], sum, 'audience')\n",
    "        .records()\n",
    "    ),\n",
    "    'by_project': dict(\n",
    "        audience_data\n",
    "        .aggregate(['project_name'], sum, 'audience')\n",
    "        .records()\n",
    "    ),\n",
    "}"
   ]
  },
  {
   "cell_type": "code",
   "execution_count": 17,
   "metadata": {},
   "outputs": [],
   "source": [
    "with open(TARGET / 'audience.json', 'w') as f:\n",
    "    json.dump(\n",
    "        audience | {\n",
    "            'ticketed': ticketed_audience,\n",
    "            'unticketed': None,\n",
    "        },\n",
    "        f,\n",
    "        indent=2\n",
    "    )"
   ]
  },
  {
   "cell_type": "markdown",
   "metadata": {},
   "source": [
    "## Participants"
   ]
  },
  {
   "cell_type": "markdown",
   "metadata": {},
   "source": [
    "### Programme"
   ]
  },
  {
   "cell_type": "code",
   "execution_count": 18,
   "metadata": {},
   "outputs": [],
   "source": [
    "programme_participants = (\n",
    "    programme_data.project_breakdown\n",
    "    .melt(variables=[\n",
    "        'schedule_participants_community',\n",
    "        'manual_participants_community',\n",
    "        # 'manual_participants_schools'\n",
    "    ])\n",
    "    .convert('variable', lambda f: f.replace('manual_','').replace('schedule_',''))\n",
    "    .selectnotnone('value')\n",
    "    .aggregate(['project_name', 'project_id', 'evaluation_category', 'variable'], sum, 'value')\n",
    "    .recast(samplesize=1_000_000)\n",
    ")"
   ]
  },
  {
   "cell_type": "markdown",
   "metadata": {},
   "source": [
    "### Cultural learning"
   ]
  },
  {
   "cell_type": "code",
   "execution_count": 19,
   "metadata": {},
   "outputs": [],
   "source": [
    "import petl as etl\n",
    "from datetime import date\n",
    "import ast\n",
    "\n",
    "\n",
    "cultural_learning_engagements = (\n",
    "    etl\n",
    "    .fromcsv(PUBLISHED / 'cultural-learning/engagements.csv' )\n",
    "    .convert(['date', 'month'], date.fromisoformat)\n",
    "    .selectnotnone('date')\n",
    "    .selectrangeopen('date', *date_range[:2])\n",
    "    .convertnumbers()\n",
    "    .convert('organisation_ids', ast.literal_eval)\n",
    ")\n",
    "\n",
    "def distinct(items):\n",
    "    return len({i for s in items for i in s})\n",
    "\n",
    "cultural_learning_summary = (\n",
    "    cultural_learning_engagements\n",
    "    .aggregate(None, {\n",
    "        'participants': ('participants', sum),\n",
    "        'schools_engaged': ('organisation_ids', distinct)\n",
    "    })\n",
    "    .dicts()[0]\n",
    ")\n",
    "\n"
   ]
  },
  {
   "cell_type": "markdown",
   "metadata": {},
   "source": [
    "### Volunteers"
   ]
  },
  {
   "cell_type": "code",
   "execution_count": 20,
   "metadata": {},
   "outputs": [],
   "source": [
    "volunteer_signups = (\n",
    "    etl\n",
    "    .fromcsv(PUBLISHED / 'volunteers/checkpoint-updates.csv')\n",
    "    .convert('date', etl.dateparser('%Y-%m-%d'))\n",
    "    .selectle('date', date_range[1])\n",
    "    .convertnumbers(strict=False)\n",
    ")"
   ]
  },
  {
   "cell_type": "code",
   "execution_count": 21,
   "metadata": {},
   "outputs": [],
   "source": [
    "# volunteer_shifts = (\n",
    "#     etl\n",
    "#     .fromcsv(PUBLISHED / 'volunteers/shifts.csv')\n",
    "#     .convert('date', etl.dateparser('%Y-%m-%d'))\n",
    "#     .selecteq('type', 'BD25 Event')\n",
    "#     .selectrangeopen('date', date_range[0], date_range[1])\n",
    "#     .convertnumbers(strict=False)\n",
    "# )"
   ]
  },
  {
   "cell_type": "code",
   "execution_count": 22,
   "metadata": {},
   "outputs": [],
   "source": [
    "volunteer_summary = {\n",
    "    'total': sum(\n",
    "        volunteer_signups\n",
    "        .selectin('checkpoint',  [\"1. Monitoring & Evaluation\", \"2. Sign Up to Induction\", \"3. Fully Inducted Volunteers\"])\n",
    "        .values('count')\n",
    "    ),\n",
    "    'people': {\n",
    "        'checkpoints': dict(volunteer_signups.aggregate('checkpoint', sum, 'count').records()),\n",
    "    },\n",
    "    # 'events': {\n",
    "    #     'count': volunteer_shifts.cut('rosterfy_event_name').distinct().nrows(),\n",
    "    #     'names': list(volunteer_shifts.cut('rosterfy_event_name').distinct().values('rosterfy_event_name')),\n",
    "    # },\n",
    "    # 'shifts': {\n",
    "    #     'count': volunteer_shifts.nrows(),\n",
    "    #     'attended': sum(volunteer_shifts.values('attended')),\n",
    "    #     'hours': sum(volunteer_shifts.values('hours')),\n",
    "    # },\n",
    "}"
   ]
  },
  {
   "cell_type": "markdown",
   "metadata": {},
   "source": [
    "### Other figures"
   ]
  },
  {
   "cell_type": "code",
   "execution_count": 23,
   "metadata": {},
   "outputs": [],
   "source": [
    "other_figures = etl.fromcsv(PUBLISHED / 'manual/manual-other-figures.csv').selecteq('dashboard key', target).convertnumbers()"
   ]
  },
  {
   "cell_type": "code",
   "execution_count": 24,
   "metadata": {},
   "outputs": [
    {
     "data": {
      "text/plain": [
       "{'Bradford Producing Hub': 833,\n",
       " 'Creative Health': 278,\n",
       " 'Digital Creatives scheme': 1632}"
      ]
     },
     "execution_count": 24,
     "metadata": {},
     "output_type": "execute_result"
    }
   ],
   "source": [
    "dict(other_figures.selecteq('variable', 'training_and_skills_development_participants').cut('source', 'value').rename('source', 'project_name').aggregate('project_name', sum, 'value', field='count').records())"
   ]
  },
  {
   "cell_type": "code",
   "execution_count": 25,
   "metadata": {},
   "outputs": [],
   "source": [
    "with open(TARGET / 'otherFigures.json', 'w') as f:\n",
    "    json.dump(\n",
    "        other_figures.aggregate('variable', sum, 'value').transpose().cutout('variable').dicts()[0],\n",
    "        f,\n",
    "        indent=2\n",
    "    )"
   ]
  },
  {
   "cell_type": "markdown",
   "metadata": {},
   "source": [
    "### Summary"
   ]
  },
  {
   "cell_type": "code",
   "execution_count": 26,
   "metadata": {},
   "outputs": [],
   "source": [
    "participants_by_type = (\n",
    "    programme_participants\n",
    "    .melt(key=['project_name', 'project_id', 'evaluation_category'])\n",
    "    .selectnotnone('value').aggregate(['variable'], sum, 'value')\n",
    "    .transpose().cutout('variable').dicts()[0]\n",
    ")"
   ]
  },
  {
   "cell_type": "code",
   "execution_count": null,
   "metadata": {},
   "outputs": [],
   "source": [
    "def summarise_by_type(table):\n",
    "    return {\n",
    "        'count': sum(table.values('count')),\n",
    "        'by_project': dict(table.selectgt('count', 0).records()),\n",
    "    }\n",
    "\n",
    "by_type = {\n",
    "    'community_participants': summarise_by_type(programme_participants\n",
    "        .cutout('project_id', 'evaluation_category')\n",
    "        .rename('participants_community', 'count')\n",
    "    ),\n",
    "    'training_and_skills_development_participants': summarise_by_type(\n",
    "        other_figures\n",
    "        .selecteq('variable', 'training_and_skills_development_participants')\n",
    "        .cut('source', 'value')\n",
    "        .rename('source', 'project_name')\n",
    "        .aggregate('project_name', sum, 'value', field='count')   \n",
    "    ),\n",
    "    'cultural_learning_participants': summarise_by_type(\n",
    "        cultural_learning_engagements.aggregate('project_name', sum, 'participants', field='count')\n",
    "    )\n",
    "}"
   ]
  },
  {
   "cell_type": "code",
   "execution_count": 28,
   "metadata": {},
   "outputs": [
    {
     "data": {
      "text/plain": [
       "{'community_participants': {'count': 48853,\n",
       "  'by_project': {'A Screen Near You - Cinema for All (grassroots development and screening)': 0,\n",
       "   'A Screen Near You - The Incredible Moving Cinema': 0,\n",
       "   'ARCHIVE: How Soon Is Now (grant dependent)': 0,\n",
       "   'Akram Khan and Dance United - Memories of the Future': 0,\n",
       "   'An Evening with Resi/Dance @ The Beacon (Dance United)': 0,\n",
       "   'An Evening with: Jacqui Dankworth': 0,\n",
       "   'Aswad Arts Presents StreetSounds \"LIVE\" Bhangra Niche Set \"LIVE\"': 0,\n",
       "   'BBC Extraordinary Portraits': 2400,\n",
       "   'BBC Introducing @ The Beacon': 9,\n",
       "   'BBC Introducing at The Underground': 0,\n",
       "   'BD: Walls': 254,\n",
       "   'Basel Zaraa - Moomins': 0,\n",
       "   'Bassline Symphony': 245,\n",
       "   'Beacon': 0,\n",
       "   'Beacon Church Community Cuppa': 0,\n",
       "   'Beacon Feature Curtain': 0,\n",
       "   'Big Brass Blowout': 33,\n",
       "   'Big Screen - Cannon Mills': 0,\n",
       "   'Bloom Vicky Amudeme': 0,\n",
       "   'Bradford Belles': 0,\n",
       "   'Bradford Literature Festival - New Commissions': 0,\n",
       "   'Bradford Made MASTER': 0,\n",
       "   'Bradford Poetry Slam 2025': 0,\n",
       "   'Bradford Selection': 0,\n",
       "   'Bradford South Young Peoples Celebration (Youth Service)': 0,\n",
       "   'Bradford on Foot': 0,\n",
       "   \"Bradford's Bigger Picture - Pictureville Year Round Programme\": 0,\n",
       "   'Bradford: A City of Film': 0,\n",
       "   'CBeebies Bedtime Story Day': 0,\n",
       "   'Channels (Bodies of Water) - Turbynes': 0,\n",
       "   'Claytime': 0,\n",
       "   'Closing Event - Emily Lim/Dan Canham': 0,\n",
       "   'Club Ekta Events': 22,\n",
       "   \"Comma Press 'Book of the City'\": 0,\n",
       "   'Common/Wealth: Public Interest': 0,\n",
       "   'Compagnie Off: Giraffes': 37,\n",
       "   'Cultural Learning Steering Group': 0,\n",
       "   'Curious Investigators': 0,\n",
       "   'DRAW & Messy Play': 142,\n",
       "   'DRAW!': 0,\n",
       "   'Dancing with Colours': 0,\n",
       "   'Digital Map': 0,\n",
       "   'Dracula - Black Eyed Theatre': 0,\n",
       "   'Dragons - Eun-Me Ahn Company': 0,\n",
       "   'Drum Roll Please': 79,\n",
       "   'Earth & Sky (part of Wild Uplands)': 0,\n",
       "   'Easter Fun and Celebration': 0,\n",
       "   'Elevate - Heritage Skills Project': 12,\n",
       "   'Eliza Carthy': 0,\n",
       "   'FRESH Workshops': 0,\n",
       "   'Fighting To Be Heard': 0,\n",
       "   'Frontline 1984-1985 by Victor Wedderburn': 2267,\n",
       "   \"Ginger Johnson's Fun House\": 0,\n",
       "   'Greed - Tavaziva Dance': 0,\n",
       "   'Happy Hype': 0,\n",
       "   'Immersive Arts UK Conference': 0,\n",
       "   'International Roma Day Celebration': 0,\n",
       "   'Intro to Comedy Workshop Series with Alex Dunlop': 0,\n",
       "   \"It's Your Round\": 0,\n",
       "   'Jungle Book ReImagined - Akram Khan Company': 0,\n",
       "   'La Haine – Live': 0,\n",
       "   'Lady Bushra (supporting Ginger)': 0,\n",
       "   \"Lady Maisery / O'Hooley & Tidow\": 0,\n",
       "   'Lay Down Your Burdens': 3,\n",
       "   'Les Enfants Terribles - A Gameshow for Awful Children': 0,\n",
       "   \"Let's Make\": 832,\n",
       "   'Little Wimmin': 0,\n",
       "   'Loaded Laughs (#1)': 0,\n",
       "   'Loud and Proud Dohl Drumming': 158,\n",
       "   'Meet Our Mothers': 191,\n",
       "   'Multicultural Pentecost Party': 0,\n",
       "   'Nadine Shah @ St. Georges Hall': 0,\n",
       "   'Nationhood: Memory and Hope': 0,\n",
       "   'New Focus: Bradford Young Curators': 0,\n",
       "   'New Music Biennial': 0,\n",
       "   'Northern Soul (Clio Barnard)': 0,\n",
       "   'Our Patch': 12426,\n",
       "   'PLAY Facilitators @ Beacon (all)': 685,\n",
       "   'PLAY: Escape Room Design Challenge': 0,\n",
       "   'PLAY: Grue': 568,\n",
       "   'PLAY: Intergenerational Play': 0,\n",
       "   'PLAY: Playable Commission': 9,\n",
       "   'PLAY: Red Ball Project (WOW)': 0,\n",
       "   'PLAY: The Great Adventure Build with Woodland Tribe': 884,\n",
       "   'Palettes (International)': 0,\n",
       "   'Peace Picnics': 0,\n",
       "   'Pictureville - Pauline Black: A 2-Tone Story [+ Q&A]': 0,\n",
       "   'Pictureville Screenings - Northern Youth Film Season': 0,\n",
       "   'Pop': 0,\n",
       "   'Programme Launch (Sept 12th event)': 0,\n",
       "   'Punjabi Heritage and Culture by Saath': 0,\n",
       "   'Qawalli Night at The Beacon': 0,\n",
       "   'RISE': 745,\n",
       "   'Ramadan Pavillion': 0,\n",
       "   'Robyn Hood - Fidget Theatre': 0,\n",
       "   'Roshni': 0,\n",
       "   'SMOOSH': 0,\n",
       "   'Say It As It Is - Wibsey': 15,\n",
       "   'Share Your Story at Beacon (National Literacy Trust)': 0,\n",
       "   'Sing, Dance, Leap': 0,\n",
       "   'Sisters 360': 0,\n",
       "   'So Far, So Good - Yorkshire Dance - as part of BD FEST': 0,\n",
       "   'Spin Arts: RIDE': 0,\n",
       "   'Sustenance the Power of Food': 0,\n",
       "   'TCF Artist Residency': 23,\n",
       "   'Tape Letters': 0,\n",
       "   'Tech Styles @ The Beacon': 39,\n",
       "   'Teen Scene Party': 0,\n",
       "   'The 56': 0,\n",
       "   'The Bradford Progress': 1181,\n",
       "   'The Dreams I Had: Andrea Dunbar': 0,\n",
       "   'The Portrait of Mai: Youth Engagement Programme': 4,\n",
       "   'The Railway Children': 300,\n",
       "   'The Sticky Dance': 0,\n",
       "   'The Tiger Lillies': 0,\n",
       "   'Tour the Writer': 0,\n",
       "   'Tower of Now Engagement Strand': 37,\n",
       "   'Tower of Now: Saad Qureshi (programme strand)': 0,\n",
       "   'Toxic - Dibby Theatre': 0,\n",
       "   'Unspun - 509 Arts': 0,\n",
       "   'WOW Community Partnership': 0,\n",
       "   'Wandering Imaginations: Emerging Fantasy Writer Exchange': 0,\n",
       "   \"We Will Sing by Ann Hamilton at Salt's Mill\": 30,\n",
       "   'West Yorkshire Young Poet Laureate': 17,\n",
       "   'Where It Began – Osman Yousefzada': 65,\n",
       "   'Whine List': 0,\n",
       "   'Wild Uplands': 245,\n",
       "   'Wonky Olympics': 44,\n",
       "   'YOU:MATTER': 0,\n",
       "   'Youthology': 0,\n",
       "   'asses.masses': 0,\n",
       "   'zz - Beacon - Non-project related venue activity': 0,\n",
       "   'zz - Loading Bay Venue Activity (non-project related)': 0}},\n",
       " 'training_and_skills_development_participants': {'count': 2743,\n",
       "  'by_project': {'Bradford Producing Hub': 833,\n",
       "   'Creative Health': 278,\n",
       "   'Digital Creatives scheme': 1632}}}"
      ]
     },
     "execution_count": 28,
     "metadata": {},
     "output_type": "execute_result"
    }
   ],
   "source": [
    "by_type"
   ]
  },
  {
   "cell_type": "code",
   "execution_count": 29,
   "metadata": {},
   "outputs": [],
   "source": [
    "participant_summary = {\n",
    "    'total': sum(programme_participants.values('participants_community'))\n",
    "        + cultural_learning_summary['participants']\n",
    "        + volunteer_summary['total']\n",
    "        + sum(other_figures.selectcontains('variable', '_participants').values('value')),\n",
    "\n",
    "    'by_type': by_type,\n",
    "\n",
    "    'cultural_learning': cultural_learning_summary,\n",
    "    'volunteers': volunteer_summary,\n",
    "}"
   ]
  },
  {
   "cell_type": "code",
   "execution_count": 30,
   "metadata": {},
   "outputs": [],
   "source": [
    "with open(TARGET / 'participants.json', 'w') as f:\n",
    "    json.dump(\n",
    "        participant_summary,\n",
    "        f,\n",
    "        indent=2\n",
    "    )"
   ]
  },
  {
   "cell_type": "markdown",
   "metadata": {},
   "source": [
    "## Other figures"
   ]
  },
  {
   "cell_type": "code",
   "execution_count": null,
   "metadata": {},
   "outputs": [],
   "source": []
  }
 ],
 "metadata": {
  "kernelspec": {
   "display_name": "data.bradford2025.co.uk-DmiwwEw1",
   "language": "python",
   "name": "python3"
  },
  "language_info": {
   "codemirror_mode": {
    "name": "ipython",
    "version": 3
   },
   "file_extension": ".py",
   "mimetype": "text/x-python",
   "name": "python",
   "nbconvert_exporter": "python",
   "pygments_lexer": "ipython3",
   "version": "3.12.4"
  }
 },
 "nbformat": 4,
 "nbformat_minor": 2
}
