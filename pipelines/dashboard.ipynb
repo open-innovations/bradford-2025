{
 "cells": [
  {
   "cell_type": "code",
   "execution_count": 2,
   "metadata": {
    "tags": [
     "parameters"
    ]
   },
   "outputs": [],
   "source": [
    "target: str = ''\n",
    "start: str = '2025-01-01'\n",
    "end: str = '2025-12-31'\n",
    "fixed_date: str = 'false'"
   ]
  },
  {
   "cell_type": "code",
   "execution_count": 3,
   "metadata": {},
   "outputs": [],
   "source": [
    "import json\n",
    "from datetime import date\n",
    "\n",
    "import petl as etl\n",
    "from utils.paths import PUBLISHED, SITE"
   ]
  },
  {
   "cell_type": "code",
   "execution_count": 4,
   "metadata": {},
   "outputs": [],
   "source": [
    "TARGET = SITE / 'insights/dashboard' / target / '_data'"
   ]
  },
  {
   "cell_type": "code",
   "execution_count": 5,
   "metadata": {},
   "outputs": [],
   "source": [
    "TARGET.mkdir(exist_ok=True, parents=True)"
   ]
  },
  {
   "cell_type": "code",
   "execution_count": 6,
   "metadata": {},
   "outputs": [],
   "source": [
    "date_range = (\n",
    "    date.fromisoformat(start),\n",
    "    min(date.today(), date.fromisoformat(end)) if fixed_date == 'false' else date.fromisoformat(end)\n",
    ")"
   ]
  },
  {
   "cell_type": "code",
   "execution_count": 7,
   "metadata": {},
   "outputs": [],
   "source": [
    "with open(TARGET / 'timestamp.json', 'w') as f:\n",
    "    json.dump(dict(zip(['start', 'end'], (str(x) for x in date_range))), f)"
   ]
  },
  {
   "cell_type": "code",
   "execution_count": 8,
   "metadata": {},
   "outputs": [],
   "source": [
    "data = (\n",
    "    etl\n",
    "    .fromjson(PUBLISHED / 'programme/projects.json')\n",
    "    .convert(['Date From', 'Date To'], etl.dateparser('%Y-%m-%d'))\n",
    "    .selectge('Date To', date_range[0])\n",
    "    .selectle('Date From', date_range[1])\n",
    ")"
   ]
  },
  {
   "cell_type": "code",
   "execution_count": 9,
   "metadata": {},
   "outputs": [],
   "source": [
    "def rowgenerator(row):\n",
    "    for v in row['Producing model (from Audiences Sync)']:\n",
    "        yield [v]\n",
    "\n",
    "producing_model = etl.cat(\n",
    "    data\n",
    "    .rowmapmany(rowgenerator, header=['Producing model'])\n",
    "    .aggregate('Producing model', len),\n",
    "\n",
    "    data\n",
    "    .selecteq('Producing model (from Audiences Sync)', [])\n",
    "    .aggregate(None, len)\n",
    "    .addfield('Producing model', 'UNKNOWN')\n",
    ")"
   ]
  },
  {
   "cell_type": "code",
   "execution_count": 10,
   "metadata": {},
   "outputs": [],
   "source": [
    "projects = {\n",
    "    'count': data.nrows(),\n",
    "    'producing_model': dict(producing_model.records())\n",
    "}"
   ]
  },
  {
   "cell_type": "code",
   "execution_count": 11,
   "metadata": {},
   "outputs": [],
   "source": [
    "with open(TARGET / 'events.json', 'w') as f:\n",
    "    json.dump(\n",
    "        {\n",
    "            'projects': projects\n",
    "        },\n",
    "        f,\n",
    "        indent=2\n",
    "    )"
   ]
  },
  {
   "cell_type": "markdown",
   "metadata": {},
   "source": [
    "## Tickets"
   ]
  },
  {
   "cell_type": "code",
   "execution_count": 12,
   "metadata": {},
   "outputs": [],
   "source": [
    "ticketed_events = (\n",
    "    etl\n",
    "    .fromcsv(PUBLISHED / 'ticketing/event-instances.csv')\n",
    "    .convert('start', etl.dateparser('%Y-%m-%d %H:%M:%S'))\n",
    "    .selectrangeopenleft('start', date_range[0], date_range[1])\n",
    "    .selectcontains('eventType', 'MainProgrammeEvent')\n",
    ")"
   ]
  },
  {
   "cell_type": "code",
   "execution_count": 13,
   "metadata": {},
   "outputs": [],
   "source": [
    "tickets_sold = (\n",
    "    etl\n",
    "    .fromcsv(PUBLISHED / 'ticketing/tickets.csv')\n",
    "    .selecteq('geography_type', 'oslaua')\n",
    "    .rightjoin(ticketed_events.cut('instance_id', 'event_name'))\n",
    "    .cut('event_name', 'geography_code', 'count_of_tickets')\n",
    "    .convertnumbers()\n",
    "    .selectnotnone('count_of_tickets')\n",
    ")"
   ]
  },
  {
   "cell_type": "code",
   "execution_count": null,
   "metadata": {},
   "outputs": [],
   "source": [
    "ticket_summary = {\n",
    "    'events': {\n",
    "        'names': list(ticketed_events.cut('event_name').distinct().values('event_name')),\n",
    "        'count': ticketed_events.nrows(),\n",
    "    },\n",
    "    'sold': {\n",
    "        'total': sum(tickets_sold.values('count_of_tickets')),\n",
    "        'bradford': sum(tickets_sold.selecteq('geography_code', 'E08000032').values('count_of_tickets')),\n",
    "    }\n",
    "}"
   ]
  },
  {
   "cell_type": "code",
   "execution_count": 15,
   "metadata": {},
   "outputs": [],
   "source": [
    "with open(TARGET / 'tickets.json', 'w') as f:\n",
    "    json.dump(\n",
    "        ticket_summary,\n",
    "        f,\n",
    "        indent=2\n",
    "    )"
   ]
  },
  {
   "cell_type": "markdown",
   "metadata": {},
   "source": [
    "## Volunteers"
   ]
  },
  {
   "cell_type": "code",
   "execution_count": 50,
   "metadata": {},
   "outputs": [],
   "source": [
    "shifts = (\n",
    "    etl\n",
    "    .fromcsv(PUBLISHED / 'volunteers/shifts.csv')\n",
    "    .convert('date', etl.dateparser('%Y-%m-%d'))\n",
    "    .selecteq('type', 'BD25 Event')\n",
    "    .selectrangeopenleft('date', date_range[0], date_range[1])\n",
    "    .convertnumbers(strict=False)\n",
    ")"
   ]
  },
  {
   "cell_type": "code",
   "execution_count": 63,
   "metadata": {},
   "outputs": [],
   "source": [
    "volunteer_shifts_summary = {\n",
    "    'events': {\n",
    "        'count': shifts.cut('rosterfy_event_name').distinct().nrows(),\n",
    "        'names': list(shifts.cut('rosterfy_event_name').distinct().values('rosterfy_event_name')),\n",
    "    },\n",
    "    'shifts': {\n",
    "        'count': shifts.nrows(),\n",
    "        'attended': sum(shifts.values('attended')),\n",
    "        'hours': sum(shifts.values('hours')),\n",
    "    }\n",
    "}"
   ]
  },
  {
   "cell_type": "code",
   "execution_count": 64,
   "metadata": {},
   "outputs": [],
   "source": [
    "with open(TARGET / 'volunteer_shifts.json', 'w') as f:\n",
    "    json.dump(\n",
    "        volunteer_shifts_summary,\n",
    "        f,\n",
    "        indent=2\n",
    "    )"
   ]
  },
  {
   "cell_type": "code",
   "execution_count": null,
   "metadata": {},
   "outputs": [],
   "source": []
  }
 ],
 "metadata": {
  "kernelspec": {
   "display_name": "bd25-L4uOQWuf",
   "language": "python",
   "name": "python3"
  },
  "language_info": {
   "codemirror_mode": {
    "name": "ipython",
    "version": 3
   },
   "file_extension": ".py",
   "mimetype": "text/x-python",
   "name": "python",
   "nbconvert_exporter": "python",
   "pygments_lexer": "ipython3",
   "version": "3.12.3"
  }
 },
 "nbformat": 4,
 "nbformat_minor": 2
}
