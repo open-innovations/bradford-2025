{
 "cells": [
  {
   "cell_type": "markdown",
   "metadata": {},
   "source": [
    "# Dashboard\n",
    "\n",
    "This pipeline processes data into a form to drive the dashboard."
   ]
  },
  {
   "cell_type": "markdown",
   "metadata": {},
   "source": [
    "The parameters are injected using papermill."
   ]
  },
  {
   "cell_type": "code",
   "execution_count": 1,
   "metadata": {},
   "outputs": [],
   "source": [
    "DEBUG = 'live'\n",
    "if DEBUG:\n",
    "    import yaml\n",
    "    with open('./params.yaml') as f:\n",
    "        config = yaml.load(f, yaml.SafeLoader)['dashboards'][DEBUG]\n",
    "\n",
    "    target = config['target']\n",
    "    start = config['start']\n",
    "    end = config['end']\n",
    "    fixed_date = config['fixed_date']"
   ]
  },
  {
   "cell_type": "code",
   "execution_count": 2,
   "metadata": {
    "tags": [
     "parameters"
    ]
   },
   "outputs": [],
   "source": [
    "target: str\n",
    "start: str\n",
    "end: str\n",
    "fixed_date: str"
   ]
  },
  {
   "cell_type": "markdown",
   "metadata": {},
   "source": [
    "## Setup"
   ]
  },
  {
   "cell_type": "markdown",
   "metadata": {},
   "source": [
    "Import some libraries"
   ]
  },
  {
   "cell_type": "code",
   "execution_count": 3,
   "metadata": {},
   "outputs": [],
   "source": [
    "import json\n",
    "from datetime import date\n",
    "from ast import literal_eval\n",
    "\n",
    "import petl as etl\n",
    "from utils.paths import PUBLISHED, SITE\n",
    "from utils.themes.programme_slice import ProgrammeSlice"
   ]
  },
  {
   "cell_type": "markdown",
   "metadata": {},
   "source": [
    "Set the target directory, and ensure it exists"
   ]
  },
  {
   "cell_type": "code",
   "execution_count": 4,
   "metadata": {},
   "outputs": [],
   "source": [
    "TARGET = SITE / 'insights/dashboard' / target / '_data'\n",
    "TARGET.mkdir(exist_ok=True, parents=True)"
   ]
  },
  {
   "cell_type": "markdown",
   "metadata": {},
   "source": [
    "Calculate the date range. If the `fixed_date` parameter is `false`, make today the latest date."
   ]
  },
  {
   "cell_type": "code",
   "execution_count": 5,
   "metadata": {},
   "outputs": [],
   "source": [
    "date_range = (\n",
    "    date.fromisoformat(start),\n",
    "    min(date.today(), date.fromisoformat(end)) if fixed_date == 'false' else date.fromisoformat(end),\n",
    "    date.today(),\n",
    ")"
   ]
  },
  {
   "cell_type": "markdown",
   "metadata": {},
   "source": [
    "Write the timestamp file"
   ]
  },
  {
   "cell_type": "code",
   "execution_count": 6,
   "metadata": {},
   "outputs": [],
   "source": [
    "with open(TARGET / 'timestamp.json', 'w') as f:\n",
    "    json.dump(dict(zip(['start', 'end', 'updated'], (str(x) for x in date_range))), f)"
   ]
  },
  {
   "cell_type": "markdown",
   "metadata": {},
   "source": [
    "Load programme data"
   ]
  },
  {
   "cell_type": "code",
   "execution_count": 7,
   "metadata": {},
   "outputs": [],
   "source": [
    "programme_data = ProgrammeSlice(range=date_range[0:2])"
   ]
  },
  {
   "cell_type": "markdown",
   "metadata": {},
   "source": [
    "## Events & projects data"
   ]
  },
  {
   "cell_type": "code",
   "execution_count": 8,
   "metadata": {},
   "outputs": [],
   "source": [
    "events = (\n",
    "    programme_data.project_breakdown\n",
    "    .aggregate(['project_name', 'evaluation_category'], sum, 'events', field='events')\n",
    ")"
   ]
  },
  {
   "cell_type": "code",
   "execution_count": 9,
   "metadata": {},
   "outputs": [],
   "source": [
    "project_summary = {\n",
    "    'total': events.distinct('project_name').nrows(),\n",
    "    'by_category': dict(events.aggregate('evaluation_category', len).records()),\n",
    "    'names': list(events.cut('project_name').distinct().values('project_name')),\n",
    "}"
   ]
  },
  {
   "cell_type": "code",
   "execution_count": 10,
   "metadata": {},
   "outputs": [],
   "source": [
    "events_summary = {\n",
    "    'total': sum(events.values('events')),\n",
    "    'by_category': dict(events.aggregate('evaluation_category', sum, 'events').records()),\n",
    "    'by_project': {\n",
    "        r[0]: {'category': r[1], 'count': r[2]}\n",
    "        for r\n",
    "        in events.records()\n",
    "    },\n",
    "}"
   ]
  },
  {
   "cell_type": "code",
   "execution_count": 11,
   "metadata": {},
   "outputs": [
    {
     "data": {
      "text/plain": [
       "{'total': 3873,\n",
       " 'by_category': {'': 139,\n",
       "  'Community-led arts event': 53,\n",
       "  'Digital': 1,\n",
       "  'Exhibition': 759,\n",
       "  'Festival': 50,\n",
       "  'Film': 711,\n",
       "  'In-person': 1746,\n",
       "  'Training and skills development': 414},\n",
       " 'by_project': {'A Good Yarn: Luke Jerram': {'category': 'In-person',\n",
       "   'count': 34},\n",
       "  'A Portrait of Us - Outdoor Exhibition': {'category': 'In-person',\n",
       "   'count': 2},\n",
       "  'A Screen Near You - Cinema for All (grassroots development and screening)': {'category': 'In-person',\n",
       "   'count': 8},\n",
       "  'A Screen Near You - The Incredible Moving Cinema': {'category': 'In-person',\n",
       "   'count': 9},\n",
       "  'ARCHIVE: How Soon Is Now (grant dependent)': {'category': 'In-person',\n",
       "   'count': 2},\n",
       "  'Akram Khan and Dance United - Memories of the Future': {'category': 'In-person',\n",
       "   'count': 7},\n",
       "  'An Evening with Resi/Dance @ The Beacon (Dance United)': {'category': 'In-person',\n",
       "   'count': 1},\n",
       "  'An Evening with: Jacqui Dankworth': {'category': 'In-person', 'count': 1},\n",
       "  'Aswad Arts Presents StreetSounds \"LIVE\" Bhangra Niche Set \"LIVE\"': {'category': 'In-person',\n",
       "   'count': 1},\n",
       "  'At The 1 in 12': {'category': 'In-person', 'count': 4},\n",
       "  'BBC 4-Leeds Piano Competition 2024': {'category': 'In-person', 'count': 1},\n",
       "  'BBC Bitesize': {'category': 'In-person', 'count': 2},\n",
       "  'BBC Extraordinary Portraits': {'category': 'Exhibition', 'count': 20},\n",
       "  'BBC Introducing @ The Beacon': {'category': 'In-person', 'count': 2},\n",
       "  'BBC Introducing at The Underground': {'category': 'In-person', 'count': 2},\n",
       "  'BBC: Not Even Water Live (Podcast Recording)': {'category': 'In-person',\n",
       "   'count': 1},\n",
       "  'BD is Lit 2023': {'category': 'In-person', 'count': 1},\n",
       "  'BD: Walls': {'category': 'In-person', 'count': 15},\n",
       "  'Back In The Pink - Castles In The Sky': {'category': 'In-person',\n",
       "   'count': 1},\n",
       "  'Bantam of the Opera': {'category': 'In-person', 'count': 1},\n",
       "  'Basel Zaraa - Moomins': {'category': 'In-person', 'count': 30},\n",
       "  'Bassline Symphony': {'category': 'In-person', 'count': 50},\n",
       "  'Beacon': {'category': 'In-person', 'count': 3},\n",
       "  'Beacon Church Community Cuppa': {'category': 'In-person', 'count': 1},\n",
       "  'Beacon Feature Curtain': {'category': 'In-person', 'count': 3},\n",
       "  'Big Brass Blowout': {'category': 'Festival', 'count': 23},\n",
       "  'Big Quiffy Bingo': {'category': 'In-person', 'count': 1},\n",
       "  'Big Screen - Cannon Mills': {'category': 'In-person', 'count': 6},\n",
       "  'Bloom': {'category': 'In-person', 'count': 7},\n",
       "  'Bradford 2025 Mini Launch Event - Keighley': {'category': 'In-person',\n",
       "   'count': 1},\n",
       "  'Bradford 2025 Partners and Funders Networking Event': {'category': 'In-person',\n",
       "   'count': 1},\n",
       "  'Bradford 2025 Volunteer Celebration': {'category': 'In-person', 'count': 1},\n",
       "  'Bradford Belles': {'category': 'In-person', 'count': 2},\n",
       "  'Bradford City Fire 40th Anniversary Memorial': {'category': 'In-person',\n",
       "   'count': 1},\n",
       "  'Bradford Glow': {'category': 'In-person', 'count': 2},\n",
       "  'Bradford Literature Festival - New Commissions': {'category': 'Festival',\n",
       "   'count': 1},\n",
       "  'Bradford Literature Festival @ Loading Bay': {'category': 'In-person',\n",
       "   'count': 4},\n",
       "  'Bradford Made MASTER': {'category': 'In-person', 'count': 4},\n",
       "  'Bradford On Foot': {'category': 'Digital', 'count': 0},\n",
       "  'Bradford Poetry Slam 2025': {'category': 'In-person', 'count': 27},\n",
       "  'Bradford Producing Hub': {'category': 'Training and skills development',\n",
       "   'count': 400},\n",
       "  'Bradford Progress': {'category': 'Digital', 'count': 0},\n",
       "  'Bradford Sanctuary Seekers Education Awards 2025': {'category': 'In-person',\n",
       "   'count': 1},\n",
       "  'Bradford Selection': {'category': 'In-person', 'count': 31},\n",
       "  'Bradford South Young Peoples Celebration (Youth Service)': {'category': 'In-person',\n",
       "   'count': 1},\n",
       "  'Bradford on Foot': {'category': 'In-person', 'count': 17},\n",
       "  \"Bradford's Bigger Picture - Pictureville Year Round Programme\": {'category': 'In-person',\n",
       "   'count': 14},\n",
       "  'Bradford: A City of Film': {'category': 'In-person', 'count': 6},\n",
       "  'CBeebies Bedtime Story Day': {'category': 'In-person', 'count': 8},\n",
       "  'CHANNELS': {'category': 'Digital', 'count': 0},\n",
       "  'Celebrations of Bradford 2025 and LNER Partnership': {'category': 'In-person',\n",
       "   'count': 1},\n",
       "  'Channels (Bodies of Water) - Turbynes': {'category': 'In-person',\n",
       "   'count': 5},\n",
       "  'Claytime': {'category': 'In-person', 'count': 4},\n",
       "  'Closing Event - Emily Lim/Dan Canham': {'category': 'In-person',\n",
       "   'count': 1},\n",
       "  'Club Ekta Events': {'category': 'In-person', 'count': 2},\n",
       "  \"Comma Press 'Book of the City'\": {'category': 'In-person', 'count': 10},\n",
       "  'Common/Wealth: Public Interest': {'category': 'In-person', 'count': 18},\n",
       "  'Community Takeover Days at Bradford City Football Club': {'category': 'In-person',\n",
       "   'count': 4},\n",
       "  'Compagnie Off: Giraffes': {'category': 'In-person', 'count': 10},\n",
       "  'Connecting Communities': {'category': 'In-person', 'count': 1},\n",
       "  'Creative Cities Convention': {'category': 'In-person', 'count': 2},\n",
       "  'Creative Health': {'category': 'Training and skills development',\n",
       "   'count': 14},\n",
       "  'Cricket Tournament Awards Ceremony': {'category': 'In-person', 'count': 1},\n",
       "  'Cultural Learning Steering Group': {'category': 'In-person', 'count': 8},\n",
       "  'Curious Investigators': {'category': 'In-person', 'count': 2},\n",
       "  'DRAW': {'category': 'Digital', 'count': 0},\n",
       "  'DRAW & Messy Play': {'category': 'In-person', 'count': 4},\n",
       "  'DRAW!': {'category': 'In-person', 'count': 11},\n",
       "  'Dancing with Colours': {'category': 'In-person', 'count': 1},\n",
       "  'David Hockney: Pieced Together': {'category': 'Exhibition', 'count': 122},\n",
       "  'Daytimers (Heritage Bradford stories)': {'category': 'In-person',\n",
       "   'count': 2},\n",
       "  'Digital Creatives': {'category': 'In-person', 'count': 2},\n",
       "  'Digital Map': {'category': 'In-person', 'count': 4},\n",
       "  'Do your thing micro awards': {'category': 'Community-led arts event',\n",
       "   'count': 53},\n",
       "  'Dracula - Black Eyed Theatre': {'category': 'In-person', 'count': 4},\n",
       "  'Dragons': {'category': 'In-person', 'count': 0},\n",
       "  'Dragons - Eun-Me Ahn Company': {'category': 'In-person', 'count': 2},\n",
       "  'Drum Roll Please': {'category': 'In-person', 'count': 17},\n",
       "  'Earth & Sky (part of Wild Uplands)': {'category': 'Exhibition', 'count': 3},\n",
       "  'Easter Fun and Celebration': {'category': 'In-person', 'count': 1},\n",
       "  'Eggs Collective Dark Nights': {'category': 'In-person', 'count': 2},\n",
       "  'Elevate - Heritage Skills Project': {'category': 'In-person', 'count': 8},\n",
       "  'Eliza Carthy': {'category': 'In-person', 'count': 1},\n",
       "  'FRESH Workshops': {'category': 'In-person', 'count': 1},\n",
       "  'Fighting To Be Heard': {'category': 'Exhibition', 'count': 91},\n",
       "  'Forge - Practical Anarchy': {'category': 'In-person', 'count': 1},\n",
       "  'Forge - Scraps': {'category': 'In-person', 'count': 1},\n",
       "  'Frontline 1984-1985 by Victor Wedderburn': {'category': 'Exhibition',\n",
       "   'count': 60},\n",
       "  \"Ginger Johnson's Fun House\": {'category': 'In-person', 'count': 1},\n",
       "  'Greed - Tavaziva Dance': {'category': 'In-person', 'count': 5},\n",
       "  'Happy Hype': {'category': 'In-person', 'count': 2},\n",
       "  'I AM ME': {'category': 'In-person', 'count': 5},\n",
       "  'Ice Age Art Now': {'category': 'Exhibition', 'count': 10},\n",
       "  'Immersive Arts UK Conference': {'category': 'Festival', 'count': 6},\n",
       "  'International Roma Day Celebration': {'category': 'In-person', 'count': 1},\n",
       "  'Intro to Comedy Workshop Series with Alex Dunlop': {'category': 'In-person',\n",
       "   'count': 7},\n",
       "  \"It's Your Round\": {'category': 'In-person', 'count': 1},\n",
       "  'Jameel Prize: Moving Images': {'category': 'In-person', 'count': 3},\n",
       "  'Journeys with Mai (exhibition)': {'category': 'In-person', 'count': 3},\n",
       "  'Jungle Book ReImagined - Akram Khan Company': {'category': 'In-person',\n",
       "   'count': 2},\n",
       "  'Keighley Cougars Match Day Event': {'category': 'In-person', 'count': 1},\n",
       "  'La Haine – Live': {'category': 'In-person', 'count': 1},\n",
       "  'Lady Bushra (supporting Ginger)': {'category': 'In-person', 'count': 1},\n",
       "  \"Lady Maisery / O'Hooley & Tidow\": {'category': 'In-person', 'count': 1},\n",
       "  'Language: No Broblem - Shubbak Festival': {'category': 'In-person',\n",
       "   'count': 1},\n",
       "  'Launchpad Music Industry Careers Day': {'category': 'In-person',\n",
       "   'count': 5},\n",
       "  'Lay Down Your Burdens': {'category': 'In-person', 'count': 3},\n",
       "  'Learning resources': {'category': 'Digital', 'count': 0},\n",
       "  'Les Enfants Terribles - A Gameshow for Awful Children': {'category': 'In-person',\n",
       "   'count': 1},\n",
       "  'Les Girafes': {'category': 'In-person', 'count': 6},\n",
       "  \"Let's Make\": {'category': 'In-person', 'count': 4},\n",
       "  'Little Wimmin': {'category': 'In-person', 'count': 2},\n",
       "  'Loaded Laughs (#1)': {'category': 'In-person', 'count': 1},\n",
       "  'Loaded Laughs (#2)': {'category': 'In-person', 'count': 1},\n",
       "  'Loud and Proud Dohl Drumming': {'category': 'In-person', 'count': 2},\n",
       "  'Meet Our Mothers': {'category': 'In-person', 'count': 24},\n",
       "  'Multicultural Pentecost Party': {'category': 'In-person', 'count': 1},\n",
       "  'Museums for Play and Growth': {'category': 'In-person', 'count': 2},\n",
       "  'My Thousand Year Old Land': {'category': 'In-person', 'count': 1},\n",
       "  'Nadine Shah @ St. Georges Hall': {'category': 'In-person', 'count': 1},\n",
       "  'Nationhood: Memory and Hope': {'category': 'Exhibition', 'count': 88},\n",
       "  'New Focus: Bradford Young Curators': {'category': 'Exhibition',\n",
       "   'count': 29},\n",
       "  'New Music Biennial': {'category': 'Festival', 'count': 20},\n",
       "  'Northern Soul (Clio Barnard)': {'category': 'In-person', 'count': 8},\n",
       "  'Opera North Earth and Sky': {'category': 'Digital', 'count': 1},\n",
       "  'Our Patch': {'category': 'In-person', 'count': 422},\n",
       "  'Our Patch - Tu i Tam Community Visits': {'category': 'In-person',\n",
       "   'count': 1},\n",
       "  'PLAY Facilitators @ Beacon (all)': {'category': 'In-person', 'count': 9},\n",
       "  'PLAY: Alive & Kicking Drama Adventures': {'category': 'In-person',\n",
       "   'count': 2},\n",
       "  'PLAY: Escape Room Design Challenge': {'category': 'In-person', 'count': 1},\n",
       "  'PLAY: Grue': {'category': 'In-person', 'count': 303},\n",
       "  'PLAY: Intergenerational Play': {'category': 'In-person', 'count': 86},\n",
       "  'PLAY: Playable Commission': {'category': 'In-person', 'count': 1},\n",
       "  'PLAY: Red Ball Project (WOW)': {'category': 'In-person', 'count': 7},\n",
       "  'PLAY: The Great Adventure Build with Woodland Tribe': {'category': 'In-person',\n",
       "   'count': 34},\n",
       "  'Palettes': {'category': 'In-person', 'count': 5},\n",
       "  'Peace Picnics': {'category': 'In-person', 'count': 2},\n",
       "  'Penguin': {'category': 'In-person', 'count': 4},\n",
       "  'Pictureville Screenings': {'category': 'Film', 'count': 711},\n",
       "  \"Pictureville Screenings - 'Brought to Life' Season\": {'category': 'In-person',\n",
       "   'count': 2},\n",
       "  'Pictureville Screenings - Cine Spotlights': {'category': 'In-person',\n",
       "   'count': 2},\n",
       "  'Pictureville Screenings - Film4 Curated Season': {'category': 'In-person',\n",
       "   'count': 1},\n",
       "  'Pictureville Screenings - Northern Youth Film Season': {'category': 'In-person',\n",
       "   'count': 7},\n",
       "  'Pictureville Screenings - Time and Place (Invisible Women)': {'category': 'In-person',\n",
       "   'count': 5},\n",
       "  'Pieced Together': {'category': 'In-person', 'count': 5},\n",
       "  'Pop': {'category': 'In-person', 'count': 2},\n",
       "  'Pop Up Family Pride': {'category': 'In-person', 'count': 1},\n",
       "  'Press Trips': {'category': 'In-person', 'count': 1},\n",
       "  'Programme Launch (Sept 12th event)': {'category': 'In-person', 'count': 1},\n",
       "  'Punjabi Heritage and Culture by Saath': {'category': 'In-person',\n",
       "   'count': 1},\n",
       "  'Qawalli Night at The Beacon': {'category': 'In-person', 'count': 4},\n",
       "  'RISE': {'category': 'In-person', 'count': 38},\n",
       "  'Ramadan Festival': {'category': 'In-person', 'count': 2},\n",
       "  'Ramadan Pavillion': {'category': 'In-person', 'count': 3},\n",
       "  'Robyn Hood - Fidget Theatre': {'category': 'In-person', 'count': 2},\n",
       "  'Roshni': {'category': 'In-person', 'count': 1},\n",
       "  'STRIKE': {'category': 'In-person', 'count': 2},\n",
       "  'Saltaire Heritage Day': {'category': 'In-person', 'count': 1},\n",
       "  'Sarab': {'category': 'In-person', 'count': 1},\n",
       "  'Say It As It Is - Bowling': {'category': 'In-person', 'count': 1},\n",
       "  'Say It As It Is - Wibsey': {'category': 'In-person', 'count': 2},\n",
       "  'Share Your Story at Beacon (National Literacy Trust)': {'category': 'In-person',\n",
       "   'count': 9},\n",
       "  'Sing, Dance, Leap': {'category': 'In-person', 'count': 88},\n",
       "  'Sisters 360': {'category': 'In-person', 'count': 5},\n",
       "  'So Far, So Good (Yorkshire Dance, as part of BD FEST)': {'category': 'In-person',\n",
       "   'count': 4},\n",
       "  'Spin Arts: RIDE': {'category': 'In-person', 'count': 1},\n",
       "  'Sponsorship - Alhambra Philanthropy': {'category': 'In-person', 'count': 1},\n",
       "  'Sponsorship - Bradford Means Business': {'category': 'In-person',\n",
       "   'count': 2},\n",
       "  'Sponsorship - Business Breakfast': {'category': 'In-person', 'count': 1},\n",
       "  'Sponsorship - High Sheriff': {'category': 'In-person', 'count': 1},\n",
       "  'Sponsorship - Insider Placemaking': {'category': 'In-person', 'count': 1},\n",
       "  'Sponsorship - Loading Bay Funder': {'category': 'In-person', 'count': 1},\n",
       "  'Sponsorship - Northern Trains': {'category': 'In-person', 'count': 1},\n",
       "  'Sponsorship - Sports Awards': {'category': 'In-person', 'count': 2},\n",
       "  'Sponsorship - Super Soapbox Challenge': {'category': 'In-person',\n",
       "   'count': 1},\n",
       "  'Sponsorship - YABA': {'category': 'In-person', 'count': 1},\n",
       "  'Sponsorship - Yorkshire Water': {'category': 'In-person', 'count': 1},\n",
       "  'Spread the Word About Bradford 2025': {'category': 'In-person', 'count': 2},\n",
       "  'Street Choirs Festival': {'category': 'In-person', 'count': 2},\n",
       "  'Sustenance the Power of Food': {'category': 'In-person', 'count': 1},\n",
       "  'TCF Artist Residency': {'category': 'In-person', 'count': 4},\n",
       "  'Tape Letters': {'category': 'Exhibition', 'count': 17},\n",
       "  'Tech Styles @ The Beacon': {'category': 'In-person', 'count': 2},\n",
       "  'Teen Scene Party': {'category': 'In-person', 'count': 2},\n",
       "  'Testo': {'category': 'In-person', 'count': 2},\n",
       "  'The 56': {'category': 'In-person', 'count': 3},\n",
       "  'The Belgrave House Band - Back to Black': {'category': 'In-person',\n",
       "   'count': 1},\n",
       "  'The Big Creative Summit - Investment in West Yorkshire': {'category': 'In-person',\n",
       "   'count': 1},\n",
       "  'The Big Thing - Immersive Arts': {'category': 'In-person', 'count': 2},\n",
       "  'The Bradford Progress': {'category': 'In-person', 'count': 21},\n",
       "  'The Dreams I Had: Andrea Dunbar': {'category': 'In-person', 'count': 2},\n",
       "  'The Portrait of Mai: Youth Engagement Programme': {'category': 'Exhibition',\n",
       "   'count': 3},\n",
       "  'The Railway Children': {'category': 'In-person', 'count': 25},\n",
       "  'The Sticky Dance': {'category': 'In-person', 'count': 2},\n",
       "  'The Tiger Lillies': {'category': 'In-person', 'count': 1},\n",
       "  'Tour the Writer': {'category': 'In-person', 'count': 20},\n",
       "  'Tower of Now Engagement Strand': {'category': 'In-person', 'count': 1},\n",
       "  'Tower of Now: Saad Qureshi (programme strand)': {'category': 'In-person',\n",
       "   'count': 1},\n",
       "  'Toxic - Dibby Theatre': {'category': 'In-person', 'count': 1},\n",
       "  'Tu i Tam / Tyt i Tam: Tim Smith & Lodz Fotofestival': {'category': 'Exhibition',\n",
       "   'count': 7},\n",
       "  'University of Bradford Programme': {'category': 'In-person', 'count': 2},\n",
       "  'Unspun - 509 Arts': {'category': 'Exhibition', 'count': 6},\n",
       "  'WOW Community Partnership': {'category': 'In-person', 'count': 1},\n",
       "  'Wandering Imaginations: Emerging Fantasy Writer Exchange': {'category': 'Exhibition',\n",
       "   'count': 10},\n",
       "  \"We Will Sing by Ann Hamilton at Salt's Mill\": {'category': 'Exhibition',\n",
       "   'count': 15},\n",
       "  'West Yorkshire Young Poet Laureate': {'category': 'In-person', 'count': 1},\n",
       "  'Where It All Begain': {'category': 'Exhibition', 'count': 126},\n",
       "  'Where It Began – Osman Yousefzada': {'category': 'Exhibition', 'count': 26},\n",
       "  'Whine List': {'category': 'In-person', 'count': 1},\n",
       "  'Wild Uplands': {'category': 'Exhibition', 'count': 35},\n",
       "  'Wonky Olympics': {'category': 'In-person', 'count': 3},\n",
       "  'World Piano Day 2025': {'category': 'In-person', 'count': 1},\n",
       "  'YOU:MATTER': {'category': 'Exhibition', 'count': 91},\n",
       "  'Youth Club in Bowling Park (closed event)': {'category': 'In-person',\n",
       "   'count': 1},\n",
       "  'Youthology': {'category': 'In-person', 'count': 1},\n",
       "  'Zee and the City': {'category': 'In-person', 'count': 3},\n",
       "  'asses.masses': {'category': 'In-person', 'count': 2},\n",
       "  'zz - Beacon - Non-project related venue activity': {'category': 'In-person',\n",
       "   'count': 2},\n",
       "  'zz - Loading Bay Venue Activity (non-project related)': {'category': 'In-person',\n",
       "   'count': 5}}}"
      ]
     },
     "execution_count": 11,
     "metadata": {},
     "output_type": "execute_result"
    }
   ],
   "source": [
    "events_summary"
   ]
  },
  {
   "cell_type": "code",
   "execution_count": 12,
   "metadata": {},
   "outputs": [],
   "source": [
    "with open(TARGET / 'events.json', 'w') as f:\n",
    "    json.dump(\n",
    "        events_summary,\n",
    "        f,\n",
    "        indent=2\n",
    "    )\n",
    "\n",
    "with open(TARGET / 'projects.json', 'w') as f:\n",
    "    json.dump(\n",
    "        project_summary,\n",
    "        f,\n",
    "        indent=2\n",
    "    )"
   ]
  },
  {
   "cell_type": "markdown",
   "metadata": {},
   "source": [
    "## Audiences"
   ]
  },
  {
   "cell_type": "code",
   "execution_count": 13,
   "metadata": {},
   "outputs": [],
   "source": [
    "audience_data = (\n",
    "    programme_data.project_breakdown\n",
    "    .aggregate(['project_name', 'evaluation_category'], sum, 'audience', field='audience')\n",
    "    .replace('audience', 0, None)\n",
    ")"
   ]
  },
  {
   "cell_type": "code",
   "execution_count": 14,
   "metadata": {},
   "outputs": [],
   "source": [
    "project_to_spektrix_lookup = etl.fromcsv(PUBLISHED / 'lookups/project_to_spektrix_event.csv')"
   ]
  },
  {
   "cell_type": "code",
   "execution_count": 15,
   "metadata": {},
   "outputs": [],
   "source": [
    "tickets_sold = (\n",
    "    etl\n",
    "    .fromcsv(PUBLISHED / 'ticketing/tickets.csv')\n",
    "    .selecteq('geography_type', 'oslaua')\n",
    "    .rightjoin(\n",
    "        etl\n",
    "        .fromcsv(PUBLISHED / 'ticketing/event-instances.csv')\n",
    "        .convert('start', etl.dateparser('%Y-%m-%d %H:%M:%S'))\n",
    "        .selectrangeopen('start', date_range[0], date_range[1])\n",
    "        .selectcontains('eventType', 'MainProgrammeEvent')\n",
    "        .cut('instance_id', 'event_name', 'event_id')\n",
    "    )\n",
    "    .cut('event_name', 'event_id', 'geography_code', 'count_of_tickets')\n",
    "    .convertnumbers()\n",
    "    .selectnotnone('count_of_tickets')\n",
    "    .aggregate(['event_name', 'event_id', 'geography_code'], sum, 'count_of_tickets', field='count_of_tickets')\n",
    "\n",
    "    .leftjoin(project_to_spektrix_lookup.cutout('event_name'), lkey='event_id', rkey='event_id')\n",
    "\n",
    "    .convert('event_name', lambda _, r: r.project_name, where=lambda r: r.project_name is not None, pass_row=True)\n",
    ")"
   ]
  },
  {
   "cell_type": "code",
   "execution_count": 16,
   "metadata": {},
   "outputs": [],
   "source": [
    "tickets_scanned = dict(\n",
    "    etl\n",
    "    .fromcsv(PUBLISHED / 'manual/spektrix-sales-and-scans.csv')\n",
    "    .convert('Event Date', etl.dateparser('%Y-%m-%d'))\n",
    "    .selectrangeopen('Event Date', date_range[0], date_range[1])\n",
    "    .convertnumbers()\n",
    "    .aggregate(None, {\n",
    "        'sold': ('Sold', sum),\n",
    "        'scanned': ('Scanned', sum)\n",
    "    })\n",
    "    .melt(variables=['sold', 'scanned'])\n",
    "    .records()\n",
    ")"
   ]
  },
  {
   "cell_type": "code",
   "execution_count": 17,
   "metadata": {},
   "outputs": [],
   "source": [
    "ticketed_audience = {\n",
    "    'sold': {\n",
    "        'total': sum(tickets_sold.values('count_of_tickets')),\n",
    "        'bradford': sum(tickets_sold.selecteq('geography_code', 'E08000032').values('count_of_tickets')),\n",
    "        'by_project': dict(tickets_sold.aggregate('event_name', sum, 'count_of_tickets', field='count_of_tickets').records()),\n",
    "        'by_geo': dict(tickets_sold.aggregate('geography_code', sum, 'count_of_tickets', field='count_of_tickets').records()),\n",
    "    },\n",
    "    'scanned': {\n",
    "        'total': tickets_scanned\n",
    "    }\n",
    "}"
   ]
  },
  {
   "cell_type": "markdown",
   "metadata": {},
   "source": [
    "Try to get audience for tickets that aren't matched"
   ]
  },
  {
   "cell_type": "code",
   "execution_count": 18,
   "metadata": {},
   "outputs": [],
   "source": [
    "audience_from_spektrix = tickets_sold.selectnone('project_name').aggregate('event_name', sum, 'count_of_tickets').addfield('evaluation_category', 'UNKNOWN').rename({\n",
    "    'event_name': 'project_name',\n",
    "    'value': 'audience'\n",
    "})"
   ]
  },
  {
   "cell_type": "code",
   "execution_count": 19,
   "metadata": {},
   "outputs": [],
   "source": [
    "audience_plus_ticket_data = (\n",
    "    audience_data\n",
    "    .leftjoin(tickets_sold.aggregate(['project_name'], sum, 'count_of_tickets', field='ticketed_audience'))\n",
    "    .fillleft()\n",
    "    .selectnotnone('audience')\n",
    ")"
   ]
  },
  {
   "cell_type": "code",
   "execution_count": 20,
   "metadata": {},
   "outputs": [],
   "source": [
    "all_audience = etl.cat(\n",
    "    audience_plus_ticket_data,\n",
    "    audience_from_spektrix,\n",
    ")"
   ]
  },
  {
   "cell_type": "code",
   "execution_count": 21,
   "metadata": {},
   "outputs": [],
   "source": [
    "audience = {\n",
    "    'total': sum(all_audience.values('audience')),\n",
    "    'by_category': dict(\n",
    "        all_audience\n",
    "        .aggregate(['evaluation_category'], sum, 'audience')\n",
    "        .records()\n",
    "    ),\n",
    "    'by_project': {\n",
    "        r[0]: {'category': r[1], 'count': r[2]}\n",
    "        for r\n",
    "        in all_audience\n",
    "        .aggregate(['project_name', 'evaluation_category'], sum, 'audience')\n",
    "        .records()\n",
    "    },\n",
    "}"
   ]
  },
  {
   "cell_type": "code",
   "execution_count": 22,
   "metadata": {},
   "outputs": [],
   "source": [
    "with open(TARGET / 'audience.json', 'w') as f:\n",
    "    json.dump(\n",
    "        audience | {\n",
    "            'ticketed': ticketed_audience,\n",
    "            'unticketed': None,\n",
    "        },\n",
    "        f,\n",
    "        indent=2\n",
    "    )"
   ]
  },
  {
   "cell_type": "markdown",
   "metadata": {},
   "source": [
    "## Participants"
   ]
  },
  {
   "cell_type": "markdown",
   "metadata": {},
   "source": [
    "### Programme"
   ]
  },
  {
   "cell_type": "code",
   "execution_count": 23,
   "metadata": {},
   "outputs": [],
   "source": [
    "programme_participants = (\n",
    "    programme_data.project_breakdown\n",
    "    .melt(variables=[\n",
    "        'schedule_participants_community',\n",
    "        'manual_participants_community',\n",
    "        # 'manual_participants_schools'\n",
    "    ])\n",
    "    .convert('variable', lambda f: f.replace('manual_','').replace('schedule_',''))\n",
    "    .selectnotnone('value')\n",
    "    .aggregate(['project_name', 'evaluation_category', 'variable'], sum, 'value')\n",
    "    .recast(samplesize=1_000_000)\n",
    "    .selectgt('participants_community', 0)\n",
    ")"
   ]
  },
  {
   "cell_type": "markdown",
   "metadata": {},
   "source": [
    "### Cultural learning"
   ]
  },
  {
   "cell_type": "code",
   "execution_count": 24,
   "metadata": {},
   "outputs": [],
   "source": [
    "import petl as etl\n",
    "from datetime import date\n",
    "import ast\n",
    "\n",
    "\n",
    "cultural_learning_engagements = (\n",
    "    etl\n",
    "    .fromcsv(PUBLISHED / 'cultural-learning/engagements.csv' )\n",
    "    .convert(['date', 'month'], date.fromisoformat)\n",
    "    .selectnotnone('date')\n",
    "    .selectrangeopen('date', *date_range[:2])\n",
    "    .convertnumbers()\n",
    "    .convert('organisation_ids', ast.literal_eval)\n",
    ")\n",
    "\n",
    "cultural_learning_settings = (\n",
    "    etl\n",
    "    .fromcsv(PUBLISHED / 'programme/venues.csv')\n",
    "    .selecteq('cultural_learning', 'True')\n",
    ")\n",
    "\n",
    "def distinct(items):\n",
    "    cl_orgs = cultural_learning_settings.values('id')\n",
    "    return len({i for s in items for i in s if i in cl_orgs})\n",
    "\n",
    "cultural_learning_summary = (\n",
    "    cultural_learning_engagements\n",
    "    .aggregate(None, {\n",
    "        'participants': ('participants', sum),\n",
    "        'schools_engaged': ('organisation_ids', distinct)\n",
    "    })\n",
    "    .dicts()[0]\n",
    ")"
   ]
  },
  {
   "cell_type": "markdown",
   "metadata": {},
   "source": [
    "Report by org type"
   ]
  },
  {
   "cell_type": "code",
   "execution_count": 25,
   "metadata": {},
   "outputs": [
    {
     "data": {
      "text/html": [
       "<table class='petl'>\n",
       "<thead>\n",
       "<tr>\n",
       "<th>Org/Venue Type</th>\n",
       "<th>value</th>\n",
       "</tr>\n",
       "</thead>\n",
       "<tbody>\n",
       "<tr>\n",
       "<td>['Education Setting']</td>\n",
       "<td style='text-align: right'>148</td>\n",
       "</tr>\n",
       "<tr>\n",
       "<td>[]</td>\n",
       "<td style='text-align: right'>3</td>\n",
       "</tr>\n",
       "</tbody>\n",
       "</table>\n"
      ],
      "text/plain": [
       "+-------------------------+-------+\n",
       "| Org/Venue Type          | value |\n",
       "+=========================+=======+\n",
       "| \"['Education Setting']\" |   148 |\n",
       "+-------------------------+-------+\n",
       "| '[]'                    |     3 |\n",
       "+-------------------------+-------+"
      ]
     },
     "execution_count": 25,
     "metadata": {},
     "output_type": "execute_result"
    }
   ],
   "source": [
    "cultural_learning_settings.aggregate('Org/Venue Type', len)"
   ]
  },
  {
   "cell_type": "markdown",
   "metadata": {},
   "source": [
    "### Volunteers"
   ]
  },
  {
   "cell_type": "code",
   "execution_count": 26,
   "metadata": {},
   "outputs": [],
   "source": [
    "volunteer_signups = (\n",
    "    etl\n",
    "    .fromcsv(PUBLISHED / 'volunteers/checkpoint-updates.csv')\n",
    "    .convert('date', etl.dateparser('%Y-%m-%d'))\n",
    "    .selectle('date', date_range[1])\n",
    "    .convertnumbers(strict=False)\n",
    ")"
   ]
  },
  {
   "cell_type": "code",
   "execution_count": 27,
   "metadata": {},
   "outputs": [],
   "source": [
    "# volunteer_shifts = (\n",
    "#     etl\n",
    "#     .fromcsv(PUBLISHED / 'volunteers/shifts.csv')\n",
    "#     .convert('date', etl.dateparser('%Y-%m-%d'))\n",
    "#     .selecteq('type', 'BD25 Event')\n",
    "#     .selectrangeopen('date', date_range[0], date_range[1])\n",
    "#     .convertnumbers(strict=False)\n",
    "# )"
   ]
  },
  {
   "cell_type": "code",
   "execution_count": 28,
   "metadata": {},
   "outputs": [],
   "source": [
    "volunteer_summary = {\n",
    "    'total': sum(\n",
    "        volunteer_signups\n",
    "        .selectin('checkpoint',  [\"1. Monitoring & Evaluation\", \"2. Sign Up to Induction\", \"3. Fully Inducted Volunteers\"])\n",
    "        .values('count')\n",
    "    ),\n",
    "    'people': {\n",
    "        'checkpoints': dict(volunteer_signups.aggregate('checkpoint', sum, 'count').records()),\n",
    "    },\n",
    "    # 'events': {\n",
    "    #     'count': volunteer_shifts.cut('rosterfy_event_name').distinct().nrows(),\n",
    "    #     'names': list(volunteer_shifts.cut('rosterfy_event_name').distinct().values('rosterfy_event_name')),\n",
    "    # },\n",
    "    # 'shifts': {\n",
    "    #     'count': volunteer_shifts.nrows(),\n",
    "    #     'attended': sum(volunteer_shifts.values('attended')),\n",
    "    #     'hours': sum(volunteer_shifts.values('hours')),\n",
    "    # },\n",
    "}"
   ]
  },
  {
   "cell_type": "markdown",
   "metadata": {},
   "source": [
    "### Other figures"
   ]
  },
  {
   "cell_type": "code",
   "execution_count": 29,
   "metadata": {},
   "outputs": [],
   "source": [
    "other_figures = etl.fromcsv(PUBLISHED / 'manual/manual-other-figures.csv').selecteq('dashboard key', target).convertnumbers()"
   ]
  },
  {
   "cell_type": "code",
   "execution_count": 30,
   "metadata": {},
   "outputs": [
    {
     "data": {
      "text/plain": [
       "{'Bradford Producing Hub': 833,\n",
       " 'Creative Health': 278,\n",
       " 'Digital Creatives scheme': 1632}"
      ]
     },
     "execution_count": 30,
     "metadata": {},
     "output_type": "execute_result"
    }
   ],
   "source": [
    "dict(other_figures.selecteq('variable', 'training_and_skills_development_participants').cut('source', 'value').rename('source', 'project_name').aggregate('project_name', sum, 'value', field='count').records())"
   ]
  },
  {
   "cell_type": "code",
   "execution_count": 31,
   "metadata": {},
   "outputs": [],
   "source": [
    "with open(TARGET / 'otherFigures.json', 'w') as f:\n",
    "    json.dump(\n",
    "        other_figures.aggregate('variable', sum, 'value').transpose().cutout('variable').dicts()[0],\n",
    "        f,\n",
    "        indent=2\n",
    "    )"
   ]
  },
  {
   "cell_type": "markdown",
   "metadata": {},
   "source": [
    "### Summary"
   ]
  },
  {
   "cell_type": "code",
   "execution_count": 32,
   "metadata": {},
   "outputs": [],
   "source": [
    "def summarise_by_type(table):\n",
    "    return {\n",
    "        'count': sum(table.values('count')),\n",
    "        'by_project': {\n",
    "            r.project_name: { 'count': r['count'], 'category': r.get('evaluation_category', 'UNKNOWN') }\n",
    "            for r in\n",
    "            table.selectgt('count', 0).records()\n",
    "        },\n",
    "    }\n",
    "\n",
    "by_type = {\n",
    "    'community_participants': summarise_by_type(programme_participants\n",
    "        .rename('participants_community', 'count')\n",
    "    ),\n",
    "    'training_and_skills_development_participants': summarise_by_type(\n",
    "        other_figures\n",
    "        .selecteq('variable', 'training_and_skills_development_participants')\n",
    "        .cut('source', 'value')\n",
    "        .rename('source', 'project_name')\n",
    "        .aggregate('project_name', sum, 'value', field='count')   \n",
    "    ),\n",
    "    'cultural_learning_participants': summarise_by_type(\n",
    "        cultural_learning_engagements.aggregate('project_name', sum, 'participants', field='count')\n",
    "    )\n",
    "}"
   ]
  },
  {
   "cell_type": "code",
   "execution_count": 33,
   "metadata": {},
   "outputs": [
    {
     "data": {
      "text/plain": [
       "{'community_participants': {'count': 28999,\n",
       "  'by_project': {'A Screen Near You - The Incredible Moving Cinema': {'count': 32,\n",
       "    'category': 'In-person'},\n",
       "   'BBC Extraordinary Portraits': {'count': 2400, 'category': 'Exhibition'},\n",
       "   'BBC Introducing @ The Beacon': {'count': 9, 'category': 'In-person'},\n",
       "   'BD: Walls': {'count': 273, 'category': 'In-person'},\n",
       "   'Back In The Pink - Castles In The Sky': {'count': 7,\n",
       "    'category': 'In-person'},\n",
       "   'Bassline Symphony': {'count': 245, 'category': 'In-person'},\n",
       "   'Big Brass Blowout': {'count': 68, 'category': 'Festival'},\n",
       "   'Bloom': {'count': 165, 'category': 'In-person'},\n",
       "   'Bradford On Foot': {'count': 2162, 'category': 'Digital'},\n",
       "   'CHANNELS': {'count': 786, 'category': 'Digital'},\n",
       "   'Closing Event - Emily Lim/Dan Canham': {'count': 13,\n",
       "    'category': 'In-person'},\n",
       "   'Club Ekta Events': {'count': 22, 'category': 'In-person'},\n",
       "   'Compagnie Off: Giraffes': {'count': 37, 'category': 'In-person'},\n",
       "   'Connecting Communities': {'count': 392, 'category': 'In-person'},\n",
       "   'Cricket Tournament Awards Ceremony': {'count': 120,\n",
       "    'category': 'In-person'},\n",
       "   'DRAW': {'count': 718, 'category': 'Digital'},\n",
       "   'Daytimers (Heritage Bradford stories)': {'count': 22,\n",
       "    'category': 'In-person'},\n",
       "   'Drum Roll Please': {'count': 104, 'category': 'In-person'},\n",
       "   'Elevate - Heritage Skills Project': {'count': 12, 'category': 'In-person'},\n",
       "   'Frontline 1984-1985 by Victor Wedderburn': {'count': 2267,\n",
       "    'category': 'Exhibition'},\n",
       "   'Lay Down Your Burdens': {'count': 3, 'category': 'In-person'},\n",
       "   \"Let's Make\": {'count': 832, 'category': 'In-person'},\n",
       "   'Loud and Proud Dohl Drumming': {'count': 158, 'category': 'In-person'},\n",
       "   'Meet Our Mothers': {'count': 191, 'category': 'In-person'},\n",
       "   'Museums for Play and Growth': {'count': 66, 'category': 'In-person'},\n",
       "   'Our Patch': {'count': 10595, 'category': 'In-person'},\n",
       "   'PLAY Facilitators @ Beacon (all)': {'count': 685, 'category': 'In-person'},\n",
       "   'PLAY: Grue': {'count': 357, 'category': 'In-person'},\n",
       "   'PLAY: Intergenerational Play': {'count': 1029, 'category': 'In-person'},\n",
       "   'PLAY: Playable Commission': {'count': 9, 'category': 'In-person'},\n",
       "   'PLAY: The Great Adventure Build with Woodland Tribe': {'count': 812,\n",
       "    'category': 'In-person'},\n",
       "   'RISE': {'count': 2387, 'category': 'In-person'},\n",
       "   'Say It As It Is - Bowling': {'count': 12, 'category': 'In-person'},\n",
       "   'Say It As It Is - Wibsey': {'count': 15, 'category': 'In-person'},\n",
       "   'Share Your Story at Beacon (National Literacy Trust)': {'count': 474,\n",
       "    'category': 'In-person'},\n",
       "   'TCF Artist Residency': {'count': 23, 'category': 'In-person'},\n",
       "   'Tech Styles @ The Beacon': {'count': 39, 'category': 'In-person'},\n",
       "   'The Bradford Progress': {'count': 629, 'category': 'In-person'},\n",
       "   'The Portrait of Mai: Youth Engagement Programme': {'count': 6,\n",
       "    'category': 'Exhibition'},\n",
       "   'The Railway Children': {'count': 151, 'category': 'In-person'},\n",
       "   'Tower of Now Engagement Strand': {'count': 37, 'category': 'In-person'},\n",
       "   'Tu i Tam / Tyt i Tam: Tim Smith & Lodz Fotofestival': {'count': 7,\n",
       "    'category': 'Exhibition'},\n",
       "   \"We Will Sing by Ann Hamilton at Salt's Mill\": {'count': 30,\n",
       "    'category': 'Exhibition'},\n",
       "   'West Yorkshire Young Poet Laureate': {'count': 17,\n",
       "    'category': 'In-person'},\n",
       "   'Where It Began – Osman Yousefzada': {'count': 65,\n",
       "    'category': 'Exhibition'},\n",
       "   'Wild Uplands': {'count': 245, 'category': 'Exhibition'},\n",
       "   'Wonky Olympics': {'count': 44, 'category': 'In-person'},\n",
       "   'Youth Club in Bowling Park (closed event)': {'count': 227,\n",
       "    'category': 'In-person'}}},\n",
       " 'training_and_skills_development_participants': {'count': 2743,\n",
       "  'by_project': {'Bradford Producing Hub': {'count': 833,\n",
       "    'category': 'UNKNOWN'},\n",
       "   'Creative Health': {'count': 278, 'category': 'UNKNOWN'},\n",
       "   'Digital Creatives scheme': {'count': 1632, 'category': 'UNKNOWN'}}},\n",
       " 'cultural_learning_participants': {'count': 10915,\n",
       "  'by_project': {'A Good Yarn: Luke Jerram': {'count': 145,\n",
       "    'category': 'UNKNOWN'},\n",
       "   'A Screen Near You - The Incredible Moving Cinema': {'count': 32,\n",
       "    'category': 'UNKNOWN'},\n",
       "   'Bassline Symphony': {'count': 249, 'category': 'UNKNOWN'},\n",
       "   'Beacon Feature Curtain': {'count': 54, 'category': 'UNKNOWN'},\n",
       "   'Bradford Glow': {'count': 175, 'category': 'UNKNOWN'},\n",
       "   'Bradford Poetry Slam 2025': {'count': 1773, 'category': 'UNKNOWN'},\n",
       "   'Bradford on Foot': {'count': 330, 'category': 'UNKNOWN'},\n",
       "   'Closing Event - Emily Lim/Dan Canham': {'count': 50,\n",
       "    'category': 'UNKNOWN'},\n",
       "   'Creative Briefs - Escape Room Design': {'count': 11,\n",
       "    'category': 'UNKNOWN'},\n",
       "   'Cultural Learning Steering Group': {'count': 57, 'category': 'UNKNOWN'},\n",
       "   'DRAW! ': {'count': 37, 'category': 'UNKNOWN'},\n",
       "   'Greed - Tavaziva Dance': {'count': 10, 'category': 'UNKNOWN'},\n",
       "   'Ice Age Art Now': {'count': 151, 'category': 'UNKNOWN'},\n",
       "   'Launchpad Music Industry Careers Day': {'count': 72,\n",
       "    'category': 'UNKNOWN'},\n",
       "   'PLAY: Alive & Kicking Drama Adventures': {'count': 86,\n",
       "    'category': 'UNKNOWN'},\n",
       "   'PLAY: Grue': {'count': 439, 'category': 'UNKNOWN'},\n",
       "   'PLAY: Intergenerational Play': {'count': 1065, 'category': 'UNKNOWN'},\n",
       "   'PLAY: The Great Adventure Build with Woodland Tribe': {'count': 126,\n",
       "    'category': 'UNKNOWN'},\n",
       "   'STRIKE': {'count': 52, 'category': 'UNKNOWN'},\n",
       "   'Share Your Story at Beacon (National Literacy Trust)': {'count': 656,\n",
       "    'category': 'UNKNOWN'},\n",
       "   'Sing, Dance, Leap': {'count': 4344, 'category': 'UNKNOWN'},\n",
       "   'The Bradford Progress ': {'count': 30, 'category': 'UNKNOWN'},\n",
       "   'Tu i Tam / Tyt i Tam: Tim Smith & Lodz Fotofestival': {'count': 8,\n",
       "    'category': 'UNKNOWN'},\n",
       "   \"We Will Sing by Ann Hamilton at Salt's Mill\": {'count': 159,\n",
       "    'category': 'UNKNOWN'},\n",
       "   'Where It Began – Osman Yousefzada': {'count': 261, 'category': 'UNKNOWN'},\n",
       "   'Wild Uplands': {'count': 543, 'category': 'UNKNOWN'}}}}"
      ]
     },
     "execution_count": 33,
     "metadata": {},
     "output_type": "execute_result"
    }
   ],
   "source": [
    "by_type"
   ]
  },
  {
   "cell_type": "code",
   "execution_count": 34,
   "metadata": {},
   "outputs": [],
   "source": [
    "participant_summary = {\n",
    "    'total': sum(programme_participants.values('participants_community'))\n",
    "        + cultural_learning_summary['participants']\n",
    "        + volunteer_summary['total']\n",
    "        + sum(other_figures.selectcontains('variable', '_participants').values('value')),\n",
    "\n",
    "    'by_type': by_type,\n",
    "\n",
    "    'cultural_learning': cultural_learning_summary,\n",
    "    'volunteers': volunteer_summary,\n",
    "}"
   ]
  },
  {
   "cell_type": "code",
   "execution_count": 35,
   "metadata": {},
   "outputs": [],
   "source": [
    "with open(TARGET / 'participants.json', 'w') as f:\n",
    "    json.dump(\n",
    "        participant_summary,\n",
    "        f,\n",
    "        indent=2\n",
    "    )"
   ]
  },
  {
   "cell_type": "markdown",
   "metadata": {},
   "source": [
    "## Other figures"
   ]
  },
  {
   "cell_type": "code",
   "execution_count": null,
   "metadata": {},
   "outputs": [],
   "source": []
  }
 ],
 "metadata": {
  "kernelspec": {
   "display_name": "data.bradford2025.co.uk-DmiwwEw1",
   "language": "python",
   "name": "python3"
  },
  "language_info": {
   "codemirror_mode": {
    "name": "ipython",
    "version": 3
   },
   "file_extension": ".py",
   "mimetype": "text/x-python",
   "name": "python",
   "nbconvert_exporter": "python",
   "pygments_lexer": "ipython3",
   "version": "3.12.4"
  }
 },
 "nbformat": 4,
 "nbformat_minor": 2
}
