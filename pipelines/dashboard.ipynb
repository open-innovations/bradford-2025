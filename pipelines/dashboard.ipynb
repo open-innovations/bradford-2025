{
 "cells": [
  {
   "cell_type": "markdown",
   "metadata": {},
   "source": [
    "# Dashboard\n",
    "\n",
    "This pipeline processes data into a form to drive the dashboard."
   ]
  },
  {
   "cell_type": "markdown",
   "metadata": {},
   "source": [
    "The parameters are injected using papermill."
   ]
  },
  {
   "cell_type": "code",
   "execution_count": 117,
   "metadata": {
    "tags": [
     "parameters"
    ]
   },
   "outputs": [],
   "source": [
    "target: str = 'q1'\n",
    "start: str = '2025-01-01'\n",
    "end: str = '2025-03-31'\n",
    "fixed_date: str = 'true'"
   ]
  },
  {
   "cell_type": "markdown",
   "metadata": {},
   "source": [
    "## Setup"
   ]
  },
  {
   "cell_type": "markdown",
   "metadata": {},
   "source": [
    "Import some libraries"
   ]
  },
  {
   "cell_type": "code",
   "execution_count": 118,
   "metadata": {},
   "outputs": [],
   "source": [
    "import json\n",
    "from datetime import date\n",
    "from ast import literal_eval\n",
    "\n",
    "import petl as etl\n",
    "from utils.paths import PUBLISHED, SITE"
   ]
  },
  {
   "cell_type": "markdown",
   "metadata": {},
   "source": [
    "Set the target directory, and ensure it exists"
   ]
  },
  {
   "cell_type": "code",
   "execution_count": 119,
   "metadata": {},
   "outputs": [],
   "source": [
    "TARGET = SITE / 'insights/dashboard' / target / '_data'\n",
    "TARGET.mkdir(exist_ok=True, parents=True)"
   ]
  },
  {
   "cell_type": "markdown",
   "metadata": {},
   "source": [
    "Calculate the date range. If the `fixed_date` parameter is `false`, make today the latest date."
   ]
  },
  {
   "cell_type": "code",
   "execution_count": 120,
   "metadata": {},
   "outputs": [],
   "source": [
    "date_range = (\n",
    "    date.fromisoformat(start),\n",
    "    min(date.today(), date.fromisoformat(end)) if fixed_date == 'false' else date.fromisoformat(end),\n",
    "    date.today(),\n",
    ")"
   ]
  },
  {
   "cell_type": "markdown",
   "metadata": {},
   "source": [
    "Write the timestamp file"
   ]
  },
  {
   "cell_type": "code",
   "execution_count": 121,
   "metadata": {},
   "outputs": [],
   "source": [
    "with open(TARGET / 'timestamp.json', 'w') as f:\n",
    "    json.dump(dict(zip(['start', 'end', 'updated'], (str(x) for x in date_range))), f)"
   ]
  },
  {
   "cell_type": "markdown",
   "metadata": {},
   "source": [
    "## Projects data"
   ]
  },
  {
   "cell_type": "code",
   "execution_count": 122,
   "metadata": {},
   "outputs": [],
   "source": [
    "projects = (\n",
    "    etl\n",
    "    .fromjson(PUBLISHED / 'programme/projects.json')\n",
    "    .convert(['Start Date', 'End Date'], etl.dateparser('%Y-%m-%d'))\n",
    "    .convert('Project Name', lambda x: x.strip())\n",
    "    .selectge('End Date', date_range[0])\n",
    "    .selectle('Start Date', date_range[1])\n",
    ")"
   ]
  },
  {
   "cell_type": "code",
   "execution_count": 123,
   "metadata": {},
   "outputs": [],
   "source": [
    "def category_exploder(row):\n",
    "    for v in row['Producing model']:\n",
    "        yield [v]\n",
    "\n",
    "producing_model = etl.cat(\n",
    "    projects\n",
    "    .rowmapmany(category_exploder, header=['Producing model'])\n",
    "    .aggregate('Producing model', len),\n",
    "\n",
    "    projects\n",
    "    .selecteq('Producing model', [])\n",
    "    .aggregate(None, len)\n",
    "    .addfield('Producing model', 'UNKNOWN')\n",
    ")"
   ]
  },
  {
   "cell_type": "code",
   "execution_count": 124,
   "metadata": {},
   "outputs": [],
   "source": [
    "project_summary = {\n",
    "    'count': projects.nrows(),\n",
    "    'producing_model': dict(producing_model.records()),\n",
    "    'names': list(projects.cut('Project Name').distinct().values('Project Name')),\n",
    "}"
   ]
  },
  {
   "cell_type": "code",
   "execution_count": 125,
   "metadata": {},
   "outputs": [],
   "source": [
    "events = (\n",
    "    etl\n",
    "    .fromcsv(PUBLISHED / 'programme/events.csv')\n",
    "    .convert(['Start Date', 'End Date'], etl.dateparser('%Y-%m-%d'))\n",
    "    .convert('Programme Category', lambda f: set(literal_eval(f)))\n",
    "    .convert('Project Name', lambda x: x.strip())\n",
    "    .replaceall('', None)\n",
    "    .selectge('End Date', date_range[0])\n",
    "    .selectle('Start Date', date_range[1])\n",
    "    .selectin('Item Type', ['Event (any public-facing activity)'])\n",
    "    .selectnotnone('Project Name')\n",
    "\n",
    "    .cut('Start Date', 'End Date', 'project_id', 'Project Name', 'Programme Category')\n",
    "    .convert('Start Date', lambda d: max(d, date_range[0]))\n",
    "    .convert('End Date', lambda d: min(d, date_range[1]))\n",
    "    .addfield('Events', lambda r: max(1, (r['End Date'] - r['Start Date']).days + 1))\n",
    "\n",
    "    .sort(['End Date', 'Start Date'])\n",
    ")"
   ]
  },
  {
   "cell_type": "code",
   "execution_count": 126,
   "metadata": {},
   "outputs": [],
   "source": [
    "manual = (\n",
    "    etl\n",
    "    .fromcsv(PUBLISHED / 'manual/manual-events.csv')\n",
    "    .selectne('Exclude from events count', 'True')\n",
    "    .convert('Date', lambda d: date.fromisoformat(d))\n",
    "    .selectge('Date', date_range[0])\n",
    "    .selectle('Date', date_range[1])\n",
    "    .convertnumbers()\n",
    "    .update('Events', 1, where=lambda r: not r.Events)\n",
    "    .aggregate(['Project', 'Airtable project ID'], sum, 'Events')\n",
    "    .rename({\n",
    "        'Project': 'Project Name',\n",
    "        'Airtable project ID': 'project_id'\n",
    "    })\n",
    ")"
   ]
  },
  {
   "cell_type": "code",
   "execution_count": 127,
   "metadata": {},
   "outputs": [],
   "source": [
    "combined_events = (\n",
    "    etl.cat(\n",
    "        events.aggregate(['project_id', 'Project Name'], sum, 'Events').selectnotin('project_id', [i for i in manual.values('project_id') if i != '']),\n",
    "        manual\n",
    "    )\n",
    "    .cutout('project_id')\n",
    "    .convert('Project Name', lambda n: n.strip())\n",
    "    .convert('Project Name', {\n",
    "        'Rise (AKA - Opening Event)': 'RISE',\n",
    "        'Our Patch (formerly Magic Waiting)': 'Our Patch',\n",
    "    })\n",
    "    .aggregate('Project Name', sum, 'value')\n",
    ")"
   ]
  },
  {
   "cell_type": "code",
   "execution_count": 128,
   "metadata": {},
   "outputs": [],
   "source": [
    "def category_exploder(row):\n",
    "    for c in row['Programme Category']:\n",
    "        yield (row['Project Name'], c)\n",
    "\n",
    "events_summary = {\n",
    "    'count': events.nrows(),\n",
    "    # TODO Update this when there is a way of filtering by in-person / online events\n",
    "    'breakdown': {\n",
    "        'in_person': events.nrows(),\n",
    "        'digital': 0,\n",
    "    },\n",
    "    'projects': dict(combined_events.records()),\n",
    "    'categories': dict(events.cut('Project Name', 'Programme Category').rowmapmany(category_exploder, header=['project', 'category']).aggregate(['category'], len).records())\n",
    "}"
   ]
  },
  {
   "cell_type": "code",
   "execution_count": 129,
   "metadata": {},
   "outputs": [],
   "source": [
    "with open(TARGET / 'events.json', 'w') as f:\n",
    "    json.dump(\n",
    "        {\n",
    "            'projects': project_summary,\n",
    "            'events': events_summary,\n",
    "        },\n",
    "        f,\n",
    "        indent=2\n",
    "    )"
   ]
  },
  {
   "cell_type": "markdown",
   "metadata": {},
   "source": [
    "## Tickets"
   ]
  },
  {
   "cell_type": "code",
   "execution_count": 130,
   "metadata": {},
   "outputs": [],
   "source": [
    "ticketed_events = (\n",
    "    etl\n",
    "    .fromcsv(PUBLISHED / 'ticketing/event-instances.csv')\n",
    "    .convert('start', etl.dateparser('%Y-%m-%d %H:%M:%S'))\n",
    "    .selectrangeopen('start', date_range[0], date_range[1])\n",
    "    .selectcontains('eventType', 'MainProgrammeEvent')\n",
    ")"
   ]
  },
  {
   "cell_type": "code",
   "execution_count": 131,
   "metadata": {},
   "outputs": [],
   "source": [
    "tickets_sold = (\n",
    "    etl\n",
    "    .fromcsv(PUBLISHED / 'ticketing/tickets.csv')\n",
    "    .selecteq('geography_type', 'oslaua')\n",
    "    .rightjoin(ticketed_events.cut('instance_id', 'event_name'))\n",
    "    .cut('event_name', 'geography_code', 'count_of_tickets')\n",
    "    .convertnumbers()\n",
    "    .selectnotnone('count_of_tickets')\n",
    ")"
   ]
  },
  {
   "cell_type": "code",
   "execution_count": 132,
   "metadata": {},
   "outputs": [],
   "source": [
    "tickets_scanned = dict(\n",
    "    etl\n",
    "    .fromcsv(PUBLISHED / 'manual/spektrix-sales-and-scans.csv')\n",
    "    .convert('Event Date', etl.dateparser('%Y-%m-%d'))\n",
    "    .selectrangeopen('Event Date', date_range[0], date_range[1])\n",
    "    .convertnumbers()\n",
    "    .aggregate(None, {\n",
    "        'sold': ('Sold', sum),\n",
    "        'scanned': ('Scanned', sum)\n",
    "    })\n",
    "    .melt(variables=['sold', 'scanned'])\n",
    "    .records()\n",
    ")"
   ]
  },
  {
   "cell_type": "code",
   "execution_count": 133,
   "metadata": {},
   "outputs": [],
   "source": [
    "ticket_summary = {\n",
    "    'events': {\n",
    "        'names': list(ticketed_events.cut('event_name').distinct().values('event_name')),\n",
    "        'count': ticketed_events.nrows(),\n",
    "    },\n",
    "    'sold': {\n",
    "        'total': sum(tickets_sold.values('count_of_tickets')),\n",
    "        'bradford': sum(tickets_sold.selecteq('geography_code', 'E08000032').values('count_of_tickets')),\n",
    "    },\n",
    "    'manual': tickets_scanned\n",
    "}"
   ]
  },
  {
   "cell_type": "code",
   "execution_count": 134,
   "metadata": {},
   "outputs": [],
   "source": [
    "with open(TARGET / 'tickets.json', 'w') as f:\n",
    "    json.dump(\n",
    "        ticket_summary,\n",
    "        f,\n",
    "        indent=2\n",
    "    )"
   ]
  },
  {
   "cell_type": "markdown",
   "metadata": {},
   "source": [
    "## Volunteers"
   ]
  },
  {
   "cell_type": "code",
   "execution_count": 135,
   "metadata": {},
   "outputs": [],
   "source": [
    "signups = (\n",
    "    etl\n",
    "    .fromcsv(PUBLISHED / 'volunteers/checkpoints.csv')\n",
    "    .convert('date', etl.dateparser('%Y-%m-%d'))\n",
    "    .selectle('date', date_range[1])\n",
    "    .convertnumbers(strict=False)\n",
    ")"
   ]
  },
  {
   "cell_type": "code",
   "execution_count": 136,
   "metadata": {},
   "outputs": [],
   "source": [
    "shifts = (\n",
    "    etl\n",
    "    .fromcsv(PUBLISHED / 'volunteers/shifts.csv')\n",
    "    .convert('date', etl.dateparser('%Y-%m-%d'))\n",
    "    .selecteq('type', 'BD25 Event')\n",
    "    .selectrangeopen('date', date_range[0], date_range[1])\n",
    "    .convertnumbers(strict=False)\n",
    ")"
   ]
  },
  {
   "cell_type": "code",
   "execution_count": 137,
   "metadata": {},
   "outputs": [],
   "source": [
    "volunteer_summary = {\n",
    "    'events': {\n",
    "        'count': shifts.cut('rosterfy_event_name').distinct().nrows(),\n",
    "        'names': list(shifts.cut('rosterfy_event_name').distinct().values('rosterfy_event_name')),\n",
    "    },\n",
    "    'shifts': {\n",
    "        'count': shifts.nrows(),\n",
    "        'attended': sum(shifts.values('attended')),\n",
    "        'hours': sum(shifts.values('hours')),\n",
    "    },\n",
    "    'people': {\n",
    "        'checkpoints': dict(signups.aggregate('checkpoint', sum, 'count').records()),\n",
    "    },\n",
    "}"
   ]
  },
  {
   "cell_type": "code",
   "execution_count": 138,
   "metadata": {},
   "outputs": [],
   "source": [
    "with open(TARGET / 'volunteers.json', 'w') as f:\n",
    "    json.dump(\n",
    "        volunteer_summary,\n",
    "        f,\n",
    "        indent=2\n",
    "    )"
   ]
  }
 ],
 "metadata": {
  "kernelspec": {
   "display_name": "bd25-L4uOQWuf",
   "language": "python",
   "name": "python3"
  },
  "language_info": {
   "codemirror_mode": {
    "name": "ipython",
    "version": 3
   },
   "file_extension": ".py",
   "mimetype": "text/x-python",
   "name": "python",
   "nbconvert_exporter": "python",
   "pygments_lexer": "ipython3",
   "version": "3.12.4"
  }
 },
 "nbformat": 4,
 "nbformat_minor": 2
}
