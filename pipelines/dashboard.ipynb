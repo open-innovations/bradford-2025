{
 "cells": [
  {
   "cell_type": "markdown",
   "metadata": {},
   "source": [
    "# Dashboard\n",
    "\n",
    "This pipeline processes data into a form to drive the dashboard."
   ]
  },
  {
   "cell_type": "markdown",
   "metadata": {},
   "source": [
    "The parameters are injected using papermill."
   ]
  },
  {
   "cell_type": "code",
   "execution_count": 1,
   "metadata": {
    "tags": [
     "parameters"
    ]
   },
   "outputs": [],
   "source": [
    "target: str = 'q1'\n",
    "start: str = '2025-01-01'\n",
    "end: str = '2025-03-31'\n",
    "fixed_date: str = 'true'"
   ]
  },
  {
   "cell_type": "markdown",
   "metadata": {},
   "source": [
    "## Setup"
   ]
  },
  {
   "cell_type": "markdown",
   "metadata": {},
   "source": [
    "Import some libraries"
   ]
  },
  {
   "cell_type": "code",
   "execution_count": 2,
   "metadata": {},
   "outputs": [],
   "source": [
    "import json\n",
    "from datetime import date\n",
    "from ast import literal_eval\n",
    "\n",
    "import petl as etl\n",
    "from utils.paths import PUBLISHED, SITE\n",
    "from utils.themes.programme import Programme"
   ]
  },
  {
   "cell_type": "markdown",
   "metadata": {},
   "source": [
    "Set the target directory, and ensure it exists"
   ]
  },
  {
   "cell_type": "code",
   "execution_count": 3,
   "metadata": {},
   "outputs": [],
   "source": [
    "TARGET = SITE / 'insights/dashboard' / target / '_data'\n",
    "TARGET.mkdir(exist_ok=True, parents=True)"
   ]
  },
  {
   "cell_type": "markdown",
   "metadata": {},
   "source": [
    "Calculate the date range. If the `fixed_date` parameter is `false`, make today the latest date."
   ]
  },
  {
   "cell_type": "code",
   "execution_count": 4,
   "metadata": {},
   "outputs": [],
   "source": [
    "date_range = (\n",
    "    date.fromisoformat(start),\n",
    "    min(date.today(), date.fromisoformat(end)) if fixed_date == 'false' else date.fromisoformat(end),\n",
    "    date.today(),\n",
    ")"
   ]
  },
  {
   "cell_type": "markdown",
   "metadata": {},
   "source": [
    "Write the timestamp file"
   ]
  },
  {
   "cell_type": "code",
   "execution_count": 5,
   "metadata": {},
   "outputs": [],
   "source": [
    "with open(TARGET / 'timestamp.json', 'w') as f:\n",
    "    json.dump(dict(zip(['start', 'end', 'updated'], (str(x) for x in date_range))), f)"
   ]
  },
  {
   "cell_type": "markdown",
   "metadata": {},
   "source": [
    "## Events & projects data"
   ]
  },
  {
   "cell_type": "code",
   "execution_count": 6,
   "metadata": {},
   "outputs": [],
   "source": [
    "raw_airtable_events = (\n",
    "    Programme.events\n",
    "\n",
    "    .selectge('End Date', date_range[0])\n",
    "    .selectle('Start Date', date_range[1])\n",
    "    .selectin('Item Type', ['Event (any public-facing activity)'])\n",
    "\n",
    "    # .selectnotnone('Project Name')\n",
    "    # .selectcontains('Producing model', 'Artist Led Awards', complement=True)\n",
    "\n",
    "    .convert('Start Date', lambda d: max(d, date_range[0]))\n",
    "    .convert('End Date', lambda d: min(d, date_range[1]))\n",
    "    .addfield('Events', lambda r: max(1, (r['End Date'] - r['Start Date']).days + 1))\n",
    ")\n",
    "\n",
    "airtable_events = (\n",
    "    raw_airtable_events\n",
    "    .aggregate(['Project Name', 'project_id', 'Evaluation Category'], sum, 'Events')\n",
    ")"
   ]
  },
  {
   "cell_type": "code",
   "execution_count": 7,
   "metadata": {},
   "outputs": [],
   "source": [
    "manual_events = (\n",
    "    etl\n",
    "    .fromcsv(PUBLISHED / 'manual/manual-events.csv')\n",
    "    .rename({\n",
    "        'Project': 'Project Name',\n",
    "        'Airtable project ID': 'project_id',\n",
    "        'Evaluation category': 'Evaluation Category',\n",
    "    })\n",
    "\n",
    "    .selectne('Exclude from events count', 'True')\n",
    "    .convert('Date', lambda d: date.fromisoformat(d))\n",
    "    .selectge('Date', date_range[0])\n",
    "    .selectle('Date', date_range[1])\n",
    "\n",
    "    .convert('Project Name', lambda x: x.strip())\n",
    "    .convert('Project Name', Programme.canonical_project_name)\n",
    "\n",
    "    .update('Events', 1, where=lambda r: not r.Events)\n",
    "    .convert(['Events'], int)\n",
    "\n",
    "    .aggregate(['Project Name', 'project_id', 'Evaluation Category'], sum, 'Events')\n",
    ")"
   ]
  },
  {
   "cell_type": "code",
   "execution_count": 8,
   "metadata": {},
   "outputs": [],
   "source": [
    "events = (\n",
    "    etl.cat(\n",
    "        airtable_events.selectnotin('project_id', [i for i in manual_events.values('project_id') if i != '']),\n",
    "        manual_events\n",
    "    )\n",
    "    .cutout('project_id')\n",
    "    .aggregate(['Project Name', 'Evaluation Category'], sum, 'value', field='Events')\n",
    ")"
   ]
  },
  {
   "cell_type": "code",
   "execution_count": 9,
   "metadata": {},
   "outputs": [],
   "source": [
    "project_summary = {\n",
    "    'total': events.distinct('Project Name').nrows(),\n",
    "    'by_category': dict(events.aggregate('Evaluation Category', len).records()),\n",
    "    'names': list(events.cut('Project Name').distinct().values('Project Name')),\n",
    "}"
   ]
  },
  {
   "cell_type": "code",
   "execution_count": 10,
   "metadata": {},
   "outputs": [],
   "source": [
    "events_summary = {\n",
    "    'total': sum(events.values('Events')),\n",
    "    'by_category': dict(events.aggregate('Evaluation Category', sum, 'Events').records()),\n",
    "    'by_project': {\n",
    "        r[0]: {'category': r[1], 'count': r[2]}\n",
    "        for r\n",
    "        in events.records()\n",
    "    },\n",
    "}"
   ]
  },
  {
   "cell_type": "code",
   "execution_count": 11,
   "metadata": {},
   "outputs": [],
   "source": [
    "with open(TARGET / 'events.json', 'w') as f:\n",
    "    json.dump(\n",
    "        {\n",
    "            'projects': project_summary,\n",
    "            'events': events_summary,\n",
    "        },\n",
    "        f,\n",
    "        indent=2\n",
    "    )"
   ]
  },
  {
   "cell_type": "markdown",
   "metadata": {},
   "source": [
    "## Audiences"
   ]
  },
  {
   "cell_type": "code",
   "execution_count": 12,
   "metadata": {},
   "outputs": [],
   "source": [
    "ticketed_events = (\n",
    "    etl\n",
    "    .fromcsv(PUBLISHED / 'ticketing/event-instances.csv')\n",
    "    .convert('start', etl.dateparser('%Y-%m-%d %H:%M:%S'))\n",
    "    .selectrangeopen('start', date_range[0], date_range[1])\n",
    "    .selectcontains('eventType', 'MainProgrammeEvent')\n",
    ")"
   ]
  },
  {
   "cell_type": "code",
   "execution_count": 13,
   "metadata": {},
   "outputs": [],
   "source": [
    "tickets_sold = (\n",
    "    etl\n",
    "    .fromcsv(PUBLISHED / 'ticketing/tickets.csv')\n",
    "    .selecteq('geography_type', 'oslaua')\n",
    "    .rightjoin(ticketed_events.cut('instance_id', 'event_name'))\n",
    "    .cut('event_name', 'geography_code', 'count_of_tickets')\n",
    "    .convertnumbers()\n",
    "    .selectnotnone('count_of_tickets')\n",
    ")"
   ]
  },
  {
   "cell_type": "code",
   "execution_count": 14,
   "metadata": {},
   "outputs": [],
   "source": [
    "tickets_scanned = dict(\n",
    "    etl\n",
    "    .fromcsv(PUBLISHED / 'manual/spektrix-sales-and-scans.csv')\n",
    "    .convert('Event Date', etl.dateparser('%Y-%m-%d'))\n",
    "    .selectrangeopen('Event Date', date_range[0], date_range[1])\n",
    "    .convertnumbers()\n",
    "    .aggregate(None, {\n",
    "        'sold': ('Sold', sum),\n",
    "        'scanned': ('Scanned', sum)\n",
    "    })\n",
    "    .melt(variables=['sold', 'scanned'])\n",
    "    .records()\n",
    ")"
   ]
  },
  {
   "cell_type": "code",
   "execution_count": 15,
   "metadata": {},
   "outputs": [],
   "source": [
    "ticketed_audience = {\n",
    "    'sold': {\n",
    "        'total': sum(tickets_sold.values('count_of_tickets')),\n",
    "        'bradford': sum(tickets_sold.selecteq('geography_code', 'E08000032').values('count_of_tickets')),\n",
    "    },\n",
    "    'scanned': {\n",
    "        'total': tickets_scanned\n",
    "    }\n",
    "}"
   ]
  },
  {
   "cell_type": "code",
   "execution_count": 16,
   "metadata": {},
   "outputs": [],
   "source": [
    "manual_audience = (\n",
    "    etl\n",
    "    .fromcsv(PUBLISHED / 'manual/manual-events.csv')\n",
    "    .rename({\n",
    "        'Project': 'Project Name',\n",
    "        'Airtable project ID': 'project_id',\n",
    "        'Evaluation category': 'Evaluation Category',\n",
    "    })\n",
    "\n",
    "    .convert('Audience', int)\n",
    "    .convert('Date', lambda d: date.fromisoformat(d))\n",
    "\n",
    "    .selectnotnone('Audience')\n",
    "    .selectge('Date', date_range[0])\n",
    "    .selectle('Date', date_range[1])\n",
    "\n",
    "    .aggregate('Evaluation Category', sum, 'Audience', field='Audience')\n",
    ")"
   ]
  },
  {
   "cell_type": "code",
   "execution_count": 17,
   "metadata": {},
   "outputs": [],
   "source": [
    "unticketed_audience = {\n",
    "    'total': sum(manual_audience.values('Audience')),\n",
    "    'by_category': dict(manual_audience.records())\n",
    "}"
   ]
  },
  {
   "cell_type": "code",
   "execution_count": 18,
   "metadata": {},
   "outputs": [],
   "source": [
    "with open(TARGET / 'audience.json', 'w') as f:\n",
    "    json.dump(\n",
    "        {\n",
    "            'total': ticketed_audience['sold']['total'] + unticketed_audience['total'],\n",
    "            'ticketed': ticketed_audience,\n",
    "            'unticketed': unticketed_audience,\n",
    "        },\n",
    "        f,\n",
    "        indent=2\n",
    "    )"
   ]
  },
  {
   "cell_type": "markdown",
   "metadata": {},
   "source": [
    "## Participants"
   ]
  },
  {
   "cell_type": "code",
   "execution_count": 19,
   "metadata": {},
   "outputs": [],
   "source": [
    "manual_participants = (\n",
    "    etl\n",
    "    .fromcsv(PUBLISHED / 'manual/manual-participants.csv')\n",
    "\n",
    "    .convert('Date', lambda d: date.fromisoformat(d))\n",
    "    .selectge('Date', date_range[0])\n",
    "    .selectle('Date', date_range[1])\n",
    "    .selectnotin('variable', ['Schools engaged'])\n",
    "    .convertnumbers()\n",
    ")"
   ]
  },
  {
   "cell_type": "code",
   "execution_count": 20,
   "metadata": {},
   "outputs": [],
   "source": [
    "schools_engaged = sum(\n",
    "    etl\n",
    "    .fromcsv(PUBLISHED / 'manual/manual-participants.csv')\n",
    "\n",
    "    .convert('Date', lambda d: date.fromisoformat(d))\n",
    "    .selectge('Date', date_range[0])\n",
    "    .selectle('Date', date_range[1])\n",
    "    .selectin('variable', ['Schools engaged'])\n",
    "    .convertnumbers()\n",
    "    .values('value')\n",
    ")"
   ]
  },
  {
   "cell_type": "code",
   "execution_count": 21,
   "metadata": {},
   "outputs": [],
   "source": [
    "participant_summary = {\n",
    "    'total': sum(manual_participants.values('value')),\n",
    "    'by_partipant_type': dict(manual_participants.aggregate('variable', sum, 'value').records()),\n",
    "    # TODO make this nested by variable\n",
    "    'by_partipant_type_and_project': [i for i in manual_participants.aggregate(['variable', 'Project'], sum, 'value').dicts()],\n",
    "    'creative_learning': {\n",
    "        'schools_engaged': schools_engaged\n",
    "    }\n",
    "}"
   ]
  },
  {
   "cell_type": "markdown",
   "metadata": {},
   "source": [
    "## Volunteers"
   ]
  },
  {
   "cell_type": "code",
   "execution_count": 22,
   "metadata": {},
   "outputs": [],
   "source": [
    "signups = (\n",
    "    etl\n",
    "    .fromcsv(PUBLISHED / 'volunteers/checkpoints.csv')\n",
    "    .convert('date', etl.dateparser('%Y-%m-%d'))\n",
    "    .selectle('date', date_range[1])\n",
    "    .convertnumbers(strict=False)\n",
    ")"
   ]
  },
  {
   "cell_type": "code",
   "execution_count": 23,
   "metadata": {},
   "outputs": [],
   "source": [
    "shifts = (\n",
    "    etl\n",
    "    .fromcsv(PUBLISHED / 'volunteers/shifts.csv')\n",
    "    .convert('date', etl.dateparser('%Y-%m-%d'))\n",
    "    .selecteq('type', 'BD25 Event')\n",
    "    .selectrangeopen('date', date_range[0], date_range[1])\n",
    "    .convertnumbers(strict=False)\n",
    ")"
   ]
  },
  {
   "cell_type": "code",
   "execution_count": 24,
   "metadata": {},
   "outputs": [],
   "source": [
    "volunteer_summary = {\n",
    "    'events': {\n",
    "        'count': shifts.cut('rosterfy_event_name').distinct().nrows(),\n",
    "        'names': list(shifts.cut('rosterfy_event_name').distinct().values('rosterfy_event_name')),\n",
    "    },\n",
    "    'shifts': {\n",
    "        'count': shifts.nrows(),\n",
    "        'attended': sum(shifts.values('attended')),\n",
    "        'hours': sum(shifts.values('hours')),\n",
    "    },\n",
    "    'people': {\n",
    "        'checkpoints': dict(signups.aggregate('checkpoint', sum, 'count').records()),\n",
    "    },\n",
    "}"
   ]
  },
  {
   "cell_type": "code",
   "execution_count": 25,
   "metadata": {},
   "outputs": [],
   "source": [
    "with open(TARGET / 'participants.json', 'w') as f:\n",
    "    json.dump(\n",
    "        {\n",
    "            'total': participant_summary['total'] + volunteer_summary['people']['checkpoints']['1. Monitoring & Evaluation'],\n",
    "            'participants': participant_summary,\n",
    "            'volunteers': volunteer_summary,\n",
    "        },\n",
    "        f,\n",
    "        indent=2\n",
    "    )"
   ]
  }
 ],
 "metadata": {
  "kernelspec": {
   "display_name": "bd25-L4uOQWuf",
   "language": "python",
   "name": "python3"
  },
  "language_info": {
   "codemirror_mode": {
    "name": "ipython",
    "version": 3
   },
   "file_extension": ".py",
   "mimetype": "text/x-python",
   "name": "python",
   "nbconvert_exporter": "python",
   "pygments_lexer": "ipython3",
   "version": "3.12.4"
  }
 },
 "nbformat": 4,
 "nbformat_minor": 2
}
