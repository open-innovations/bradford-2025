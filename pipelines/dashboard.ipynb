{
 "cells": [
  {
   "cell_type": "markdown",
   "metadata": {},
   "source": [
    "# Dashboard\n",
    "\n",
    "This pipeline processes data into a form to drive the dashboard."
   ]
  },
  {
   "cell_type": "markdown",
   "metadata": {},
   "source": [
    "The parameters are injected using papermill."
   ]
  },
  {
   "cell_type": "code",
   "execution_count": null,
   "metadata": {},
   "outputs": [],
   "source": [
    "DEBUG = 'q3'\n",
    "if DEBUG:\n",
    "    import yaml\n",
    "    with open('./params.yaml') as f:\n",
    "        config = yaml.load(f, yaml.SafeLoader)['dashboards'][DEBUG]\n",
    "\n",
    "    target = config['target']\n",
    "    start = config['start']\n",
    "    end = config['end']\n",
    "    fixed_date = config['fixed_date']"
   ]
  },
  {
   "cell_type": "code",
   "execution_count": null,
   "metadata": {
    "tags": [
     "parameters"
    ]
   },
   "outputs": [],
   "source": [
    "target: str\n",
    "start: str\n",
    "end: str\n",
    "fixed_date: str"
   ]
  },
  {
   "cell_type": "markdown",
   "metadata": {},
   "source": [
    "## Setup"
   ]
  },
  {
   "cell_type": "markdown",
   "metadata": {},
   "source": [
    "Import some libraries"
   ]
  },
  {
   "cell_type": "code",
   "execution_count": null,
   "metadata": {},
   "outputs": [],
   "source": [
    "import json\n",
    "from datetime import date\n",
    "from ast import literal_eval\n",
    "\n",
    "import petl as etl\n",
    "from utils.paths import PUBLISHED, SITE\n",
    "from utils.themes.programme_slice import ProgrammeSlice"
   ]
  },
  {
   "cell_type": "markdown",
   "metadata": {},
   "source": [
    "Set the target directory, and ensure it exists"
   ]
  },
  {
   "cell_type": "code",
   "execution_count": null,
   "metadata": {},
   "outputs": [],
   "source": [
    "TARGET = SITE / 'insights/dashboard' / target / '_data'\n",
    "TARGET.mkdir(exist_ok=True, parents=True)"
   ]
  },
  {
   "cell_type": "markdown",
   "metadata": {},
   "source": [
    "Calculate the date range. If the `fixed_date` parameter is `false`, make today the latest date."
   ]
  },
  {
   "cell_type": "code",
   "execution_count": null,
   "metadata": {},
   "outputs": [],
   "source": [
    "date_range = (\n",
    "    date.fromisoformat(start),\n",
    "    min(date.today(), date.fromisoformat(end)) if fixed_date == 'false' else date.fromisoformat(end),\n",
    "    date.today(),\n",
    ")"
   ]
  },
  {
   "cell_type": "markdown",
   "metadata": {},
   "source": [
    "Write the timestamp file"
   ]
  },
  {
   "cell_type": "code",
   "execution_count": null,
   "metadata": {},
   "outputs": [],
   "source": [
    "with open(TARGET / 'timestamp.json', 'w') as f:\n",
    "    json.dump(dict(zip(['start', 'end', 'updated'], (str(x) for x in date_range))), f)"
   ]
  },
  {
   "cell_type": "markdown",
   "metadata": {},
   "source": [
    "Load programme data"
   ]
  },
  {
   "cell_type": "code",
   "execution_count": null,
   "metadata": {},
   "outputs": [],
   "source": [
    "programme_data = ProgrammeSlice(date_range=date_range[0:2])"
   ]
  },
  {
   "cell_type": "markdown",
   "metadata": {},
   "source": [
    "## Events & projects data"
   ]
  },
  {
   "cell_type": "code",
   "execution_count": null,
   "metadata": {},
   "outputs": [],
   "source": [
    "events = (\n",
    "    programme_data.project_breakdown\n",
    "    .aggregate(['project_name', 'evaluation_category'], sum, 'events', field='events')\n",
    ")"
   ]
  },
  {
   "cell_type": "code",
   "execution_count": null,
   "metadata": {},
   "outputs": [],
   "source": [
    "project_summary = {\n",
    "    'total': events.distinct('project_name').nrows(),\n",
    "    'by_category': dict(events.aggregate('evaluation_category', len).records()),\n",
    "    'names': list(events.cut('project_name').distinct().values('project_name')),\n",
    "}"
   ]
  },
  {
   "cell_type": "code",
   "execution_count": null,
   "metadata": {},
   "outputs": [],
   "source": [
    "events_summary = {\n",
    "    'total': sum(events.values('events')),\n",
    "    'by_category': dict(events.aggregate('evaluation_category', sum, 'events').records()),\n",
    "    'by_project': {\n",
    "        r[0]: {'category': r[1], 'count': r[2]}\n",
    "        for r\n",
    "        in events.records()\n",
    "    },\n",
    "}"
   ]
  },
  {
   "cell_type": "code",
   "execution_count": null,
   "metadata": {},
   "outputs": [],
   "source": [
    "events_summary"
   ]
  },
  {
   "cell_type": "code",
   "execution_count": null,
   "metadata": {},
   "outputs": [],
   "source": [
    "with open(TARGET / 'events.json', 'w') as f:\n",
    "    json.dump(\n",
    "        events_summary,\n",
    "        f,\n",
    "        indent=2\n",
    "    )\n",
    "\n",
    "with open(TARGET / 'projects.json', 'w') as f:\n",
    "    json.dump(\n",
    "        project_summary,\n",
    "        f,\n",
    "        indent=2\n",
    "    )"
   ]
  },
  {
   "cell_type": "markdown",
   "metadata": {},
   "source": [
    "## Audiences"
   ]
  },
  {
   "cell_type": "code",
   "execution_count": null,
   "metadata": {},
   "outputs": [],
   "source": [
    "audience_data = (\n",
    "    programme_data.project_breakdown\n",
    "    .aggregate(['project_name', 'evaluation_category'], sum, 'audience', field='audience')\n",
    "    .replace('audience', 0, None)\n",
    ")"
   ]
  },
  {
   "cell_type": "code",
   "execution_count": null,
   "metadata": {},
   "outputs": [],
   "source": [
    "project_to_spektrix_lookup = etl.fromcsv(PUBLISHED / 'lookups/project_to_spektrix_event.csv')"
   ]
  },
  {
   "cell_type": "code",
   "execution_count": null,
   "metadata": {},
   "outputs": [],
   "source": [
    "tickets_sold = (\n",
    "    etl\n",
    "    .fromcsv(PUBLISHED / 'ticketing/tickets.csv')\n",
    "    .selecteq('geography_type', 'oslaua')\n",
    "    .rightjoin(\n",
    "        etl\n",
    "        .fromcsv(PUBLISHED / 'ticketing/event-instances.csv')\n",
    "        .convert('start', etl.dateparser('%Y-%m-%d %H:%M:%S'))\n",
    "        .selectrangeopen('start', date_range[0], date_range[1])\n",
    "        .selectcontains('eventType', 'MainProgrammeEvent')\n",
    "        .cut('instance_id', 'event_name', 'event_id')\n",
    "    )\n",
    "    .cut('event_name', 'event_id', 'geography_code', 'count_of_tickets')\n",
    "    .convertnumbers()\n",
    "    .selectnotnone('count_of_tickets')\n",
    "    .aggregate(['event_name', 'event_id', 'geography_code'], sum, 'count_of_tickets', field='count_of_tickets')\n",
    "\n",
    "    .leftjoin(project_to_spektrix_lookup.cutout('event_name'), lkey='event_id', rkey='event_id')\n",
    "\n",
    "    .convert('event_name', lambda _, r: r.project_name, where=lambda r: r.project_name is not None, pass_row=True)\n",
    "    .addfield('evaluation_category', 'In-person')\n",
    ")"
   ]
  },
  {
   "cell_type": "code",
   "execution_count": null,
   "metadata": {},
   "outputs": [],
   "source": [
    "tickets_scanned = dict(\n",
    "    etl\n",
    "    .fromcsv(PUBLISHED / 'manual/spektrix-sales-and-scans.csv')\n",
    "    .convert('Event Date', etl.dateparser('%Y-%m-%d'))\n",
    "    .selectrangeopen('Event Date', date_range[0], date_range[1])\n",
    "    .convertnumbers()\n",
    "    .aggregate(None, {\n",
    "        'sold': ('Sold', sum),\n",
    "        'scanned': ('Scanned', sum)\n",
    "    })\n",
    "    .melt(variables=['sold', 'scanned'])\n",
    "    .records()\n",
    ")"
   ]
  },
  {
   "cell_type": "code",
   "execution_count": null,
   "metadata": {},
   "outputs": [],
   "source": [
    "ticketed_audience = {\n",
    "    'sold': {\n",
    "        'total': sum(tickets_sold.values('count_of_tickets')),\n",
    "        'bradford': sum(tickets_sold.selecteq('geography_code', 'E08000032').values('count_of_tickets')),\n",
    "        'by_project': dict(tickets_sold.aggregate('event_name', sum, 'count_of_tickets', field='count_of_tickets').records()),\n",
    "        'by_geo': dict(tickets_sold.aggregate('geography_code', sum, 'count_of_tickets', field='count_of_tickets').records()),\n",
    "    },\n",
    "    'scanned': {\n",
    "        'total': tickets_scanned\n",
    "    }\n",
    "}"
   ]
  },
  {
   "cell_type": "markdown",
   "metadata": {},
   "source": [
    "Try to get audience for tickets that aren't matched"
   ]
  },
  {
   "cell_type": "code",
   "execution_count": null,
   "metadata": {},
   "outputs": [],
   "source": [
    "audience_from_spektrix = tickets_sold.selectnone('project_name').aggregate('event_name', sum, 'count_of_tickets').addfield('evaluation_category', 'UNKNOWN').rename({\n",
    "    'event_name': 'project_name',\n",
    "    'value': 'audience'\n",
    "})"
   ]
  },
  {
   "cell_type": "code",
   "execution_count": null,
   "metadata": {},
   "outputs": [],
   "source": [
    "audience_plus_ticket_data = (\n",
    "    audience_data\n",
    "    .leftjoin(\n",
    "        tickets_sold.aggregate(['project_name', 'evaluation_category'], sum, 'count_of_tickets', field='ticketed_audience'))\n",
    "    .fillleft()\n",
    "    .selectnotnone('audience')\n",
    ")"
   ]
  },
  {
   "cell_type": "code",
   "execution_count": null,
   "metadata": {},
   "outputs": [],
   "source": [
    "all_audience = etl.cat(\n",
    "    audience_plus_ticket_data,\n",
    "    audience_from_spektrix,\n",
    ")"
   ]
  },
  {
   "cell_type": "code",
   "execution_count": null,
   "metadata": {},
   "outputs": [],
   "source": [
    "audience = {\n",
    "    'total': sum(all_audience.values('audience')),\n",
    "    'by_category': dict(\n",
    "        all_audience\n",
    "        .aggregate(['evaluation_category'], sum, 'audience')\n",
    "        .records()\n",
    "    ),\n",
    "    'by_project': {\n",
    "        r[0]: {'category': r[1], 'count': r[2]}\n",
    "        for r\n",
    "        in all_audience\n",
    "        .aggregate(['project_name', 'evaluation_category'], sum, 'audience')\n",
    "        .records()\n",
    "    },\n",
    "}"
   ]
  },
  {
   "cell_type": "code",
   "execution_count": null,
   "metadata": {},
   "outputs": [],
   "source": [
    "with open(TARGET / 'audience.json', 'w') as f:\n",
    "    json.dump(\n",
    "        audience | {\n",
    "            'ticketed': ticketed_audience,\n",
    "            'unticketed': None,\n",
    "        },\n",
    "        f,\n",
    "        indent=2\n",
    "    )"
   ]
  },
  {
   "cell_type": "markdown",
   "metadata": {},
   "source": [
    "## Participants"
   ]
  },
  {
   "cell_type": "markdown",
   "metadata": {},
   "source": [
    "### Programme"
   ]
  },
  {
   "cell_type": "code",
   "execution_count": null,
   "metadata": {},
   "outputs": [],
   "source": [
    "programme_participants = (\n",
    "    programme_data.project_breakdown\n",
    "    .cut('project_name', 'evaluation_category', 'participants_community')\n",
    "    .melt(['project_name', 'evaluation_category'])\n",
    "    .selectnotnone('value')\n",
    "    .aggregate(['project_name', 'evaluation_category', 'variable'], sum, 'value')\n",
    "    .recast(samplesize=1_000_000)\n",
    "    .selectgt('participants_community', 0)\n",
    ")"
   ]
  },
  {
   "cell_type": "markdown",
   "metadata": {},
   "source": [
    "### Cultural learning"
   ]
  },
  {
   "cell_type": "code",
   "execution_count": null,
   "metadata": {},
   "outputs": [],
   "source": [
    "import petl as etl\n",
    "from datetime import date\n",
    "import ast\n",
    "\n",
    "import petl_addons\n",
    "\n",
    "def normalise_header(table):\n",
    "    new_header = [c.lower().replace(' ', '_') for c in table.header()]\n",
    "    return table.setheader(new_header)\n",
    "\n",
    "cultural_learning_engagements = etl.cat(\n",
    "    etl\n",
    "    .fromcsv(PUBLISHED / 'cultural-learning/engagements.csv' )\n",
    "    .convert(['date', 'month'], date.fromisoformat)\n",
    "    .selectnotnone('date')\n",
    "    .selectrangeopen('date', *date_range[:2])\n",
    "    .convertnumbers()\n",
    "    .convert('organisation_ids', ast.literal_eval),\n",
    "\n",
    "    etl\n",
    "    .fromcsv(PUBLISHED / 'manual/manual-events.csv')\n",
    "    .cut('Date', 'Project', 'Evaluation category', 'participants_schools')\n",
    "    .apply(normalise_header)\n",
    "    .rename({\n",
    "        'project': 'project_name',\n",
    "        'participants_schools': 'participants'\n",
    "    })\n",
    "    .selectne('participants', '')\n",
    "    .convertnumbers()\n",
    "    .convert('date', date.fromisoformat)\n",
    "    .selectrangeopen('date', *date_range[:2])\n",
    "    .addfield('organisation_ids', [])\n",
    ")\n",
    "\n",
    "cultural_learning_settings = (\n",
    "    etl\n",
    "    .fromcsv(PUBLISHED / 'programme/venues.csv')\n",
    "    .selecteq('cultural_learning', 'True')\n",
    ")\n",
    "\n",
    "def distinct(items):\n",
    "    cl_orgs = cultural_learning_settings.values('id')\n",
    "    return len({i for s in items for i in s if i in cl_orgs})\n",
    "\n",
    "cultural_learning_summary = (\n",
    "    cultural_learning_engagements\n",
    "    .aggregate(None, {\n",
    "        'participants': ('participants', sum),\n",
    "        'schools_engaged': ('organisation_ids', distinct)\n",
    "    })\n",
    "    .dicts()[0]\n",
    ")"
   ]
  },
  {
   "cell_type": "markdown",
   "metadata": {},
   "source": [
    "Report by org type"
   ]
  },
  {
   "cell_type": "code",
   "execution_count": null,
   "metadata": {},
   "outputs": [],
   "source": [
    "cultural_learning_settings.aggregate('Org/Venue Type', len)"
   ]
  },
  {
   "cell_type": "markdown",
   "metadata": {},
   "source": [
    "### Volunteers"
   ]
  },
  {
   "cell_type": "code",
   "execution_count": null,
   "metadata": {},
   "outputs": [],
   "source": [
    "volunteer_signups = (\n",
    "    etl\n",
    "    .fromcsv(PUBLISHED / 'volunteers/checkpoint-updates.csv')\n",
    "    .convert('date', etl.dateparser('%Y-%m-%d'))\n",
    "    .selectle('date', date_range[1])\n",
    "    .convertnumbers(strict=False)\n",
    ")"
   ]
  },
  {
   "cell_type": "code",
   "execution_count": null,
   "metadata": {},
   "outputs": [],
   "source": [
    "# volunteer_shifts = (\n",
    "#     etl\n",
    "#     .fromcsv(PUBLISHED / 'volunteers/shifts.csv')\n",
    "#     .convert('date', etl.dateparser('%Y-%m-%d'))\n",
    "#     .selecteq('type', 'BD25 Event')\n",
    "#     .selectrangeopen('date', date_range[0], date_range[1])\n",
    "#     .convertnumbers(strict=False)\n",
    "# )"
   ]
  },
  {
   "cell_type": "code",
   "execution_count": null,
   "metadata": {},
   "outputs": [],
   "source": [
    "volunteer_summary = {\n",
    "    'total': sum(\n",
    "        volunteer_signups\n",
    "        .selectin('checkpoint',  [\"1. Monitoring & Evaluation\", \"2. Sign Up to Induction\", \"3. Fully Inducted Volunteers\"])\n",
    "        .values('count')\n",
    "    ),\n",
    "    'people': {\n",
    "        'checkpoints': dict(volunteer_signups.aggregate('checkpoint', sum, 'count').records()),\n",
    "    },\n",
    "    # 'events': {\n",
    "    #     'count': volunteer_shifts.cut('rosterfy_event_name').distinct().nrows(),\n",
    "    #     'names': list(volunteer_shifts.cut('rosterfy_event_name').distinct().values('rosterfy_event_name')),\n",
    "    # },\n",
    "    # 'shifts': {\n",
    "    #     'count': volunteer_shifts.nrows(),\n",
    "    #     'attended': sum(volunteer_shifts.values('attended')),\n",
    "    #     'hours': sum(volunteer_shifts.values('hours')),\n",
    "    # },\n",
    "}"
   ]
  },
  {
   "cell_type": "markdown",
   "metadata": {},
   "source": [
    "### Other figures"
   ]
  },
  {
   "cell_type": "code",
   "execution_count": null,
   "metadata": {},
   "outputs": [],
   "source": [
    "other_figures = etl.fromcsv(PUBLISHED / 'manual/manual-other-figures.csv').selecteq('dashboard key', target).convertnumbers()"
   ]
  },
  {
   "cell_type": "code",
   "execution_count": null,
   "metadata": {},
   "outputs": [],
   "source": [
    "dict(other_figures.selecteq('variable', 'training_and_skills_development_participants').cut('source', 'value').rename('source', 'project_name').aggregate('project_name', sum, 'value', field='count').records())"
   ]
  },
  {
   "cell_type": "code",
   "execution_count": null,
   "metadata": {},
   "outputs": [],
   "source": [
    "with open(TARGET / 'otherFigures.json', 'w') as f:\n",
    "    json.dump(\n",
    "        other_figures.aggregate('variable', sum, 'value').transpose().cutout('variable').dicts()[0],\n",
    "        f,\n",
    "        indent=2\n",
    "    )"
   ]
  },
  {
   "cell_type": "markdown",
   "metadata": {},
   "source": [
    "### Summary"
   ]
  },
  {
   "cell_type": "code",
   "execution_count": null,
   "metadata": {},
   "outputs": [],
   "source": [
    "def summarise_by_type(table):\n",
    "    return {\n",
    "        'count': sum(table.values('count')),\n",
    "        'by_project': {\n",
    "            r.project_name: { 'count': r['count'], 'category': r.get('evaluation_category', None) }\n",
    "            for r in\n",
    "            table.selectgt('count', 0).records()\n",
    "        },\n",
    "    }\n",
    "\n",
    "by_type = {\n",
    "    'community_participants': summarise_by_type(programme_participants\n",
    "        .rename('participants_community', 'count')\n",
    "    ),\n",
    "    'training_and_skills_development_participants': summarise_by_type(\n",
    "        other_figures\n",
    "        .selecteq('variable', 'training_and_skills_development_participants')\n",
    "        .cut('source', 'value')\n",
    "        .rename('source', 'project_name')\n",
    "        .aggregate('project_name', sum, 'value', field='count')   \n",
    "    ),\n",
    "    'cultural_learning_participants': summarise_by_type(\n",
    "        cultural_learning_engagements.aggregate(['project_name', 'evaluation_category'], sum, 'participants', field='count')\n",
    "    )\n",
    "}"
   ]
  },
  {
   "cell_type": "code",
   "execution_count": null,
   "metadata": {},
   "outputs": [],
   "source": [
    "by_type"
   ]
  },
  {
   "cell_type": "code",
   "execution_count": null,
   "metadata": {},
   "outputs": [],
   "source": [
    "participant_summary = {\n",
    "    'total': sum(programme_participants.values('participants_community'))\n",
    "        + cultural_learning_summary['participants']\n",
    "        + volunteer_summary['total']\n",
    "        + sum(other_figures.selectcontains('variable', '_participants').values('value')),\n",
    "\n",
    "    'by_type': by_type,\n",
    "\n",
    "    'cultural_learning': cultural_learning_summary,\n",
    "    'volunteers': volunteer_summary,\n",
    "}"
   ]
  },
  {
   "cell_type": "code",
   "execution_count": null,
   "metadata": {},
   "outputs": [],
   "source": [
    "with open(TARGET / 'participants.json', 'w') as f:\n",
    "    json.dump(\n",
    "        participant_summary,\n",
    "        f,\n",
    "        indent=2\n",
    "    )"
   ]
  },
  {
   "cell_type": "markdown",
   "metadata": {},
   "source": [
    "## Other figures"
   ]
  },
  {
   "cell_type": "code",
   "execution_count": null,
   "metadata": {},
   "outputs": [],
   "source": []
  }
 ],
 "metadata": {
  "kernelspec": {
   "display_name": "data.bradford2025.co.uk-DmiwwEw1",
   "language": "python",
   "name": "python3"
  },
  "language_info": {
   "codemirror_mode": {
    "name": "ipython",
    "version": 3
   },
   "file_extension": ".py",
   "mimetype": "text/x-python",
   "name": "python",
   "nbconvert_exporter": "python",
   "pygments_lexer": "ipython3",
   "version": "3.12.4"
  }
 },
 "nbformat": 4,
 "nbformat_minor": 2
}
