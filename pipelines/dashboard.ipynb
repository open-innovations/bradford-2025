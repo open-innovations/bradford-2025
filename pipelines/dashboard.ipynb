{
 "cells": [
  {
   "cell_type": "markdown",
   "metadata": {},
   "source": [
    "# Dashboard\n",
    "\n",
    "This pipeline processes data into a form to drive the dashboard."
   ]
  },
  {
   "cell_type": "markdown",
   "metadata": {},
   "source": [
    "The parameters are injected using papermill."
   ]
  },
  {
   "cell_type": "code",
   "execution_count": 1,
   "metadata": {
    "tags": [
     "parameters"
    ]
   },
   "outputs": [],
   "source": [
    "target: str = ''\n",
    "start: str = '2025-01-01'\n",
    "end: str = '2025-12-31'\n",
    "fixed_date: str = 'false'"
   ]
  },
  {
   "cell_type": "markdown",
   "metadata": {},
   "source": [
    "## Setup"
   ]
  },
  {
   "cell_type": "markdown",
   "metadata": {},
   "source": [
    "Import some libraries"
   ]
  },
  {
   "cell_type": "code",
   "execution_count": 2,
   "metadata": {},
   "outputs": [],
   "source": [
    "import json\n",
    "from datetime import date\n",
    "from ast import literal_eval\n",
    "\n",
    "import petl as etl\n",
    "from utils.paths import PUBLISHED, SITE"
   ]
  },
  {
   "cell_type": "markdown",
   "metadata": {},
   "source": [
    "Set the target directory, and ensure it exists"
   ]
  },
  {
   "cell_type": "code",
   "execution_count": 3,
   "metadata": {},
   "outputs": [],
   "source": [
    "TARGET = SITE / 'insights/dashboard' / target / '_data'\n",
    "TARGET.mkdir(exist_ok=True, parents=True)"
   ]
  },
  {
   "cell_type": "markdown",
   "metadata": {},
   "source": [
    "Calculate the date range. If the `fixed_date` parameter is `false`, make today the latest date."
   ]
  },
  {
   "cell_type": "code",
   "execution_count": null,
   "metadata": {},
   "outputs": [],
   "source": [
    "date_range = (\n",
    "    date.fromisoformat(start),\n",
    "    min(date.today(), date.fromisoformat(end)) if fixed_date == 'false' else date.fromisoformat(end),\n",
    "    date.today(),\n",
    ")"
   ]
  },
  {
   "cell_type": "markdown",
   "metadata": {},
   "source": [
    "Write the timestamp file"
   ]
  },
  {
   "cell_type": "code",
   "execution_count": null,
   "metadata": {},
   "outputs": [],
   "source": [
    "with open(TARGET / 'timestamp.json', 'w') as f:\n",
    "    json.dump(dict(zip(['start', 'end', 'updated'], (str(x) for x in date_range))), f)"
   ]
  },
  {
   "cell_type": "markdown",
   "metadata": {},
   "source": [
    "## Projects data"
   ]
  },
  {
   "cell_type": "code",
   "execution_count": 6,
   "metadata": {},
   "outputs": [],
   "source": [
    "projects = (\n",
    "    etl\n",
    "    .fromjson(PUBLISHED / 'programme/projects.json')\n",
    "    .convert(['Date From', 'Date To'], etl.dateparser('%Y-%m-%d'))\n",
    "    .convert('Project Name', lambda x: x.strip())\n",
    "    .selectge('Date To', date_range[0])\n",
    "    .selectle('Date From', date_range[1])\n",
    ")"
   ]
  },
  {
   "cell_type": "code",
   "execution_count": 7,
   "metadata": {},
   "outputs": [],
   "source": [
    "def category_exploder(row):\n",
    "    for v in row['Producing model']:\n",
    "        yield [v]\n",
    "\n",
    "producing_model = etl.cat(\n",
    "    projects\n",
    "    .rowmapmany(category_exploder, header=['Producing model'])\n",
    "    .aggregate('Producing model', len),\n",
    "\n",
    "    projects\n",
    "    .selecteq('Producing model', [])\n",
    "    .aggregate(None, len)\n",
    "    .addfield('Producing model', 'UNKNOWN')\n",
    ")"
   ]
  },
  {
   "cell_type": "code",
   "execution_count": 8,
   "metadata": {},
   "outputs": [],
   "source": [
    "project_summary = {\n",
    "    'count': projects.nrows(),\n",
    "    'producing_model': dict(producing_model.records()),\n",
    "    'names': list(projects.cut('Project Name').distinct().values('Project Name')),\n",
    "}"
   ]
  },
  {
   "cell_type": "code",
   "execution_count": 9,
   "metadata": {},
   "outputs": [],
   "source": [
    "events = (\n",
    "    etl\n",
    "    .fromcsv(PUBLISHED / 'programme/events.csv')\n",
    "    .convert(['Start Date', 'End Date'], etl.dateparser('%Y-%m-%d'))\n",
    "    .convert('Programme Category', lambda f: set(literal_eval(f)))\n",
    "    .convert('Project Name', lambda x: x.strip())\n",
    "    .replaceall('', None)\n",
    "    .selectge('End Date', date_range[0])\n",
    "    .selectle('Start Date', date_range[1])\n",
    "    .selectin('Item Type', ['Event (any public-facing activity)'])\n",
    "    .selectnotnone('Project Name')\n",
    "    .cut('Start Date', 'End Date', 'Project Name', 'Programme Category')\n",
    "    .sort(['End Date', 'Start Date'])\n",
    ")"
   ]
  },
  {
   "cell_type": "code",
   "execution_count": 10,
   "metadata": {},
   "outputs": [
    {
     "data": {
      "text/html": [
       "<table class='petl'>\n",
       "<thead>\n",
       "<tr>\n",
       "<th>Start Date</th>\n",
       "<th>End Date</th>\n",
       "<th>Project Name</th>\n",
       "<th>Programme Category</th>\n",
       "</tr>\n",
       "</thead>\n",
       "<tbody>\n",
       "<tr>\n",
       "<td>2025-01-10</td>\n",
       "<td>2025-01-10</td>\n",
       "<td>Nationhood: Memory and Hope (Aida Muluneh Photography exhibition)</td>\n",
       "<td>{'Visual Arts and Sculpture', 'Performance - other'}</td>\n",
       "</tr>\n",
       "<tr>\n",
       "<td>2025-01-10</td>\n",
       "<td>2025-01-10</td>\n",
       "<td>Channels (Bodies of Water) - Turbynes</td>\n",
       "<td>{'Visual Arts and Sculpture', 'Music', 'Heritage', 'Digital'}</td>\n",
       "</tr>\n",
       "<tr>\n",
       "<td>2025-01-10</td>\n",
       "<td>2025-01-11</td>\n",
       "<td>Rise (AKA - Opening Event)</td>\n",
       "<td>{'Outdoor arts', 'Festival', 'Theatre', 'Dance / Movement / Circus', 'Exhibition', 'International', 'Broadcast'}</td>\n",
       "</tr>\n",
       "<tr>\n",
       "<td>2025-01-11</td>\n",
       "<td>2025-01-11</td>\n",
       "<td>Nationhood: Memory and Hope (Aida Muluneh Photography exhibition)</td>\n",
       "<td>{'Visual Arts and Sculpture', 'Performance - other'}</td>\n",
       "</tr>\n",
       "<tr>\n",
       "<td>2025-01-11</td>\n",
       "<td>2025-01-11</td>\n",
       "<td>Rise (AKA - Opening Event)</td>\n",
       "<td>{'Outdoor arts', 'Festival', 'Theatre', 'Dance / Movement / Circus', 'Exhibition', 'International', 'Broadcast'}</td>\n",
       "</tr>\n",
       "</tbody>\n",
       "</table>\n",
       "<p><strong>...</strong></p>"
      ],
      "text/plain": [
       "+----------------------------+----------------------------+---------------------------------------------------------------------+------------------------------------------------------------------------------------------------------------------+\n",
       "| Start Date                 | End Date                   | Project Name                                                        | Programme Category                                                                                               |\n",
       "+============================+============================+=====================================================================+==================================================================================================================+\n",
       "| datetime.date(2025, 1, 10) | datetime.date(2025, 1, 10) | 'Nationhood: Memory and Hope (Aida Muluneh Photography exhibition)' | {'Visual Arts and Sculpture', 'Performance - other'}                                                             |\n",
       "+----------------------------+----------------------------+---------------------------------------------------------------------+------------------------------------------------------------------------------------------------------------------+\n",
       "| datetime.date(2025, 1, 10) | datetime.date(2025, 1, 10) | 'Channels (Bodies of Water) - Turbynes'                             | {'Visual Arts and Sculpture', 'Music', 'Heritage', 'Digital'}                                                    |\n",
       "+----------------------------+----------------------------+---------------------------------------------------------------------+------------------------------------------------------------------------------------------------------------------+\n",
       "| datetime.date(2025, 1, 10) | datetime.date(2025, 1, 11) | 'Rise (AKA - Opening Event)'                                        | {'Outdoor arts', 'Festival', 'Theatre', 'Dance / Movement / Circus', 'Exhibition', 'International', 'Broadcast'} |\n",
       "+----------------------------+----------------------------+---------------------------------------------------------------------+------------------------------------------------------------------------------------------------------------------+\n",
       "| datetime.date(2025, 1, 11) | datetime.date(2025, 1, 11) | 'Nationhood: Memory and Hope (Aida Muluneh Photography exhibition)' | {'Visual Arts and Sculpture', 'Performance - other'}                                                             |\n",
       "+----------------------------+----------------------------+---------------------------------------------------------------------+------------------------------------------------------------------------------------------------------------------+\n",
       "| datetime.date(2025, 1, 11) | datetime.date(2025, 1, 11) | 'Rise (AKA - Opening Event)'                                        | {'Outdoor arts', 'Festival', 'Theatre', 'Dance / Movement / Circus', 'Exhibition', 'International', 'Broadcast'} |\n",
       "+----------------------------+----------------------------+---------------------------------------------------------------------+------------------------------------------------------------------------------------------------------------------+\n",
       "..."
      ]
     },
     "execution_count": 10,
     "metadata": {},
     "output_type": "execute_result"
    }
   ],
   "source": [
    "events"
   ]
  },
  {
   "cell_type": "code",
   "execution_count": 11,
   "metadata": {},
   "outputs": [],
   "source": [
    "def category_exploder(row):\n",
    "    for c in row['Programme Category']:\n",
    "        yield (row['Project Name'], c)\n",
    "\n",
    "events_summary = {\n",
    "    'count': events.nrows(),\n",
    "    'projects': dict(events.aggregate('Project Name', len).records()),\n",
    "    'categories': dict(events.cut('Project Name', 'Programme Category').rowmapmany(category_exploder, header=['project', 'category']).aggregate(['category'], len).records())\n",
    "}"
   ]
  },
  {
   "cell_type": "code",
   "execution_count": 12,
   "metadata": {},
   "outputs": [],
   "source": [
    "with open(TARGET / 'events.json', 'w') as f:\n",
    "    json.dump(\n",
    "        {\n",
    "            'projects': project_summary,\n",
    "            'events': events_summary,\n",
    "        },\n",
    "        f,\n",
    "        indent=2\n",
    "    )"
   ]
  },
  {
   "cell_type": "markdown",
   "metadata": {},
   "source": [
    "## Tickets"
   ]
  },
  {
   "cell_type": "code",
   "execution_count": 13,
   "metadata": {},
   "outputs": [],
   "source": [
    "ticketed_events = (\n",
    "    etl\n",
    "    .fromcsv(PUBLISHED / 'ticketing/event-instances.csv')\n",
    "    .convert('start', etl.dateparser('%Y-%m-%d %H:%M:%S'))\n",
    "    .selectrangeopen('start', date_range[0], date_range[1])\n",
    "    .selectcontains('eventType', 'MainProgrammeEvent')\n",
    ")"
   ]
  },
  {
   "cell_type": "code",
   "execution_count": 14,
   "metadata": {},
   "outputs": [],
   "source": [
    "tickets_sold = (\n",
    "    etl\n",
    "    .fromcsv(PUBLISHED / 'ticketing/tickets.csv')\n",
    "    .selecteq('geography_type', 'oslaua')\n",
    "    .rightjoin(ticketed_events.cut('instance_id', 'event_name'))\n",
    "    .cut('event_name', 'geography_code', 'count_of_tickets')\n",
    "    .convertnumbers()\n",
    "    .selectnotnone('count_of_tickets')\n",
    ")"
   ]
  },
  {
   "cell_type": "code",
   "execution_count": 15,
   "metadata": {},
   "outputs": [],
   "source": [
    "ticket_summary = {\n",
    "    'events': {\n",
    "        'names': list(ticketed_events.cut('event_name').distinct().values('event_name')),\n",
    "        'count': ticketed_events.nrows(),\n",
    "    },\n",
    "    'sold': {\n",
    "        'total': sum(tickets_sold.values('count_of_tickets')),\n",
    "        'bradford': sum(tickets_sold.selecteq('geography_code', 'E08000032').values('count_of_tickets')),\n",
    "    }\n",
    "}"
   ]
  },
  {
   "cell_type": "code",
   "execution_count": 16,
   "metadata": {},
   "outputs": [],
   "source": [
    "with open(TARGET / 'tickets.json', 'w') as f:\n",
    "    json.dump(\n",
    "        ticket_summary,\n",
    "        f,\n",
    "        indent=2\n",
    "    )"
   ]
  },
  {
   "cell_type": "markdown",
   "metadata": {},
   "source": [
    "## Volunteers"
   ]
  },
  {
   "cell_type": "code",
   "execution_count": 17,
   "metadata": {},
   "outputs": [],
   "source": [
    "signups = (\n",
    "    etl\n",
    "    .fromcsv(PUBLISHED / 'volunteers/checkpoints.csv')\n",
    "    .convert('date', etl.dateparser('%Y-%m-%d'))\n",
    "    .selectle('date', date_range[1])\n",
    "    .convertnumbers(strict=False)\n",
    ")"
   ]
  },
  {
   "cell_type": "code",
   "execution_count": 18,
   "metadata": {},
   "outputs": [],
   "source": [
    "shifts = (\n",
    "    etl\n",
    "    .fromcsv(PUBLISHED / 'volunteers/shifts.csv')\n",
    "    .convert('date', etl.dateparser('%Y-%m-%d'))\n",
    "    .selecteq('type', 'BD25 Event')\n",
    "    .selectrangeopen('date', date_range[0], date_range[1])\n",
    "    .convertnumbers(strict=False)\n",
    ")"
   ]
  },
  {
   "cell_type": "code",
   "execution_count": 19,
   "metadata": {},
   "outputs": [],
   "source": [
    "volunteer_summary = {\n",
    "    'events': {\n",
    "        'count': shifts.cut('rosterfy_event_name').distinct().nrows(),\n",
    "        'names': list(shifts.cut('rosterfy_event_name').distinct().values('rosterfy_event_name')),\n",
    "    },\n",
    "    'shifts': {\n",
    "        'count': shifts.nrows(),\n",
    "        'attended': sum(shifts.values('attended')),\n",
    "        'hours': sum(shifts.values('hours')),\n",
    "    },\n",
    "    'people': {\n",
    "        'checkpoints': dict(signups.aggregate('checkpoint', sum, 'count').records()),\n",
    "    },\n",
    "}"
   ]
  },
  {
   "cell_type": "code",
   "execution_count": 20,
   "metadata": {},
   "outputs": [],
   "source": [
    "with open(TARGET / 'volunteers.json', 'w') as f:\n",
    "    json.dump(\n",
    "        volunteer_summary,\n",
    "        f,\n",
    "        indent=2\n",
    "    )"
   ]
  }
 ],
 "metadata": {
  "kernelspec": {
   "display_name": "bd25-L4uOQWuf",
   "language": "python",
   "name": "python3"
  },
  "language_info": {
   "codemirror_mode": {
    "name": "ipython",
    "version": 3
   },
   "file_extension": ".py",
   "mimetype": "text/x-python",
   "name": "python",
   "nbconvert_exporter": "python",
   "pygments_lexer": "ipython3",
   "version": "3.12.6"
  }
 },
 "nbformat": 4,
 "nbformat_minor": 2
}
