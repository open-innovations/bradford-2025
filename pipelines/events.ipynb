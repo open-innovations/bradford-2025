{
 "cells": [
  {
   "cell_type": "code",
   "execution_count": null,
   "metadata": {},
   "outputs": [],
   "source": [
    "id = 'loading-bay'\n",
    "spektrix_event_ids = ''\n",
    "venue_postcode = ''\n",
    "rosterfy_event_ids = ''\n",
    "project_ids = ''\n",
    "venue_ids = 'rec4maUwKspPcDxNl recFYiOZvNnYDgbfk recInFDrcQ4KutUcL recIrQ1v64zKajXU1 recalzwrAJkBYOz8w'"
   ]
  },
  {
   "cell_type": "code",
   "execution_count": null,
   "metadata": {
    "tags": [
     "parameters"
    ]
   },
   "outputs": [],
   "source": [
    "id: str\n",
    "spektrix_event_ids: str\n",
    "venue_postcode: str\n",
    "rosterfy_event_ids: str\n",
    "project_ids: str\n",
    "venue_ids: str"
   ]
  },
  {
   "cell_type": "code",
   "execution_count": null,
   "metadata": {},
   "outputs": [],
   "source": [
    "import json\n",
    "from datetime import datetime\n",
    "\n",
    "from utils.paths import SITE\n",
    "from utils.process.event import Programme, Sustainability, Tickets, Volunteers"
   ]
  },
  {
   "cell_type": "code",
   "execution_count": null,
   "metadata": {},
   "outputs": [],
   "source": [
    "OUTPUT_DIR = SITE / 'events' / id / '_data/event'\n",
    "PROGRAMME_DIR = OUTPUT_DIR / 'programme'\n",
    "PROGRAMME_DIR.mkdir(exist_ok=True, parents=True)\n",
    "TICKETS_DIR = OUTPUT_DIR / 'tickets'\n",
    "TICKETS_DIR.mkdir(exist_ok=True, parents=True)\n",
    "VOLUNTEERS_DIR = OUTPUT_DIR / 'volunteers'\n",
    "SUSTAINABILITY_DIR = OUTPUT_DIR / 'sustainability'"
   ]
  },
  {
   "cell_type": "code",
   "execution_count": null,
   "metadata": {},
   "outputs": [],
   "source": [
    "if project_ids or venue_ids:\n",
    "    programme = Programme(project_ids=project_ids.split(), venue_ids=venue_ids.split())\n",
    "    with open(PROGRAMME_DIR / 'summary.json', 'w') as f:\n",
    "        json.dump(programme.summarise(), f, indent=2)"
   ]
  },
  {
   "cell_type": "code",
   "execution_count": null,
   "metadata": {},
   "outputs": [],
   "source": [
    "if spektrix_event_ids:\n",
    "    tickets = Tickets(spektrix_event_ids.split())\n",
    "    tickets.detailed().tocsv(TICKETS_DIR / 'by_geography.csv')\n",
    "    tickets.summarise().tocsv(TICKETS_DIR / 'summary.csv')\n",
    "    tickets.types().tocsv(TICKETS_DIR / 'by_type.csv')"
   ]
  },
  {
   "cell_type": "code",
   "execution_count": null,
   "metadata": {},
   "outputs": [],
   "source": [
    "if rosterfy_event_ids:\n",
    "    VOLUNTEERS_DIR.mkdir(exist_ok=True, parents=True)\n",
    "    volunteers = Volunteers(str(rosterfy_event_ids).split())\n",
    "    volunteers.summarise().tocsv(VOLUNTEERS_DIR / 'summary.csv')"
   ]
  },
  {
   "cell_type": "code",
   "execution_count": null,
   "metadata": {},
   "outputs": [],
   "source": [
    "if project_ids:\n",
    "    SUSTAINABILITY_DIR.mkdir(exist_ok=True, parents=True)\n",
    "    sustainability = Sustainability(project_ids.split()).summarise()\n",
    "    sustainability.tocsv(SUSTAINABILITY_DIR / 'breakdown.csv')\n",
    "    sustainability.select(lambda r: r.impact_type == 'ALL' and r.scope == 'ALL').cut('tCO2e').tojson(SUSTAINABILITY_DIR / 'summary.json', lines=True)"
   ]
  }
 ],
 "metadata": {
  "kernelspec": {
   "display_name": "data.bradford2025.co.uk-DmiwwEw1",
   "language": "python",
   "name": "python3"
  },
  "language_info": {
   "codemirror_mode": {
    "name": "ipython",
    "version": 3
   },
   "file_extension": ".py",
   "mimetype": "text/x-python",
   "name": "python",
   "nbconvert_exporter": "python",
   "pygments_lexer": "ipython3",
   "version": "3.12.4"
  }
 },
 "nbformat": 4,
 "nbformat_minor": 2
}
