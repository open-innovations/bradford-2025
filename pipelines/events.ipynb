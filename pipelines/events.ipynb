{
 "cells": [
  {
   "cell_type": "code",
   "execution_count": null,
   "metadata": {},
   "outputs": [],
   "source": [
    "# Uncomment to enable debugging\n",
    "# TEST_SLUG = 'woodland-tribe'\n",
    "if 'TEST_SLUG' in vars() and TEST_SLUG is not None:\n",
    "    import yaml\n",
    "\n",
    "    slug = TEST_SLUG\n",
    "\n",
    "    with open('./params.yaml') as f:\n",
    "        params = yaml.load(f, yaml.SafeLoader)['events'][slug]\n",
    "\n",
    "    spektrix_event_ids = params['spektrix_event_ids']\n",
    "    venue_postcode = params['venue_postcode']\n",
    "    rosterfy_event_ids = params['rosterfy_event_ids']\n",
    "    project_ids = params['project_ids']\n",
    "    venue_ids = params['venue_ids']\n"
   ]
  },
  {
   "cell_type": "code",
   "execution_count": null,
   "metadata": {
    "tags": [
     "parameters"
    ]
   },
   "outputs": [],
   "source": [
    "spektrix_event_ids: str\n",
    "venue_postcode: str\n",
    "rosterfy_event_ids: str\n",
    "project_ids: str\n",
    "venue_ids: str\n",
    "slug: str"
   ]
  },
  {
   "cell_type": "code",
   "execution_count": null,
   "metadata": {},
   "outputs": [],
   "source": [
    "assert 'slug' in vars() and slug is not None, \"'slug' not defined'\""
   ]
  },
  {
   "cell_type": "code",
   "execution_count": null,
   "metadata": {},
   "outputs": [],
   "source": [
    "import json\n",
    "from datetime import datetime\n",
    "\n",
    "from utils.paths import SITE\n",
    "from utils.process.event import Programme, Sustainability, Tickets, Volunteers"
   ]
  },
  {
   "cell_type": "code",
   "execution_count": null,
   "metadata": {},
   "outputs": [],
   "source": [
    "OUTPUT_DIR = SITE / 'events' / slug / '_data/event'\n",
    "PROGRAMME_DIR = OUTPUT_DIR / 'programme'\n",
    "PROGRAMME_DIR.mkdir(exist_ok=True, parents=True)\n",
    "TICKETS_DIR = OUTPUT_DIR / 'tickets'\n",
    "TICKETS_DIR.mkdir(exist_ok=True, parents=True)\n",
    "VOLUNTEERS_DIR = OUTPUT_DIR / 'volunteers'\n",
    "SUSTAINABILITY_DIR = OUTPUT_DIR / 'sustainability'"
   ]
  },
  {
   "cell_type": "code",
   "execution_count": null,
   "metadata": {},
   "outputs": [],
   "source": [
    "if project_ids or venue_ids:\n",
    "    programme = Programme(project_ids=project_ids.split(), venue_ids=venue_ids.split())\n",
    "    with open(PROGRAMME_DIR / 'summary.json', 'w') as f:\n",
    "        json.dump(programme.summarise(), f, indent=2)\n",
    "    (\n",
    "        programme.events\n",
    "        .aggregate(['venue_name', 'project_name'], {\n",
    "            'start_date': ('date', min),\n",
    "            'end_date': ('date', max),\n",
    "            'event_count': (len),\n",
    "            'audience': ('audience', sum),\n",
    "            'participants': ('schedule_participants_community', sum),\n",
    "        })\n",
    "        .sort('start_date')\n",
    "        .convert(['start_date', 'end_date'], lambda x: x.isoformat())\n",
    "        .tojson(PROGRAMME_DIR / 'total_by_venue.json', indent=2)\n",
    "    )"
   ]
  },
  {
   "cell_type": "code",
   "execution_count": null,
   "metadata": {},
   "outputs": [],
   "source": [
    "if spektrix_event_ids:\n",
    "    tickets = Tickets(spektrix_event_ids.split())\n",
    "    tickets.detailed().tocsv(TICKETS_DIR / 'by_geography.csv')\n",
    "    tickets.summarise().tocsv(TICKETS_DIR / 'summary.csv')\n",
    "    tickets.types().tocsv(TICKETS_DIR / 'by_type.csv')"
   ]
  },
  {
   "cell_type": "code",
   "execution_count": null,
   "metadata": {},
   "outputs": [],
   "source": [
    "if rosterfy_event_ids:\n",
    "    VOLUNTEERS_DIR.mkdir(exist_ok=True, parents=True)\n",
    "    volunteers = Volunteers(str(rosterfy_event_ids).split())\n",
    "    volunteers.summarise().tocsv(VOLUNTEERS_DIR / 'summary.csv')"
   ]
  },
  {
   "cell_type": "code",
   "execution_count": null,
   "metadata": {},
   "outputs": [],
   "source": [
    "if project_ids:\n",
    "    SUSTAINABILITY_DIR.mkdir(exist_ok=True, parents=True)\n",
    "    sustainability = Sustainability(project_ids.split()).summarise()\n",
    "    sustainability.tocsv(SUSTAINABILITY_DIR / 'breakdown.csv')\n",
    "    sustainability.select(lambda r: r.impact_type == 'ALL' and r.scope == 'ALL').cut('tCO2e').tojson(SUSTAINABILITY_DIR / 'summary.json', lines=True)"
   ]
  }
 ],
 "metadata": {
  "kernelspec": {
   "display_name": "data.bradford2025.co.uk-DmiwwEw1",
   "language": "python",
   "name": "python3"
  },
  "language_info": {
   "codemirror_mode": {
    "name": "ipython",
    "version": 3
   },
   "file_extension": ".py",
   "mimetype": "text/x-python",
   "name": "python",
   "nbconvert_exporter": "python",
   "pygments_lexer": "ipython3",
   "version": "3.12.4"
  }
 },
 "nbformat": 4,
 "nbformat_minor": 2
}
