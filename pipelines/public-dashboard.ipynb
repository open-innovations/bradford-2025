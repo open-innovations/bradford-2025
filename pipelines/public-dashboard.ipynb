{
 "cells": [
  {
   "cell_type": "code",
   "execution_count": null,
   "id": "e0e6b87c",
   "metadata": {},
   "outputs": [],
   "source": [
    "from datetime import date\n",
    "\n",
    "from rap_utils.petl.io.parquet_view import ParquetView\n",
    "\n",
    "from utils.paths import PUBLISHED, SITE"
   ]
  },
  {
   "cell_type": "code",
   "execution_count": null,
   "id": "7b2c0274",
   "metadata": {},
   "outputs": [],
   "source": [
    "DATA_DIR = SITE / 'insights/dashboard/public/_data/'\n",
    "DATA_DIR.mkdir(exist_ok=True, parents=True)"
   ]
  },
  {
   "cell_type": "code",
   "execution_count": null,
   "id": "dedc99b6",
   "metadata": {},
   "outputs": [],
   "source": [
    "programme_data = (\n",
    "    ParquetView(PUBLISHED / 'combined/programme.parquet')\n",
    "    .selectrangeopenleft('month', date.fromisoformat('2025-01-01'), min(date.fromisoformat('2026-01-01'), date.today()))\n",
    "    .aggregate(['month', 'variable'], sum, 'value')\n",
    "    .rename('month', 'Date')\n",
    "    .convert('Date', str)\n",
    "    .convert('Date', lambda x: x[:-3])\n",
    ")"
   ]
  },
  {
   "cell_type": "code",
   "execution_count": null,
   "id": "ad976a33",
   "metadata": {},
   "outputs": [],
   "source": [
    "(\n",
    "    programme_data\n",
    "    .selecteq('variable', 'audience')\n",
    "    .cutout('variable')\n",
    "    .tojson(DATA_DIR / 'graph/audiences/total.json', indent=2)\n",
    ")"
   ]
  },
  {
   "cell_type": "code",
   "execution_count": null,
   "id": "12f2d33b",
   "metadata": {},
   "outputs": [],
   "source": [
    "(\n",
    "    programme_data\n",
    "    .selecteq('variable', 'events')\n",
    "    .cutout('variable')\n",
    "    .tojson(DATA_DIR / 'graph/events/total.json', indent=2)\n",
    ")"
   ]
  },
  {
   "cell_type": "code",
   "execution_count": null,
   "id": "060483ef",
   "metadata": {},
   "outputs": [],
   "source": [
    "(\n",
    "    programme_data\n",
    "    .selecteq('variable', 'participants_community')\n",
    "    .cutout('variable')\n",
    "    .tojson(DATA_DIR / 'graph/participants/total.json', indent=2)\n",
    ")"
   ]
  },
  {
   "cell_type": "code",
   "execution_count": null,
   "id": "2b8cb4e3",
   "metadata": {},
   "outputs": [],
   "source": []
  }
 ],
 "metadata": {
  "kernelspec": {
   "display_name": "data.bradford2025.co.uk-DmiwwEw1",
   "language": "python",
   "name": "python3"
  },
  "language_info": {
   "codemirror_mode": {
    "name": "ipython",
    "version": 3
   },
   "file_extension": ".py",
   "mimetype": "text/x-python",
   "name": "python",
   "nbconvert_exporter": "python",
   "pygments_lexer": "ipython3",
   "version": "3.12.4"
  }
 },
 "nbformat": 4,
 "nbformat_minor": 5
}
