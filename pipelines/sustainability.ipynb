{
 "cells": [
  {
   "cell_type": "code",
   "execution_count": 2,
   "metadata": {},
   "outputs": [],
   "source": [
    "import json\n",
    "\n",
    "import petl as etl\n",
    "\n",
    "from utils.paths import PUBLISHED, SITE"
   ]
  },
  {
   "cell_type": "code",
   "execution_count": 3,
   "metadata": {},
   "outputs": [],
   "source": [
    "TARGET = SITE / 'themes/sustainability/_data/calculations/'\n",
    "\n",
    "TARGET.mkdir(exist_ok=True, parents=True)"
   ]
  },
  {
   "cell_type": "code",
   "execution_count": 4,
   "metadata": {},
   "outputs": [],
   "source": [
    "data = (\n",
    "    etl\n",
    "    .fromcsv(PUBLISHED / 'sustainability/calculations.csv')\n",
    "    .convert(['date_from', 'date_to'], etl.dateparser('%Y-%m-%d'))\n",
    "    .convertnumbers()\n",
    ")"
   ]
  },
  {
   "cell_type": "code",
   "execution_count": null,
   "metadata": {},
   "outputs": [],
   "source": [
    "data"
   ]
  },
  {
   "cell_type": "code",
   "execution_count": 6,
   "metadata": {},
   "outputs": [],
   "source": [
    "by_impact_type = (\n",
    "    data\n",
    "    .aggregate(['impact_type'], sum, 'calculation_tco2e')\n",
    "    .sort('value', reverse=True)\n",
    ")"
   ]
  },
  {
   "cell_type": "code",
   "execution_count": null,
   "metadata": {},
   "outputs": [],
   "source": [
    "etl.cat(\n",
    "    by_impact_type,\n",
    ")"
   ]
  },
  {
   "cell_type": "code",
   "execution_count": 22,
   "metadata": {},
   "outputs": [],
   "source": [
    "total_tco2e = list(by_impact_type.aggregate(None, sum, 'value').values('value'))[0]"
   ]
  },
  {
   "cell_type": "code",
   "execution_count": 23,
   "metadata": {},
   "outputs": [],
   "source": [
    "project_related_emissions = (\n",
    "    data\n",
    "    .cut('project_id', 'calculation_tco2e')\n",
    "    .convert('project_id', lambda f: True if f else False)\n",
    "    .aggregate(\n",
    "        'project_id', sum, 'calculation_tco2e'\n",
    "    )\n",
    "    .convert('value', lambda f: round(100 * f / total_tco2e, 1))\n",
    "    .selecttrue('project_id')\n",
    "    .values('value')[0]\n",
    ")"
   ]
  },
  {
   "cell_type": "code",
   "execution_count": null,
   "metadata": {},
   "outputs": [],
   "source": [
    "\n",
    "with open(TARGET / 'summary.json', 'w') as f:\n",
    "    json.dump(\n",
    "        {\n",
    "            'total_tCO2e': round(total_tco2e, 1),\n",
    "            'project_related_emissions': project_related_emissions,\n",
    "        },\n",
    "        f\n",
    "    )"
   ]
  },
  {
   "cell_type": "code",
   "execution_count": 9,
   "metadata": {},
   "outputs": [],
   "source": [
    "with open(TARGET / 'by_impact.json', 'w') as f:\n",
    "    json.dump(\n",
    "        [{ r.impact_type: r.value for r in by_impact_type.convert('value', lambda r: round(100 * r / total_tco2e, 1)).records() }],\n",
    "        f\n",
    "    )"
   ]
  }
 ],
 "metadata": {
  "kernelspec": {
   "display_name": "bd25-L4uOQWuf",
   "language": "python",
   "name": "python3"
  },
  "language_info": {
   "codemirror_mode": {
    "name": "ipython",
    "version": 3
   },
   "file_extension": ".py",
   "mimetype": "text/x-python",
   "name": "python",
   "nbconvert_exporter": "python",
   "pygments_lexer": "ipython3",
   "version": "3.12.6"
  }
 },
 "nbformat": 4,
 "nbformat_minor": 2
}
