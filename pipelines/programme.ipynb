{
 "cells": [
  {
   "cell_type": "markdown",
   "metadata": {},
   "source": [
    "# Programme data\n",
    "\n",
    "This notebook prepares data for the Programme theme page."
   ]
  },
  {
   "cell_type": "code",
   "execution_count": 1,
   "metadata": {},
   "outputs": [],
   "source": [
    "import json\n",
    "from datetime import date\n",
    "\n",
    "from utils.paths import SITE\n",
    "from utils.themes.programme_slice import ProgrammeSlice"
   ]
  },
  {
   "cell_type": "code",
   "execution_count": 2,
   "metadata": {},
   "outputs": [],
   "source": [
    "EVENTS = SITE / 'themes/programme/_data/events'\n",
    "EVENTS.mkdir(exist_ok=True, parents=True)"
   ]
  },
  {
   "cell_type": "markdown",
   "metadata": {},
   "source": [
    "## Events data"
   ]
  },
  {
   "cell_type": "markdown",
   "metadata": {},
   "source": [
    "Read events"
   ]
  },
  {
   "cell_type": "code",
   "execution_count": 3,
   "metadata": {},
   "outputs": [],
   "source": [
    "programme_data = ProgrammeSlice(range=(date.min, date.today()))"
   ]
  },
  {
   "cell_type": "markdown",
   "metadata": {},
   "source": [
    "Create an aggregate by month of the events"
   ]
  },
  {
   "cell_type": "code",
   "execution_count": 4,
   "metadata": {},
   "outputs": [],
   "source": [
    "(\n",
    "    programme_data.events\n",
    "    .aggregate('month', {\n",
    "        'Events': ('events', sum),\n",
    "        'Audience': ('audience', sum),\n",
    "        'Participants': ('participants', sum),\n",
    "        # 'Records': (len),\n",
    "    })\n",
    "    .convert('month', lambda f: f.isoformat())\n",
    "    .tocsv(EVENTS / 'total_by_month.csv')\n",
    ")"
   ]
  },
  {
   "cell_type": "markdown",
   "metadata": {},
   "source": [
    "Aggregate by Project and by Month, and convert months to columns"
   ]
  },
  {
   "cell_type": "code",
   "execution_count": 5,
   "metadata": {},
   "outputs": [],
   "source": [
    "(\n",
    "    programme_data.events\n",
    "    .aggregate(['project_name', 'month'], sum, 'events')\n",
    "    .recast(key='project_name', variablefield='month', missing=0)\n",
    "    .tocsv(EVENTS / 'monthly_by_project.csv')\n",
    ")"
   ]
  },
  {
   "cell_type": "code",
   "execution_count": 6,
   "metadata": {},
   "outputs": [],
   "source": [
    "(\n",
    "    programme_data.events\n",
    "    .aggregate(['project_name', 'month'], sum, 'audience')\n",
    "    .recast(key='project_name', variablefield='month', missing=0)\n",
    "    .tocsv(EVENTS / 'monthly_by_project_audience.csv')\n",
    ")"
   ]
  },
  {
   "cell_type": "code",
   "execution_count": 7,
   "metadata": {},
   "outputs": [],
   "source": [
    "(\n",
    "    programme_data.events\n",
    "    .aggregate(['project_name', 'month'], sum, 'participants')\n",
    "    .recast(key='project_name', variablefield='month', missing=0)\n",
    "    .tocsv(EVENTS / 'monthly_by_project_participants.csv')\n",
    ")"
   ]
  },
  {
   "cell_type": "markdown",
   "metadata": {},
   "source": [
    "Aggregate by Project and by Month, and convert projects to columns"
   ]
  },
  {
   "cell_type": "code",
   "execution_count": 8,
   "metadata": {},
   "outputs": [],
   "source": [
    "(\n",
    "    programme_data.events\n",
    "    .aggregate(['project_name', 'month'], sum, 'events')\n",
    "    .recast(key='month', variablefield='project_name', missing=0)\n",
    "    .tocsv(EVENTS / 'monthly_breakdown.csv')\n",
    ")"
   ]
  },
  {
   "cell_type": "markdown",
   "metadata": {},
   "source": [
    "## Project summaries"
   ]
  },
  {
   "cell_type": "markdown",
   "metadata": {},
   "source": [
    "Create a project breakdown"
   ]
  },
  {
   "cell_type": "code",
   "execution_count": 9,
   "metadata": {},
   "outputs": [
    {
     "data": {
      "text/html": [
       "<table class='petl'>\n",
       "<thead>\n",
       "<tr>\n",
       "<th>project_name</th>\n",
       "<th>evaluation_category</th>\n",
       "<th>audience</th>\n",
       "<th>events</th>\n",
       "<th>manual_events</th>\n",
       "<th>manual_participants_community</th>\n",
       "<th>participants</th>\n",
       "<th>projected_events</th>\n",
       "<th>schedule_events</th>\n",
       "<th>schedule_participants_community</th>\n",
       "</tr>\n",
       "</thead>\n",
       "<tbody>\n",
       "<tr>\n",
       "<td>Bradford 2025 Website</td>\n",
       "<td>Digital</td>\n",
       "<td style='text-align: right'>1427381</td>\n",
       "<td style='text-align: right'>0</td>\n",
       "<td>None</td>\n",
       "<td>None</td>\n",
       "<td style='text-align: right'>0</td>\n",
       "<td>None</td>\n",
       "<td>None</td>\n",
       "<td>None</td>\n",
       "</tr>\n",
       "<tr>\n",
       "<td>Bradford Glow</td>\n",
       "<td>Digital</td>\n",
       "<td style='text-align: right'>0</td>\n",
       "<td style='text-align: right'>0</td>\n",
       "<td style='text-align: right'>0</td>\n",
       "<td>None</td>\n",
       "<td style='text-align: right'>0</td>\n",
       "<td>None</td>\n",
       "<td>None</td>\n",
       "<td>None</td>\n",
       "</tr>\n",
       "<tr>\n",
       "<td>Bradford On Foot</td>\n",
       "<td>Digital</td>\n",
       "<td style='text-align: right'>0</td>\n",
       "<td style='text-align: right'>0</td>\n",
       "<td style='text-align: right'>0</td>\n",
       "<td style='text-align: right'>2162</td>\n",
       "<td style='text-align: right'>2162</td>\n",
       "<td>None</td>\n",
       "<td>None</td>\n",
       "<td>None</td>\n",
       "</tr>\n",
       "<tr>\n",
       "<td>Bradford Progress</td>\n",
       "<td>Digital</td>\n",
       "<td style='text-align: right'>0</td>\n",
       "<td style='text-align: right'>0</td>\n",
       "<td style='text-align: right'>0</td>\n",
       "<td>None</td>\n",
       "<td style='text-align: right'>0</td>\n",
       "<td>None</td>\n",
       "<td>None</td>\n",
       "<td>None</td>\n",
       "</tr>\n",
       "<tr>\n",
       "<td>CHANNELS</td>\n",
       "<td>Digital</td>\n",
       "<td style='text-align: right'>0</td>\n",
       "<td style='text-align: right'>0</td>\n",
       "<td style='text-align: right'>0</td>\n",
       "<td style='text-align: right'>786</td>\n",
       "<td style='text-align: right'>786</td>\n",
       "<td>None</td>\n",
       "<td>None</td>\n",
       "<td>None</td>\n",
       "</tr>\n",
       "</tbody>\n",
       "</table>\n",
       "<p><strong>...</strong></p>"
      ],
      "text/plain": [
       "+-------------------------+---------------------+----------+--------+---------------+-------------------------------+--------------+------------------+-----------------+---------------------------------+\n",
       "| project_name            | evaluation_category | audience | events | manual_events | manual_participants_community | participants | projected_events | schedule_events | schedule_participants_community |\n",
       "+=========================+=====================+==========+========+===============+===============================+==============+==================+=================+=================================+\n",
       "| 'Bradford 2025 Website' | 'Digital'           |  1427381 |      0 | None          | None                          |            0 | None             | None            | None                            |\n",
       "+-------------------------+---------------------+----------+--------+---------------+-------------------------------+--------------+------------------+-----------------+---------------------------------+\n",
       "| 'Bradford Glow'         | 'Digital'           |        0 |      0 |             0 | None                          |            0 | None             | None            | None                            |\n",
       "+-------------------------+---------------------+----------+--------+---------------+-------------------------------+--------------+------------------+-----------------+---------------------------------+\n",
       "| 'Bradford On Foot'      | 'Digital'           |        0 |      0 |             0 |                          2162 |         2162 | None             | None            | None                            |\n",
       "+-------------------------+---------------------+----------+--------+---------------+-------------------------------+--------------+------------------+-----------------+---------------------------------+\n",
       "| 'Bradford Progress'     | 'Digital'           |        0 |      0 |             0 | None                          |            0 | None             | None            | None                            |\n",
       "+-------------------------+---------------------+----------+--------+---------------+-------------------------------+--------------+------------------+-----------------+---------------------------------+\n",
       "| 'CHANNELS'              | 'Digital'           |        0 |      0 |             0 |                           786 |          786 | None             | None            | None                            |\n",
       "+-------------------------+---------------------+----------+--------+---------------+-------------------------------+--------------+------------------+-----------------+---------------------------------+\n",
       "..."
      ]
     },
     "execution_count": 9,
     "metadata": {},
     "output_type": "execute_result"
    }
   ],
   "source": [
    "programme_data.project_breakdown.selecteq('evaluation_category', 'Digital')"
   ]
  },
  {
   "cell_type": "code",
   "execution_count": 10,
   "metadata": {},
   "outputs": [],
   "source": [
    "with open(EVENTS / 'by_project.json', 'w') as f:\n",
    "    json.dump(\n",
    "        dict(\n",
    "            programme_data.project_details.records()\n",
    "        ),\n",
    "        f,\n",
    "        indent=2,\n",
    "    )"
   ]
  },
  {
   "cell_type": "markdown",
   "metadata": {},
   "source": [
    "Create a summary file"
   ]
  },
  {
   "cell_type": "code",
   "execution_count": 11,
   "metadata": {},
   "outputs": [
    {
     "data": {
      "text/html": [
       "<table class='petl'>\n",
       "<thead>\n",
       "<tr>\n",
       "<th>row</th>\n",
       "<th>project_id</th>\n",
       "<th>project_name</th>\n",
       "<th>programme_category</th>\n",
       "<th>evaluation_category</th>\n",
       "<th>month</th>\n",
       "<th>venue</th>\n",
       "<th>source</th>\n",
       "<th>date</th>\n",
       "<th>start_date</th>\n",
       "<th>end_date</th>\n",
       "<th>variable</th>\n",
       "<th>value</th>\n",
       "<th>validation</th>\n",
       "</tr>\n",
       "</thead>\n",
       "<tbody>\n",
       "<tr>\n",
       "<td style='text-align: right'>3993</td>\n",
       "<td></td>\n",
       "<td>Bradford Glow</td>\n",
       "<td>[]</td>\n",
       "<td>Digital</td>\n",
       "<td>2025-12-01</td>\n",
       "<td>None</td>\n",
       "<td>Manual</td>\n",
       "<td>2025-12-31</td>\n",
       "<td>2025-12-31</td>\n",
       "<td>2025-12-31</td>\n",
       "<td>manual_events</td>\n",
       "<td style='text-align: right'>0</td>\n",
       "<td>after_requested_date_range</td>\n",
       "</tr>\n",
       "<tr>\n",
       "<td style='text-align: right'>28</td>\n",
       "<td>rec0PhMaC6JQ0VaDk</td>\n",
       "<td>Wandering Imaginations: Emerging Fantasy Writer Exchange</td>\n",
       "<td>['Literature', 'International', 'Exhibition']</td>\n",
       "<td>Exhibition</td>\n",
       "<td>2025-08-01</td>\n",
       "<td>None</td>\n",
       "<td>Airtable::Project Hub</td>\n",
       "<td>2025-08-01</td>\n",
       "<td>2025-08-01</td>\n",
       "<td>2025-08-31</td>\n",
       "<td>schedule_events</td>\n",
       "<td style='text-align: right'>1</td>\n",
       "<td>after_requested_date_range</td>\n",
       "</tr>\n",
       "<tr>\n",
       "<td style='text-align: right'>28</td>\n",
       "<td>rec0PhMaC6JQ0VaDk</td>\n",
       "<td>Wandering Imaginations: Emerging Fantasy Writer Exchange</td>\n",
       "<td>['Literature', 'International', 'Exhibition']</td>\n",
       "<td>Exhibition</td>\n",
       "<td>2025-08-01</td>\n",
       "<td>None</td>\n",
       "<td>Airtable::Project Hub</td>\n",
       "<td>2025-08-01</td>\n",
       "<td>2025-08-01</td>\n",
       "<td>2025-08-31</td>\n",
       "<td>projected_events</td>\n",
       "<td style='text-align: right'>31</td>\n",
       "<td>after_requested_date_range</td>\n",
       "</tr>\n",
       "<tr>\n",
       "<td style='text-align: right'>28</td>\n",
       "<td>rec0PhMaC6JQ0VaDk</td>\n",
       "<td>Wandering Imaginations: Emerging Fantasy Writer Exchange</td>\n",
       "<td>['Literature', 'International', 'Exhibition']</td>\n",
       "<td>Exhibition</td>\n",
       "<td>2025-08-01</td>\n",
       "<td>None</td>\n",
       "<td>Airtable::Project Hub</td>\n",
       "<td>2025-08-01</td>\n",
       "<td>2025-08-01</td>\n",
       "<td>2025-08-31</td>\n",
       "<td>audience</td>\n",
       "<td style='text-align: right'>0</td>\n",
       "<td>after_requested_date_range</td>\n",
       "</tr>\n",
       "<tr>\n",
       "<td style='text-align: right'>28</td>\n",
       "<td>rec0PhMaC6JQ0VaDk</td>\n",
       "<td>Wandering Imaginations: Emerging Fantasy Writer Exchange</td>\n",
       "<td>['Literature', 'International', 'Exhibition']</td>\n",
       "<td>Exhibition</td>\n",
       "<td>2025-08-01</td>\n",
       "<td>None</td>\n",
       "<td>Airtable::Project Hub</td>\n",
       "<td>2025-08-01</td>\n",
       "<td>2025-08-01</td>\n",
       "<td>2025-08-31</td>\n",
       "<td>schedule_participants_community</td>\n",
       "<td style='text-align: right'>0</td>\n",
       "<td>after_requested_date_range</td>\n",
       "</tr>\n",
       "</tbody>\n",
       "</table>\n",
       "<p><strong>...</strong></p>"
      ],
      "text/plain": [
       "+------+---------------------+------------------------------------------------------------+-----------------------------------------------+---------------------+----------------------------+-------+-------------------------+-----------------------------+-----------------------------+-----------------------------+-----------------------------------+-------+------------------------------+\n",
       "| row  | project_id          | project_name                                               | programme_category                            | evaluation_category | month                      | venue | source                  | date                        | start_date                  | end_date                    | variable                          | value | validation                   |\n",
       "+======+=====================+============================================================+===============================================+=====================+============================+=======+=========================+=============================+=============================+=============================+===================================+=======+==============================+\n",
       "| 3993 | ''                  | 'Bradford Glow'                                            | []                                            | 'Digital'           | datetime.date(2025, 12, 1) | None  | 'Manual'                | datetime.date(2025, 12, 31) | datetime.date(2025, 12, 31) | datetime.date(2025, 12, 31) | 'manual_events'                   |     0 | 'after_requested_date_range' |\n",
       "+------+---------------------+------------------------------------------------------------+-----------------------------------------------+---------------------+----------------------------+-------+-------------------------+-----------------------------+-----------------------------+-----------------------------+-----------------------------------+-------+------------------------------+\n",
       "|   28 | 'rec0PhMaC6JQ0VaDk' | 'Wandering Imaginations: Emerging Fantasy Writer Exchange' | ['Literature', 'International', 'Exhibition'] | 'Exhibition'        | datetime.date(2025, 8, 1)  | None  | 'Airtable::Project Hub' | datetime.date(2025, 8, 1)   | datetime.date(2025, 8, 1)   | datetime.date(2025, 8, 31)  | 'schedule_events'                 |     1 | 'after_requested_date_range' |\n",
       "+------+---------------------+------------------------------------------------------------+-----------------------------------------------+---------------------+----------------------------+-------+-------------------------+-----------------------------+-----------------------------+-----------------------------+-----------------------------------+-------+------------------------------+\n",
       "|   28 | 'rec0PhMaC6JQ0VaDk' | 'Wandering Imaginations: Emerging Fantasy Writer Exchange' | ['Literature', 'International', 'Exhibition'] | 'Exhibition'        | datetime.date(2025, 8, 1)  | None  | 'Airtable::Project Hub' | datetime.date(2025, 8, 1)   | datetime.date(2025, 8, 1)   | datetime.date(2025, 8, 31)  | 'projected_events'                |    31 | 'after_requested_date_range' |\n",
       "+------+---------------------+------------------------------------------------------------+-----------------------------------------------+---------------------+----------------------------+-------+-------------------------+-----------------------------+-----------------------------+-----------------------------+-----------------------------------+-------+------------------------------+\n",
       "|   28 | 'rec0PhMaC6JQ0VaDk' | 'Wandering Imaginations: Emerging Fantasy Writer Exchange' | ['Literature', 'International', 'Exhibition'] | 'Exhibition'        | datetime.date(2025, 8, 1)  | None  | 'Airtable::Project Hub' | datetime.date(2025, 8, 1)   | datetime.date(2025, 8, 1)   | datetime.date(2025, 8, 31)  | 'audience'                        |     0 | 'after_requested_date_range' |\n",
       "+------+---------------------+------------------------------------------------------------+-----------------------------------------------+---------------------+----------------------------+-------+-------------------------+-----------------------------+-----------------------------+-----------------------------+-----------------------------------+-------+------------------------------+\n",
       "|   28 | 'rec0PhMaC6JQ0VaDk' | 'Wandering Imaginations: Emerging Fantasy Writer Exchange' | ['Literature', 'International', 'Exhibition'] | 'Exhibition'        | datetime.date(2025, 8, 1)  | None  | 'Airtable::Project Hub' | datetime.date(2025, 8, 1)   | datetime.date(2025, 8, 1)   | datetime.date(2025, 8, 31)  | 'schedule_participants_community' |     0 | 'after_requested_date_range' |\n",
       "+------+---------------------+------------------------------------------------------------+-----------------------------------------------+---------------------+----------------------------+-------+-------------------------+-----------------------------+-----------------------------+-----------------------------+-----------------------------------+-------+------------------------------+\n",
       "..."
      ]
     },
     "execution_count": 11,
     "metadata": {},
     "output_type": "execute_result"
    }
   ],
   "source": [
    "programme_data.excluded_events_data"
   ]
  },
  {
   "cell_type": "code",
   "execution_count": 12,
   "metadata": {},
   "outputs": [
    {
     "name": "stderr",
     "output_type": "stream",
     "text": [
      "/tmp/ipykernel_3058484/735255026.py:7: DeprecationWarning: NotImplemented should not be used in a boolean context\n",
      "  'participants': sum(filter(None.__ne__, programme_data.events.values('participants')), 0),\n"
     ]
    }
   ],
   "source": [
    "with open(EVENTS / 'summary.json', 'w') as f:\n",
    "    json.dump(\n",
    "        {\n",
    "            'total': {\n",
    "                'events': sum(programme_data.events.values('events')),\n",
    "                'audience': sum(a for a in programme_data.events.values('audience') if a is not None),\n",
    "                'participants': sum(filter(None.__ne__, programme_data.events.values('participants')), 0),\n",
    "            },\n",
    "            'excluded': dict(programme_data.excluded_events_data.aggregate('validation', len).records()),\n",
    "            'date': {\n",
    "                'earliest': min(programme_data.events_data.values('start_date')).isoformat(),\n",
    "                'latest': max(programme_data.events_data.values('end_date')).isoformat(),\n",
    "            }\n",
    "        },\n",
    "        f,\n",
    "        indent=2,\n",
    "    )"
   ]
  },
  {
   "cell_type": "markdown",
   "metadata": {},
   "source": [
    "## Venues"
   ]
  },
  {
   "cell_type": "code",
   "execution_count": 13,
   "metadata": {},
   "outputs": [],
   "source": [
    "from utils.themes.programme import Programme"
   ]
  },
  {
   "cell_type": "code",
   "execution_count": 14,
   "metadata": {},
   "outputs": [],
   "source": [
    "education_settings = (\n",
    "    Programme.venues\n",
    "    .selectcontains('Org/Venue Type', 'Education Setting')\n",
    ")"
   ]
  },
  {
   "cell_type": "code",
   "execution_count": 15,
   "metadata": {},
   "outputs": [
    {
     "data": {
      "text/html": [
       "<table class='petl'>\n",
       "<thead>\n",
       "<tr>\n",
       "<th>Organisation &/or Venue Name</th>\n",
       "<th>value</th>\n",
       "</tr>\n",
       "</thead>\n",
       "<tbody>\n",
       "<tr>\n",
       "<td>Loading Bay</td>\n",
       "<td style='text-align: right'>8</td>\n",
       "</tr>\n",
       "<tr>\n",
       "<td>Loading Bay (previously 26 piccadilly)</td>\n",
       "<td style='text-align: right'>0</td>\n",
       "</tr>\n",
       "<tr>\n",
       "<td>Loading Bay 2nd Floor</td>\n",
       "<td style='text-align: right'>0</td>\n",
       "</tr>\n",
       "<tr>\n",
       "<td>Loading Bay Basement</td>\n",
       "<td style='text-align: right'>17</td>\n",
       "</tr>\n",
       "<tr>\n",
       "<td>Loading Bay Gallery</td>\n",
       "<td style='text-align: right'>51</td>\n",
       "</tr>\n",
       "</tbody>\n",
       "</table>\n",
       "<p><strong>...</strong></p>"
      ],
      "text/plain": [
       "+------------------------------------------+-------+\n",
       "| Organisation &/or Venue Name             | value |\n",
       "+==========================================+=======+\n",
       "| 'Loading Bay'                            |     8 |\n",
       "+------------------------------------------+-------+\n",
       "| 'Loading Bay (previously 26 piccadilly)' |     0 |\n",
       "+------------------------------------------+-------+\n",
       "| 'Loading Bay 2nd Floor'                  |     0 |\n",
       "+------------------------------------------+-------+\n",
       "| 'Loading Bay Basement'                   |    17 |\n",
       "+------------------------------------------+-------+\n",
       "| 'Loading Bay Gallery'                    |    51 |\n",
       "+------------------------------------------+-------+\n",
       "..."
      ]
     },
     "execution_count": 15,
     "metadata": {},
     "output_type": "execute_result"
    }
   ],
   "source": [
    "loading_bay = (\n",
    "    Programme.venues\n",
    "    .selectcontains('Organisation &/or Venue Name', 'Loading Bay')\n",
    "    .addfield('event_report_count', lambda r: len(r['Event Reports']))\n",
    "    .aggregate(['Organisation &/or Venue Name', 'id'], sum, 'event_report_count')\n",
    "    .cutout('id')\n",
    ")\n",
    "loading_bay"
   ]
  },
  {
   "cell_type": "code",
   "execution_count": 16,
   "metadata": {},
   "outputs": [
    {
     "data": {
      "text/html": [
       "<table class='petl'>\n",
       "<thead>\n",
       "<tr>\n",
       "<th>Organisation &/or Venue Name</th>\n",
       "<th>value</th>\n",
       "</tr>\n",
       "</thead>\n",
       "<tbody>\n",
       "<tr>\n",
       "<td>Beacon - Bowling Park</td>\n",
       "<td style='text-align: right'>59</td>\n",
       "</tr>\n",
       "<tr>\n",
       "<td>Beacon - Cliffe Castle</td>\n",
       "<td style='text-align: right'>0</td>\n",
       "</tr>\n",
       "<tr>\n",
       "<td>Beacon - Lister Park</td>\n",
       "<td style='text-align: right'>0</td>\n",
       "</tr>\n",
       "<tr>\n",
       "<td>Beacon - Wibsey Park</td>\n",
       "<td style='text-align: right'>56</td>\n",
       "</tr>\n",
       "</tbody>\n",
       "</table>\n"
      ],
      "text/plain": [
       "+------------------------------+-------+\n",
       "| Organisation &/or Venue Name | value |\n",
       "+==============================+=======+\n",
       "| 'Beacon - Bowling Park'      |    59 |\n",
       "+------------------------------+-------+\n",
       "| 'Beacon - Cliffe Castle'     |     0 |\n",
       "+------------------------------+-------+\n",
       "| 'Beacon - Lister Park'       |     0 |\n",
       "+------------------------------+-------+\n",
       "| 'Beacon - Wibsey Park'       |    56 |\n",
       "+------------------------------+-------+"
      ]
     },
     "execution_count": 16,
     "metadata": {},
     "output_type": "execute_result"
    }
   ],
   "source": [
    "beacon = (\n",
    "    Programme.venues\n",
    "    .selectcontains('Organisation &/or Venue Name', 'Beacon - ')\n",
    "    .addfield('event_report_count', lambda r: len(r['Event Reports'] or []))\n",
    "    .aggregate(['Organisation &/or Venue Name', 'id'], sum, 'event_report_count')\n",
    "    .cutout('id')\n",
    ")\n",
    "beacon"
   ]
  },
  {
   "cell_type": "code",
   "execution_count": 17,
   "metadata": {},
   "outputs": [],
   "source": [
    "json.dump(\n",
    "    {\n",
    "        'loading_bay': dict(loading_bay.records()),\n",
    "        'beacon': dict(beacon.records()),\n",
    "    },\n",
    "    open(EVENTS / 'by_venue.json', 'w')\n",
    ")"
   ]
  }
 ],
 "metadata": {
  "kernelspec": {
   "display_name": "data.bradford2025.co.uk-DmiwwEw1",
   "language": "python",
   "name": "python3"
  },
  "language_info": {
   "codemirror_mode": {
    "name": "ipython",
    "version": 3
   },
   "file_extension": ".py",
   "mimetype": "text/x-python",
   "name": "python",
   "nbconvert_exporter": "python",
   "pygments_lexer": "ipython3",
   "version": "3.12.4"
  }
 },
 "nbformat": 4,
 "nbformat_minor": 2
}
