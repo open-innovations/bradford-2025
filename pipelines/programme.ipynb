{
 "cells": [
  {
   "cell_type": "markdown",
   "metadata": {},
   "source": [
    "# Programme data\n",
    "\n",
    "This notebook prepares data for the Programme theme page."
   ]
  },
  {
   "cell_type": "code",
   "execution_count": 1,
   "metadata": {},
   "outputs": [],
   "source": [
    "import json\n",
    "from datetime import date\n",
    "\n",
    "from utils.themes.programme import Programme\n",
    "from utils.date import month_chunker\n",
    "import petl as etl"
   ]
  },
  {
   "cell_type": "code",
   "execution_count": 2,
   "metadata": {},
   "outputs": [],
   "source": [
    "from utils.paths import SITE\n",
    "\n",
    "EVENTS = SITE / 'themes/programme/_data/events'\n",
    "EVENTS.mkdir(exist_ok=True, parents=True)"
   ]
  },
  {
   "cell_type": "markdown",
   "metadata": {},
   "source": [
    "Aggregation definition"
   ]
  },
  {
   "cell_type": "code",
   "execution_count": 3,
   "metadata": {},
   "outputs": [],
   "source": [
    "event_aggregation = {\n",
    "    'Records': ('row', set),\n",
    "    'Events': ('Event Count', sum),\n",
    "    'Date From': ('Start Date', min),\n",
    "    'Date To': ('End Date', max),\n",
    "}"
   ]
  },
  {
   "cell_type": "markdown",
   "metadata": {},
   "source": [
    "Read events and break down into chunks broken by month boundaries. This deals with multi-day events which cover more than a single month.\n",
    "\n",
    "As an example:\n",
    "\n",
    "| Start -> End | Chunks |\n",
    "|--------------|--------|\n",
    "| 15 Jan -> 18 Jan | 1 chunk (15 Jan -> 18 Jan) |\n",
    "| 15 Jan -> 18 Feb | 2 chunks (15 Jan -> 31 Jan, 1 Feb -> 18 Feb) |\n",
    "| 15 Jan -> 18 Mar | 3 chunks (15 Jan -> 31 Jan, 1 Feb -> 28 Feb, 1 Mar -> 18 Mar) |\n",
    "\n",
    "Each chunk is then rendered as a separate row in the table with the `rowmapmany` method."
   ]
  },
  {
   "cell_type": "code",
   "execution_count": 4,
   "metadata": {},
   "outputs": [],
   "source": [
    "def row_mapper(r):\n",
    "    for d in r.Chunk:\n",
    "        yield (*r, d)\n",
    "\n",
    "chunked_events = (\n",
    "    Programme.events\n",
    "    .addrownumbers()\n",
    "    .addfield('Chunk', lambda r: list(month_chunker(r['Start Date'], r['End Date'])))\n",
    "    .rowmapmany(row_mapper, header=('row', *Programme.events.fieldnames(), 'Chunk', 'chunk'))\n",
    "    .cutout('Start Date', 'End Date', 'Chunk')\n",
    "    .unpack('chunk', newfields=['Start Date', 'End Date'])\n",
    "    .selectle('Start Date', date.today())\n",
    "    .convert('End Date', lambda f: date.today(), where=lambda r: r['End Date'] > date.today())\n",
    "    .convert('Event Count', lambda _, r: (r['End Date'] - r['Start Date']).days + 1, pass_row=True)\n",
    "    .convert('Month', lambda _, r: r['Start Date'].replace(day=1), pass_row=True)\n",
    ")"
   ]
  },
  {
   "cell_type": "markdown",
   "metadata": {},
   "source": [
    "Create an aggregate by month of the chunked events"
   ]
  },
  {
   "cell_type": "code",
   "execution_count": 5,
   "metadata": {},
   "outputs": [],
   "source": [
    "(\n",
    "    chunked_events\n",
    "    .aggregate('Month', {\n",
    "        'Events': ('Event Count', sum),\n",
    "        'Records': (len),\n",
    "    })\n",
    "    .convert('Month', lambda f: f.isoformat())\n",
    "    .tocsv(EVENTS / 'total_by_month.csv')\n",
    ")"
   ]
  },
  {
   "cell_type": "markdown",
   "metadata": {},
   "source": [
    "Aggregate by Project and by Month, and convert months to columns"
   ]
  },
  {
   "cell_type": "code",
   "execution_count": 6,
   "metadata": {},
   "outputs": [],
   "source": [
    "(\n",
    "    chunked_events\n",
    "    .aggregate(['Project Name', 'Month'], sum, 'Event Count')\n",
    "    .recast(key='Project Name', variablefield='Month', missing=0)\n",
    "    .tocsv(EVENTS / 'monthly_by_project.csv')\n",
    ")"
   ]
  },
  {
   "cell_type": "markdown",
   "metadata": {},
   "source": [
    "Aggregate by Project and by Month, and convert projects to columns"
   ]
  },
  {
   "cell_type": "code",
   "execution_count": 7,
   "metadata": {},
   "outputs": [],
   "source": [
    "(\n",
    "    chunked_events\n",
    "    .aggregate(['Project Name', 'Month'], sum, 'Event Count')\n",
    "    .recast(key='Month', variablefield='Project Name', missing=0)\n",
    "    .tocsv(EVENTS / 'monthly_breakdown.csv')\n",
    ")"
   ]
  },
  {
   "cell_type": "markdown",
   "metadata": {},
   "source": [
    "Extract event reports and aggregate"
   ]
  },
  {
   "cell_type": "code",
   "execution_count": 8,
   "metadata": {},
   "outputs": [],
   "source": [
    "event_reports = (\n",
    "    Programme.event_reports\n",
    "    .aggregate(\n",
    "        'project_id',\n",
    "        {\n",
    "            'reports': (len),\n",
    "            'audience': ('audience', sum)\n",
    "        }\n",
    "    )\n",
    "    .addfield('event_reports', lambda r: { 'reports': r.reports, 'audience': r.audience }).cutout('reports', 'audience')\n",
    ")"
   ]
  },
  {
   "cell_type": "markdown",
   "metadata": {},
   "source": [
    "Create a project breakdown"
   ]
  },
  {
   "cell_type": "code",
   "execution_count": 9,
   "metadata": {},
   "outputs": [],
   "source": [
    "matched_event_reports = (\n",
    "    chunked_events\n",
    "    .aggregate(['project_id', 'Project Name', 'Programme Category', 'Evaluation Category'], event_aggregation)\n",
    "    .convert('Records', len)\n",
    "    .leftjoin(event_reports)\n",
    ")\n",
    "\n",
    "orphan_event_reports = (\n",
    "    event_reports\n",
    "    .antijoin(chunked_events)\n",
    "    .leftjoin(Programme.projects.cut('id', 'Project Name', 'Greenlight Status', 'Project Phase', 'Programme Category', 'Evaluation Category'), lkey='project_id', rkey='id')\n",
    ")\n",
    "\n",
    "all_project_events_and_reports = etl.cat(\n",
    "    matched_event_reports,\n",
    "    orphan_event_reports\n",
    "    \n",
    ").sort('Project Name')\n"
   ]
  },
  {
   "cell_type": "code",
   "execution_count": 10,
   "metadata": {},
   "outputs": [],
   "source": [
    "with open(EVENTS / 'by_project.json', 'w') as f:\n",
    "    json.dump(\n",
    "        dict(\n",
    "            all_project_events_and_reports\n",
    "            .addfield('Details', lambda r: {\n",
    "                'records': r.Records,\n",
    "                'events': r.Events,\n",
    "                'eventReports': r.event_reports,\n",
    "                'evaluationCategory': r['Evaluation Category'],\n",
    "                'programmeCategory': r['Programme Category'],\n",
    "                'earliestDate': r['Date From'].isoformat() if r['Date From'] else None,\n",
    "                'latestDate': r['Date To'].isoformat() if r['Date To'] else None,\n",
    "            })\n",
    "            .cut('Project Name', 'Details')\n",
    "            .records()\n",
    "        ),\n",
    "        f,\n",
    "        indent=2,\n",
    "    )"
   ]
  },
  {
   "cell_type": "markdown",
   "metadata": {},
   "source": [
    "Create a summary file"
   ]
  },
  {
   "cell_type": "code",
   "execution_count": 11,
   "metadata": {},
   "outputs": [],
   "source": [
    "with open(EVENTS / 'summary.json', 'w') as f:\n",
    "    json.dump(\n",
    "        {\n",
    "            'total': sum(chunked_events.values('Event Count')),\n",
    "            'excluded': dict(Programme.excluded_events.aggregate('Validation', len).records()),\n",
    "            'date': {\n",
    "                'earliest': min(chunked_events.values('Start Date')).isoformat(),\n",
    "                'latest': max(chunked_events.values('End Date')).isoformat(),\n",
    "            }\n",
    "        },\n",
    "        f,\n",
    "        indent=2,\n",
    "    )"
   ]
  }
 ],
 "metadata": {
  "kernelspec": {
   "display_name": "bd25-L4uOQWuf",
   "language": "python",
   "name": "python3"
  },
  "language_info": {
   "codemirror_mode": {
    "name": "ipython",
    "version": 3
   },
   "file_extension": ".py",
   "mimetype": "text/x-python",
   "name": "python",
   "nbconvert_exporter": "python",
   "pygments_lexer": "ipython3",
   "version": "3.12.4"
  }
 },
 "nbformat": 4,
 "nbformat_minor": 2
}
