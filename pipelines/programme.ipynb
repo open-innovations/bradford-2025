{
 "cells": [
  {
   "cell_type": "code",
   "execution_count": 1,
   "metadata": {},
   "outputs": [],
   "source": [
    "import json\n",
    "\n",
    "from utils.themes.programme import Programme"
   ]
  },
  {
   "cell_type": "code",
   "execution_count": 2,
   "metadata": {},
   "outputs": [],
   "source": [
    "from utils.paths import SITE\n",
    "\n",
    "EVENTS = SITE / 'themes/programme/_data/events'\n",
    "EVENTS.mkdir(exist_ok=True, parents=True)"
   ]
  },
  {
   "cell_type": "code",
   "execution_count": 3,
   "metadata": {},
   "outputs": [],
   "source": [
    "(\n",
    "    Programme.events\n",
    "    .aggregate('Month', len, field='Events')\n",
    "    .convert('Month', lambda f: f.isoformat())  \n",
    ").tocsv(EVENTS / 'total_by_month.csv')"
   ]
  },
  {
   "cell_type": "code",
   "execution_count": 4,
   "metadata": {},
   "outputs": [],
   "source": [
    "(\n",
    "    Programme.events\n",
    "    .aggregate(['Project Name', 'Month'], len)\n",
    "    .recast(key='Project Name', variablefield='Month', missing=0)\n",
    ").tocsv(EVENTS / 'monthly_by_project.csv')"
   ]
  },
  {
   "cell_type": "code",
   "execution_count": 5,
   "metadata": {},
   "outputs": [],
   "source": [
    "with open(EVENTS / 'by_project.json', 'w') as f:\n",
    "    json.dump(\n",
    "        dict(Programme.events.aggregate('Project Name', len).sort('value', reverse=True).records()),\n",
    "        f,\n",
    "        indent=2,\n",
    "    )"
   ]
  },
  {
   "cell_type": "code",
   "execution_count": 6,
   "metadata": {},
   "outputs": [
    {
     "data": {
      "text/plain": [
       "2160"
      ]
     },
     "execution_count": 6,
     "metadata": {},
     "output_type": "execute_result"
    }
   ],
   "source": [
    "from datetime import date\n",
    "Programme.excluded_events.selectne('Item Type', 'Event (any public-facing activity)').nrows()"
   ]
  },
  {
   "cell_type": "code",
   "execution_count": 7,
   "metadata": {},
   "outputs": [],
   "source": [
    "with open(EVENTS / 'summary.json', 'w') as f:\n",
    "    json.dump(\n",
    "        {\n",
    "            'total': Programme.events.nrows(),\n",
    "            'excluded': {\n",
    "                'total': Programme.excluded_events.nrows(),\n",
    "                'non_event': Programme.excluded_events.selectne('Item Type', 'Event (any public-facing activity)').nrows(),\n",
    "                'future': Programme.excluded_events.selecteq('Item Type', 'Event (any public-facing activity)').selectge('Date', date.today()).nrows(),\n",
    "                'data_quality': Programme.excluded_events.selecteq('Item Type', 'Event (any public-facing activity)').selectlt('Date', date.today()).nrows()\n",
    "            },\n",
    "            'date': {\n",
    "                'earliest': min(Programme.events.values('Date')).isoformat(),\n",
    "                'latest': max(Programme.events.values('Date')).isoformat(),\n",
    "            }\n",
    "        },\n",
    "        f,\n",
    "        indent=2,\n",
    "    )"
   ]
  },
  {
   "cell_type": "code",
   "execution_count": null,
   "metadata": {},
   "outputs": [],
   "source": []
  }
 ],
 "metadata": {
  "kernelspec": {
   "display_name": "bd25-L4uOQWuf",
   "language": "python",
   "name": "python3"
  },
  "language_info": {
   "codemirror_mode": {
    "name": "ipython",
    "version": 3
   },
   "file_extension": ".py",
   "mimetype": "text/x-python",
   "name": "python",
   "nbconvert_exporter": "python",
   "pygments_lexer": "ipython3",
   "version": "3.12.4"
  }
 },
 "nbformat": 4,
 "nbformat_minor": 2
}
