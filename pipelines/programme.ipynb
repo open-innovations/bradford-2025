{
 "cells": [
  {
   "cell_type": "markdown",
   "metadata": {},
   "source": [
    "# Programme data\n",
    "\n",
    "This notebook prepares data for the Programme theme page."
   ]
  },
  {
   "cell_type": "code",
   "execution_count": null,
   "metadata": {},
   "outputs": [],
   "source": [
    "import json\n",
    "from datetime import date\n",
    "\n",
    "from utils.themes.programme import Programme\n",
    "import petl as etl"
   ]
  },
  {
   "cell_type": "code",
   "execution_count": null,
   "metadata": {},
   "outputs": [],
   "source": [
    "from utils.paths import SITE\n",
    "\n",
    "EVENTS = SITE / 'themes/programme/_data/events'\n",
    "EVENTS.mkdir(exist_ok=True, parents=True)"
   ]
  },
  {
   "cell_type": "markdown",
   "metadata": {},
   "source": [
    "## Schedule events"
   ]
  },
  {
   "cell_type": "markdown",
   "metadata": {},
   "source": [
    "Aggregation definition"
   ]
  },
  {
   "cell_type": "code",
   "execution_count": null,
   "metadata": {},
   "outputs": [],
   "source": [
    "event_aggregation = {\n",
    "    'Records': ('row', set),\n",
    "    'Events': ('Event Count', sum),\n",
    "    'Date From': ('Start Date', min),\n",
    "    'Date To': ('End Date', max),\n",
    "}"
   ]
  },
  {
   "cell_type": "markdown",
   "metadata": {},
   "source": [
    "Read events and break down into chunks broken by month boundaries. This deals with multi-day events which cover more than a single month.\n",
    "\n",
    "As an example:\n",
    "\n",
    "| Start -> End | Chunks |\n",
    "|--------------|--------|\n",
    "| 15 Jan -> 18 Jan | 1 chunk (15 Jan -> 18 Jan) |\n",
    "| 15 Jan -> 18 Feb | 2 chunks (15 Jan -> 31 Jan, 1 Feb -> 18 Feb) |\n",
    "| 15 Jan -> 18 Mar | 3 chunks (15 Jan -> 31 Jan, 1 Feb -> 28 Feb, 1 Mar -> 18 Mar) |\n",
    "\n",
    "Each chunk is then rendered as a separate row in the table with the `rowmapmany` method."
   ]
  },
  {
   "cell_type": "code",
   "execution_count": null,
   "metadata": {},
   "outputs": [],
   "source": [
    "monthly_event_reports = (\n",
    "    Programme.event_reports\n",
    "    .addfield('Month', lambda r: r.event_date.replace(day=1))\n",
    "    .aggregate(['Project Name', 'project_id', 'Month'], { 'event_reports': (len), 'event_reports_audience': ('audience', sum) })\n",
    ")"
   ]
  },
  {
   "cell_type": "code",
   "execution_count": null,
   "metadata": {},
   "outputs": [],
   "source": [
    "monthly_scheduled_events = (\n",
    "    Programme.events\n",
    "    .convert(\n",
    "        'Event Count',\n",
    "        lambda _, r: ((date.today() - r['Start Date']).days + 1),\n",
    "        where=lambda r: (r['End Date'] > date.today()),\n",
    "        pass_row=True\n",
    "    )\n",
    "    .aggregate(['Project Name', 'project_id', 'Month'], { 'scheduled_events': ('Event Count', sum) })\n",
    ")"
   ]
  },
  {
   "cell_type": "code",
   "execution_count": null,
   "metadata": {},
   "outputs": [],
   "source": [
    "import petl as etl\n",
    "from utils.paths import PUBLISHED\n",
    "\n",
    "monthly_manual_events = (\n",
    "    etl.fromcsv(PUBLISHED / 'manual/manual-events.csv')\n",
    "    .replace('Events', '', 1)\n",
    "    .replace('Audience', '', 0)\n",
    "    .convertnumbers()\n",
    "    .selectne('Exclude from events count', 'True')\n",
    "    .addfield('Month', lambda r: date.fromisoformat(r.Date).replace(day=1))\n",
    "    .aggregate(['Project', 'Month'], {\n",
    "        'manual_events': ('Events', sum),\n",
    "        'manual_audience': ('Audience', sum),\n",
    "    })\n",
    "    .rename({\n",
    "        'Project': 'Project Name'\n",
    "    })\n",
    "    .addfield('project_id')\n",
    ")\n"
   ]
  },
  {
   "cell_type": "code",
   "execution_count": null,
   "metadata": {},
   "outputs": [],
   "source": [
    "monthly_events = (\n",
    "    monthly_event_reports\n",
    "    .outerjoin(monthly_scheduled_events)\n",
    "    .outerjoin(monthly_manual_events)\n",
    "    .addfield('events', lambda r: r.event_reports or r.scheduled_events or r.manual_events, index=3)\n",
    "    .addfield('audience', lambda r: r.event_reports_audience or r.manual_audience, index=4)\n",
    ")"
   ]
  },
  {
   "cell_type": "markdown",
   "metadata": {},
   "source": [
    "Create an aggregate by month of the events"
   ]
  },
  {
   "cell_type": "code",
   "execution_count": null,
   "metadata": {},
   "outputs": [],
   "source": [
    "(\n",
    "    monthly_events\n",
    "    .aggregate('Month', {\n",
    "        'Events': ('events', sum),\n",
    "        # 'Records': (len),\n",
    "    })\n",
    "    .convert('Month', lambda f: f.isoformat())\n",
    "    .tocsv(EVENTS / 'total_by_month.csv')\n",
    ")"
   ]
  },
  {
   "cell_type": "markdown",
   "metadata": {},
   "source": [
    "Aggregate by Project and by Month, and convert months to columns"
   ]
  },
  {
   "cell_type": "code",
   "execution_count": null,
   "metadata": {},
   "outputs": [],
   "source": [
    "(\n",
    "    monthly_events\n",
    "    .aggregate(['Project Name', 'Month'], sum, 'events')\n",
    "    .recast(key='Project Name', variablefield='Month', missing=0)\n",
    "    .tocsv(EVENTS / 'monthly_by_project.csv')\n",
    ")"
   ]
  },
  {
   "cell_type": "markdown",
   "metadata": {},
   "source": [
    "Aggregate by Project and by Month, and convert projects to columns"
   ]
  },
  {
   "cell_type": "code",
   "execution_count": null,
   "metadata": {},
   "outputs": [],
   "source": [
    "(\n",
    "    monthly_events\n",
    "    .aggregate(['Project Name', 'Month'], sum, 'events')\n",
    "    .recast(key='Month', variablefield='Project Name', missing=0)\n",
    "    .tocsv(EVENTS / 'monthly_breakdown.csv')\n",
    ")"
   ]
  },
  {
   "cell_type": "markdown",
   "metadata": {},
   "source": [
    "## Project summaries"
   ]
  },
  {
   "cell_type": "code",
   "execution_count": null,
   "metadata": {},
   "outputs": [],
   "source": [
    "project_breakdown = (\n",
    "    monthly_events\n",
    "    .melt(variables=['events', 'event_reports', 'scheduled_events', 'manual_events', 'audience', 'event_reports_audience', 'manual_audience'])\n",
    "    .selectnotnone('value')\n",
    "    .aggregate(['Project Name', 'project_id', 'variable'], sum, 'value')\n",
    "    .recast()\n",
    "    .join(Programme.projects.cutout('Project Name'), lkey='project_id', rkey='id')\n",
    ")"
   ]
  },
  {
   "cell_type": "markdown",
   "metadata": {},
   "source": [
    "Create a project breakdown"
   ]
  },
  {
   "cell_type": "code",
   "execution_count": null,
   "metadata": {},
   "outputs": [],
   "source": [
    "with open(EVENTS / 'by_project.json', 'w') as f:\n",
    "    json.dump(\n",
    "        dict(\n",
    "            project_breakdown\n",
    "            .addfield('Details', lambda r: {\n",
    "                # 'records': r.Records,\n",
    "                'events': r.events,\n",
    "                'eventReports': r.event_reports,\n",
    "                'scheduledEvents': r.scheduled_events,\n",
    "                'manual_events': r.manual_events,\n",
    "                'audience': r.audience,\n",
    "                'event_reports_audience': r.event_reports_audience,\n",
    "                'manual_audience': r.manual_audience,\n",
    "                'evaluationCategory': r['Evaluation Category'],\n",
    "                'programmeCategory': r['Programme Category'],\n",
    "                'earliestDate': r['Start Date'].isoformat() if r['Start Date'] else None,\n",
    "                'latestDate': r['End Date'].isoformat() if r['End Date'] else None,\n",
    "            })\n",
    "            .cut('Project Name', 'Details')\n",
    "            .sort('Project Name')\n",
    "            .records()\n",
    "        ),\n",
    "        f,\n",
    "        indent=2,\n",
    "    )"
   ]
  },
  {
   "cell_type": "markdown",
   "metadata": {},
   "source": [
    "Create a summary file"
   ]
  },
  {
   "cell_type": "code",
   "execution_count": null,
   "metadata": {},
   "outputs": [],
   "source": [
    "with open(EVENTS / 'summary.json', 'w') as f:\n",
    "    json.dump(\n",
    "        {\n",
    "            'total': sum(monthly_events.values('events')),\n",
    "            'excluded': dict(Programme.excluded_events.aggregate('Validation', len).records()),\n",
    "            'date': {\n",
    "                'earliest': min(Programme.events.values('Start Date')).isoformat(),\n",
    "                'latest': max(Programme.events.values('End Date')).isoformat(),\n",
    "            }\n",
    "        },\n",
    "        f,\n",
    "        indent=2,\n",
    "    )"
   ]
  },
  {
   "cell_type": "markdown",
   "metadata": {},
   "source": [
    "## Venues"
   ]
  },
  {
   "cell_type": "code",
   "execution_count": null,
   "metadata": {},
   "outputs": [],
   "source": [
    "education_settings = (\n",
    "    Programme.venues\n",
    "    .selectcontains('Org/Venue Type', 'Education Setting')\n",
    ")"
   ]
  },
  {
   "cell_type": "code",
   "execution_count": null,
   "metadata": {},
   "outputs": [],
   "source": [
    "loading_bay = (\n",
    "    Programme.venues\n",
    "    .selectcontains('Organisation &/or Venue Name', 'Loading Bay')\n",
    "    .addfield('event_report_count', lambda r: len(r['Event Reports']))\n",
    "    .aggregate(['Organisation &/or Venue Name', 'id'], sum, 'event_report_count')\n",
    "    .cutout('id')\n",
    ")\n",
    "loading_bay"
   ]
  },
  {
   "cell_type": "code",
   "execution_count": null,
   "metadata": {},
   "outputs": [],
   "source": [
    "beacon = (\n",
    "    Programme.venues\n",
    "    .selectcontains('Organisation &/or Venue Name', 'Beacon - ')\n",
    "    .addfield('event_report_count', lambda r: len(r['Event Reports'] or []))\n",
    "    .aggregate(['Organisation &/or Venue Name', 'id'], sum, 'event_report_count')\n",
    "    .cutout('id')\n",
    ")\n",
    "beacon"
   ]
  },
  {
   "cell_type": "code",
   "execution_count": null,
   "metadata": {},
   "outputs": [],
   "source": [
    "json.dump(\n",
    "    {\n",
    "        'loading_bay': dict(loading_bay.records()),\n",
    "        'beacon': dict(beacon.records()),\n",
    "    },\n",
    "    open(EVENTS / 'by_venue.json', 'w')\n",
    ")"
   ]
  }
 ],
 "metadata": {
  "kernelspec": {
   "display_name": "data.bradford2025.co.uk-DmiwwEw1",
   "language": "python",
   "name": "python3"
  },
  "language_info": {
   "codemirror_mode": {
    "name": "ipython",
    "version": 3
   },
   "file_extension": ".py",
   "mimetype": "text/x-python",
   "name": "python",
   "nbconvert_exporter": "python",
   "pygments_lexer": "ipython3",
   "version": "3.12.4"
  }
 },
 "nbformat": 4,
 "nbformat_minor": 2
}
