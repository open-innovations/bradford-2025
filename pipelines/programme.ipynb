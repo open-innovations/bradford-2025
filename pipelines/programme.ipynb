{
 "cells": [
  {
   "cell_type": "markdown",
   "metadata": {},
   "source": [
    "# Programme data\n",
    "\n",
    "This notebook prepares data for the Programme theme page."
   ]
  },
  {
   "cell_type": "code",
   "execution_count": null,
   "metadata": {},
   "outputs": [],
   "source": [
    "import json\n",
    "from datetime import date\n",
    "\n",
    "from utils.paths import SITE\n",
    "from utils.themes.programme_slice import ProgrammeSlice"
   ]
  },
  {
   "cell_type": "code",
   "execution_count": null,
   "metadata": {},
   "outputs": [],
   "source": [
    "EVENTS = SITE / 'themes/programme/_data/events'\n",
    "EVENTS.mkdir(exist_ok=True, parents=True)"
   ]
  },
  {
   "cell_type": "markdown",
   "metadata": {},
   "source": [
    "## Events data"
   ]
  },
  {
   "cell_type": "markdown",
   "metadata": {},
   "source": [
    "Read events"
   ]
  },
  {
   "cell_type": "code",
   "execution_count": null,
   "metadata": {},
   "outputs": [],
   "source": [
    "programme_data = ProgrammeSlice(date_range=(date.min, date.today()))"
   ]
  },
  {
   "cell_type": "markdown",
   "metadata": {},
   "source": [
    "Create an aggregate by month of the events"
   ]
  },
  {
   "cell_type": "code",
   "execution_count": null,
   "metadata": {},
   "outputs": [],
   "source": [
    "(\n",
    "    programme_data.events\n",
    "    .aggregate('month', {\n",
    "        'Events': ('events', sum),\n",
    "        'Audience': ('audience', sum),\n",
    "        'Participants': ('participants', sum),\n",
    "        # 'Records': (len),\n",
    "    })\n",
    "    .convert('month', lambda f: f.isoformat())\n",
    "    .tocsv(EVENTS / 'total_by_month.csv')\n",
    ")"
   ]
  },
  {
   "cell_type": "code",
   "execution_count": null,
   "metadata": {},
   "outputs": [],
   "source": [
    "source_values = (\n",
    "    programme_data.events\n",
    "    .cut('project_name', 'source', 'events', 'audience', 'participants')\n",
    "    .melt(['project_name', 'source'])\n",
    "    .aggregate(['variable', 'project_name', 'source'], sum, 'value')\n",
    "    .recast(variablefield='source')\n",
    "    .replaceall(None, 0)\n",
    "    .addfield('TOTAL', lambda r: sum(c for c in r if type(c) is int))\n",
    "    .selectgt('TOTAL', 0)\n",
    "    # .addfield('values', lambda r: {k: r[k] for k in r.flds if k not in ['variable', 'project_name']})\n",
    "    # .aggregate(['variable', 'project_name'], list, 'values')\n",
    "    .facet('variable')\n",
    ")"
   ]
  },
  {
   "cell_type": "code",
   "execution_count": null,
   "metadata": {},
   "outputs": [],
   "source": [
    "# TODO work out how to present this!\n",
    "{\n",
    "    'audience': {e['project_name']: {\n",
    "        p: e[p]\n",
    "        for p\n",
    "        in e\n",
    "        if\n",
    "            p not in ['project_name']\n",
    "            and\n",
    "            # e[p] is not None\n",
    "            e[p] > 0\n",
    "    } for e in source_values['audience'].sort('TOTAL', reverse=True).cutout('variable').dicts()}\n",
    "}"
   ]
  },
  {
   "cell_type": "markdown",
   "metadata": {},
   "source": [
    "Aggregate by Project and by Month, and convert months to columns"
   ]
  },
  {
   "cell_type": "code",
   "execution_count": null,
   "metadata": {},
   "outputs": [],
   "source": [
    "(\n",
    "    programme_data.events\n",
    "    .aggregate(['project_name', 'month'], sum, 'events')\n",
    "    .recast(key='project_name', variablefield='month', missing=0)\n",
    "    .tocsv(EVENTS / 'monthly_by_project.csv')\n",
    ")"
   ]
  },
  {
   "cell_type": "code",
   "execution_count": null,
   "metadata": {},
   "outputs": [],
   "source": [
    "(\n",
    "    programme_data.events\n",
    "    .aggregate(['project_name', 'month'], sum, 'audience')\n",
    "    .recast(key='project_name', variablefield='month', missing=0)\n",
    "    .tocsv(EVENTS / 'monthly_by_project_audience.csv')\n",
    ")"
   ]
  },
  {
   "cell_type": "code",
   "execution_count": null,
   "metadata": {},
   "outputs": [],
   "source": [
    "(\n",
    "    programme_data.events\n",
    "    .aggregate(['project_name', 'month'], sum, 'participants')\n",
    "    .recast(key='project_name', variablefield='month', missing=0)\n",
    "    .tocsv(EVENTS / 'monthly_by_project_participants.csv')\n",
    ")"
   ]
  },
  {
   "cell_type": "markdown",
   "metadata": {},
   "source": [
    "Aggregate by Project and by Month, and convert projects to columns"
   ]
  },
  {
   "cell_type": "code",
   "execution_count": null,
   "metadata": {},
   "outputs": [],
   "source": [
    "(\n",
    "    programme_data.events\n",
    "    .aggregate(['project_name', 'month'], sum, 'events')\n",
    "    .recast(key='month', variablefield='project_name', missing=0)\n",
    "    .tocsv(EVENTS / 'monthly_breakdown.csv')\n",
    ")"
   ]
  },
  {
   "cell_type": "markdown",
   "metadata": {},
   "source": [
    "## Project summaries"
   ]
  },
  {
   "cell_type": "markdown",
   "metadata": {},
   "source": [
    "Create a project breakdown"
   ]
  },
  {
   "cell_type": "code",
   "execution_count": null,
   "metadata": {},
   "outputs": [],
   "source": [
    "project_details = (\n",
    "    programme_data.project_breakdown\n",
    "    .leftjoin(\n",
    "        programme_data.project_data.aggregate('project_name', {\n",
    "            'start_date': ('start_date', min),\n",
    "            'end_date': ('end_date', max),\n",
    "        })\n",
    "    )\n",
    "    .addfield('Details', lambda r: {\n",
    "        # 'records': r.Records,\n",
    "        'events': r.events,\n",
    "        'audience': r.audience,\n",
    "        'participants': r.participants,\n",
    "\n",
    "        # 'scheduledEvents': r.schedule_events,\n",
    "        # 'projectedEvents': r.projected_events,\n",
    "        # 'manual_events': r.manual_events,\n",
    "\n",
    "        # 'schedule_participants_community': r.schedule_participants_community,\n",
    "        # 'manual_participants_community': r.get('manual_participants_community') or 0,\n",
    "        # 'manual_participants_schools': r.manual_participants_schools,\n",
    "\n",
    "        'evaluationCategory': r.evaluation_category,\n",
    "        # 'programmeCategory': r['Programme Category'],\n",
    "        'earliestDate': r.start_date.isoformat() if r.start_date else r.date.isoformat() if r.date else None,\n",
    "        'latestDate': r.end_date.isoformat() if r.end_date else None,\n",
    "    })\n",
    "    .cut('project_name', 'Details')\n",
    "    .sort('project_name')\n",
    ")"
   ]
  },
  {
   "cell_type": "code",
   "execution_count": null,
   "metadata": {},
   "outputs": [],
   "source": [
    "with open(EVENTS / 'by_project.json', 'w') as f:\n",
    "    json.dump(\n",
    "        dict(\n",
    "            project_details.records()\n",
    "        ),\n",
    "        f,\n",
    "        indent=2,\n",
    "    )"
   ]
  },
  {
   "cell_type": "markdown",
   "metadata": {},
   "source": [
    "Create a summary file"
   ]
  },
  {
   "cell_type": "code",
   "execution_count": null,
   "metadata": {},
   "outputs": [],
   "source": [
    "programme_data.excluded_events_data"
   ]
  },
  {
   "cell_type": "code",
   "execution_count": null,
   "metadata": {},
   "outputs": [],
   "source": [
    "with open(EVENTS / 'summary.json', 'w') as f:\n",
    "    json.dump(\n",
    "        {\n",
    "            'total': {\n",
    "                'events': sum(programme_data.events.values('events')),\n",
    "                'audience': sum(a for a in programme_data.events.values('audience') if a is not None),\n",
    "                'participants': sum(filter(None.__ne__, programme_data.events.values('participants')), 0),\n",
    "            },\n",
    "            'excluded': dict(programme_data.excluded_events_data.aggregate('validation', len).records()),\n",
    "            'date': {\n",
    "                'earliest': min(programme_data.events_data.values('start_date')).isoformat(),\n",
    "                'latest': max(programme_data.events_data.values('end_date')).isoformat(),\n",
    "            }\n",
    "        },\n",
    "        f,\n",
    "        indent=2,\n",
    "    )"
   ]
  },
  {
   "cell_type": "markdown",
   "metadata": {},
   "source": [
    "## Venues"
   ]
  },
  {
   "cell_type": "code",
   "execution_count": null,
   "metadata": {},
   "outputs": [],
   "source": [
    "from utils.themes.programme import Programme"
   ]
  },
  {
   "cell_type": "code",
   "execution_count": null,
   "metadata": {},
   "outputs": [],
   "source": [
    "education_settings = (\n",
    "    Programme.venues\n",
    "    .selectcontains('Org/Venue Type', 'Education Setting')\n",
    ")"
   ]
  },
  {
   "cell_type": "code",
   "execution_count": null,
   "metadata": {},
   "outputs": [],
   "source": [
    "loading_bay = (\n",
    "    Programme.venues\n",
    "    .selectcontains('Organisation &/or Venue Name', 'Loading Bay')\n",
    "    .addfield('event_report_count', lambda r: len(r['Event Reports']))\n",
    "    .aggregate(['Organisation &/or Venue Name', 'id'], sum, 'event_report_count')\n",
    "    .cutout('id')\n",
    ")\n",
    "loading_bay"
   ]
  },
  {
   "cell_type": "code",
   "execution_count": null,
   "metadata": {},
   "outputs": [],
   "source": [
    "beacon = (\n",
    "    Programme.venues\n",
    "    .selectcontains('Organisation &/or Venue Name', 'Beacon - ')\n",
    "    .addfield('event_report_count', lambda r: len(r['Event Reports'] or []))\n",
    "    .aggregate(['Organisation &/or Venue Name', 'id'], sum, 'event_report_count')\n",
    "    .cutout('id')\n",
    ")\n",
    "beacon"
   ]
  },
  {
   "cell_type": "code",
   "execution_count": null,
   "metadata": {},
   "outputs": [],
   "source": [
    "json.dump(\n",
    "    {\n",
    "        'loading_bay': dict(loading_bay.records()),\n",
    "        'beacon': dict(beacon.records()),\n",
    "    },\n",
    "    open(EVENTS / 'by_venue.json', 'w')\n",
    ")"
   ]
  }
 ],
 "metadata": {
  "kernelspec": {
   "display_name": "data.bradford2025.co.uk-DmiwwEw1",
   "language": "python",
   "name": "python3"
  },
  "language_info": {
   "codemirror_mode": {
    "name": "ipython",
    "version": 3
   },
   "file_extension": ".py",
   "mimetype": "text/x-python",
   "name": "python",
   "nbconvert_exporter": "python",
   "pygments_lexer": "ipython3",
   "version": "3.12.4"
  }
 },
 "nbformat": 4,
 "nbformat_minor": 2
}
