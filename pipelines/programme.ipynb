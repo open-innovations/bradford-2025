{
 "cells": [
  {
   "cell_type": "markdown",
   "metadata": {},
   "source": [
    "# Programme data\n",
    "\n",
    "This notebook prepares data for the Programme theme page."
   ]
  },
  {
   "cell_type": "code",
   "execution_count": null,
   "metadata": {},
   "outputs": [],
   "source": [
    "import json\n",
    "from datetime import date\n",
    "\n",
    "from utils.themes.programme import Programme\n",
    "import petl as etl"
   ]
  },
  {
   "cell_type": "code",
   "execution_count": null,
   "metadata": {},
   "outputs": [],
   "source": [
    "from utils.paths import SITE\n",
    "\n",
    "EVENTS = SITE / 'themes/programme/_data/events'\n",
    "EVENTS.mkdir(exist_ok=True, parents=True)"
   ]
  },
  {
   "cell_type": "markdown",
   "metadata": {},
   "source": [
    "## Schedule events"
   ]
  },
  {
   "cell_type": "markdown",
   "metadata": {},
   "source": [
    "Aggregation definition"
   ]
  },
  {
   "cell_type": "code",
   "execution_count": null,
   "metadata": {},
   "outputs": [],
   "source": [
    "event_aggregation = {\n",
    "    'Records': ('row', set),\n",
    "    'Events': ('Event Count', sum),\n",
    "    'Date From': ('Start Date', min),\n",
    "    'Date To': ('End Date', max),\n",
    "}"
   ]
  },
  {
   "cell_type": "markdown",
   "metadata": {},
   "source": [
    "Read events"
   ]
  },
  {
   "cell_type": "code",
   "execution_count": null,
   "metadata": {},
   "outputs": [],
   "source": [
    "import petl as etl\n",
    "import pyarrow.parquet as pq\n",
    "from utils.paths import PUBLISHED\n",
    "\n",
    "def validation(row):\n",
    "    if row.project_name is None:\n",
    "        return 'unknown_project'\n",
    "    if row.month is None:\n",
    "        return 'blank_month'\n",
    "    if row.date > date.today():\n",
    "        return 'future_dated'\n",
    "    if row.date < date.fromisoformat('2024-01-01'):\n",
    "        return 'date_before_2024'\n",
    "    return None\n",
    "\n",
    "canonical_project_name = {\n",
    "    'Rise (AKA - Opening Event)': 'RISE',\n",
    "    # 'Our Patch (formerly Magic Waiting)': 'Our Patch',\n",
    "    'Our Patch (formerly Magic Waiting) MASTER': 'Our Patch',\n",
    "}\n",
    "\n",
    "events_data, invalid_events_data = (\n",
    "    etl\n",
    "    .fromdataframe(pq.read_table(PUBLISHED / 'combined/programme.parquet').to_pandas())\n",
    "    .addfield('validation', validation)\n",
    "\n",
    "    # TODO move to upstream repo\n",
    "    .convert('project_name', lambda x: x.strip())\n",
    "    .convert('project_name', canonical_project_name)\n",
    "\n",
    "    .biselect(lambda r: r.validation == None)\n",
    "\n",
    "    # .convert('source', {\n",
    "    #     'Manual': 1,\n",
    "    #     'Airtable::Project Hub::Event Reports': 2,\n",
    "    #     'Airtable::Project Hub::Schedule': 3,\n",
    "    # })\n",
    "    # .sort('source')\n",
    "    # .groupselectfirst(['project_name', 'project_id', 'month', 'variable'])\n",
    ")"
   ]
  },
  {
   "cell_type": "code",
   "execution_count": null,
   "metadata": {},
   "outputs": [],
   "source": [
    "dimensions = ['project_name', 'month'] \n",
    "\n",
    "events = (\n",
    "    events_data\n",
    "    .aggregate([*dimensions, 'variable'],sum, 'value')\n",
    "    .recast([*dimensions])\n",
    ")"
   ]
  },
  {
   "cell_type": "code",
   "execution_count": null,
   "metadata": {},
   "outputs": [],
   "source": [
    "project_data = (\n",
    "    events_data\n",
    "    .convert('start_date', lambda f, r: f or r.date, pass_row=True)\n",
    "    .convert('end_date', lambda f, r: f or r.date, pass_row=True)\n",
    "    .aggregate(\n",
    "        [\n",
    "            'project_id',\n",
    "            'project_name',\n",
    "            # 'programme_category',\n",
    "            'evaluation_category',\n",
    "        ],\n",
    "        {\n",
    "            'start_date': ( 'start_date', min ),\n",
    "            'end_date': ( 'end_date', max ),\n",
    "        }\n",
    "    )\n",
    ")"
   ]
  },
  {
   "cell_type": "code",
   "execution_count": null,
   "metadata": {},
   "outputs": [],
   "source": [
    "monthly_events = (\n",
    "    events\n",
    "    .addfield('events', lambda r: (r.manual_events or 0) + (r.event_reports or r.schedule_events or r.projected_events or 0), index=3)\n",
    "    .addfield('audience', lambda r: (r.event_report_audience or 0) + (r.manual_audience or 0), index=4)\n",
    ")"
   ]
  },
  {
   "cell_type": "markdown",
   "metadata": {},
   "source": [
    "Create an aggregate by month of the events"
   ]
  },
  {
   "cell_type": "code",
   "execution_count": null,
   "metadata": {},
   "outputs": [],
   "source": [
    "(\n",
    "    monthly_events\n",
    "    .aggregate('month', {\n",
    "        'Events': ('events', sum),\n",
    "        'Audience': ('audience', sum),\n",
    "        # 'Records': (len),\n",
    "    })\n",
    "    .convert('month', lambda f: f.isoformat())\n",
    "    .tocsv(EVENTS / 'total_by_month.csv')\n",
    ")"
   ]
  },
  {
   "cell_type": "markdown",
   "metadata": {},
   "source": [
    "Aggregate by Project and by Month, and convert months to columns"
   ]
  },
  {
   "cell_type": "code",
   "execution_count": null,
   "metadata": {},
   "outputs": [],
   "source": [
    "(\n",
    "    monthly_events\n",
    "    .aggregate(['project_name', 'month'], sum, 'events')\n",
    "    .recast(key='project_name', variablefield='month', missing=0)\n",
    "    .tocsv(EVENTS / 'monthly_by_project.csv')\n",
    ")"
   ]
  },
  {
   "cell_type": "markdown",
   "metadata": {},
   "source": [
    "Aggregate by Project and by Month, and convert projects to columns"
   ]
  },
  {
   "cell_type": "code",
   "execution_count": null,
   "metadata": {},
   "outputs": [],
   "source": [
    "(\n",
    "    monthly_events\n",
    "    .aggregate(['project_name', 'month'], sum, 'events')\n",
    "    .recast(key='month', variablefield='project_name', missing=0)\n",
    "    .tocsv(EVENTS / 'monthly_breakdown.csv')\n",
    ")"
   ]
  },
  {
   "cell_type": "markdown",
   "metadata": {},
   "source": [
    "## Project summaries"
   ]
  },
  {
   "cell_type": "code",
   "execution_count": null,
   "metadata": {},
   "outputs": [],
   "source": [
    "project_breakdown = (\n",
    "    monthly_events\n",
    "    .melt(variables=['events', 'event_reports', 'schedule_events', 'projected_events', 'manual_events', 'audience', 'event_report_audience', 'manual_audience'])\n",
    "    .selectnotnone('value')\n",
    "    .aggregate(['project_name', 'variable'], sum, 'value')\n",
    "    .recast()\n",
    "    .leftjoin(project_data)\n",
    ")"
   ]
  },
  {
   "cell_type": "code",
   "execution_count": null,
   "metadata": {},
   "outputs": [],
   "source": [
    "project_breakdown"
   ]
  },
  {
   "cell_type": "markdown",
   "metadata": {},
   "source": [
    "Create a project breakdown"
   ]
  },
  {
   "cell_type": "code",
   "execution_count": null,
   "metadata": {},
   "outputs": [],
   "source": [
    "with open(EVENTS / 'by_project.json', 'w') as f:\n",
    "    json.dump(\n",
    "        dict(\n",
    "            project_breakdown\n",
    "            .addfield('Details', lambda r: {\n",
    "                # 'records': r.Records,\n",
    "                'events': r.events,\n",
    "                'eventReports': r.event_reports,\n",
    "                'scheduledEvents': r.schedule_events,\n",
    "                'projectedEvents': r.projected_events,\n",
    "                'manual_events': r.manual_events,\n",
    "                'audience': r.audience,\n",
    "                'event_reports_audience': r.event_report_audience,\n",
    "                'manual_audience': r.manual_audience,\n",
    "                'evaluationCategory': r.evaluation_category,\n",
    "                # 'programmeCategory': r['Programme Category'],\n",
    "                'earliestDate': r.start_date.isoformat() if r.start_date else r.date.isoformat() if r.date else None,\n",
    "                'latestDate': r.end_date.isoformat() if r.end_date else None,\n",
    "            })\n",
    "            .cut('project_name', 'Details')\n",
    "            .sort('project_name')\n",
    "            .records()\n",
    "        ),\n",
    "        f,\n",
    "        indent=2,\n",
    "    )"
   ]
  },
  {
   "cell_type": "markdown",
   "metadata": {},
   "source": [
    "Create a summary file"
   ]
  },
  {
   "cell_type": "code",
   "execution_count": null,
   "metadata": {},
   "outputs": [],
   "source": [
    "with open(EVENTS / 'summary.json', 'w') as f:\n",
    "    json.dump(\n",
    "        {\n",
    "            'total': {\n",
    "                'events': sum(monthly_events.values('events')),\n",
    "                'audience': sum(a for a in monthly_events.values('audience') if a is not None)\n",
    "            },\n",
    "            'excluded': dict(Programme.excluded_events.aggregate('Validation', len).records()),\n",
    "            'date': {\n",
    "                'earliest': min(Programme.events.values('Start Date')).isoformat(),\n",
    "                'latest': max(Programme.events.values('End Date')).isoformat(),\n",
    "            }\n",
    "        },\n",
    "        f,\n",
    "        indent=2,\n",
    "    )"
   ]
  },
  {
   "cell_type": "markdown",
   "metadata": {},
   "source": [
    "## Venues"
   ]
  },
  {
   "cell_type": "code",
   "execution_count": null,
   "metadata": {},
   "outputs": [],
   "source": [
    "education_settings = (\n",
    "    Programme.venues\n",
    "    .selectcontains('Org/Venue Type', 'Education Setting')\n",
    ")"
   ]
  },
  {
   "cell_type": "code",
   "execution_count": null,
   "metadata": {},
   "outputs": [],
   "source": [
    "loading_bay = (\n",
    "    Programme.venues\n",
    "    .selectcontains('Organisation &/or Venue Name', 'Loading Bay')\n",
    "    .addfield('event_report_count', lambda r: len(r['Event Reports']))\n",
    "    .aggregate(['Organisation &/or Venue Name', 'id'], sum, 'event_report_count')\n",
    "    .cutout('id')\n",
    ")\n",
    "loading_bay"
   ]
  },
  {
   "cell_type": "code",
   "execution_count": null,
   "metadata": {},
   "outputs": [],
   "source": [
    "beacon = (\n",
    "    Programme.venues\n",
    "    .selectcontains('Organisation &/or Venue Name', 'Beacon - ')\n",
    "    .addfield('event_report_count', lambda r: len(r['Event Reports'] or []))\n",
    "    .aggregate(['Organisation &/or Venue Name', 'id'], sum, 'event_report_count')\n",
    "    .cutout('id')\n",
    ")\n",
    "beacon"
   ]
  },
  {
   "cell_type": "code",
   "execution_count": null,
   "metadata": {},
   "outputs": [],
   "source": [
    "json.dump(\n",
    "    {\n",
    "        'loading_bay': dict(loading_bay.records()),\n",
    "        'beacon': dict(beacon.records()),\n",
    "    },\n",
    "    open(EVENTS / 'by_venue.json', 'w')\n",
    ")"
   ]
  }
 ],
 "metadata": {
  "kernelspec": {
   "display_name": "data.bradford2025.co.uk-DmiwwEw1",
   "language": "python",
   "name": "python3"
  },
  "language_info": {
   "codemirror_mode": {
    "name": "ipython",
    "version": 3
   },
   "file_extension": ".py",
   "mimetype": "text/x-python",
   "name": "python",
   "nbconvert_exporter": "python",
   "pygments_lexer": "ipython3",
   "version": "3.12.4"
  }
 },
 "nbformat": 4,
 "nbformat_minor": 2
}
