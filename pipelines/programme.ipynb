{
 "cells": [
  {
   "cell_type": "markdown",
   "metadata": {},
   "source": [
    "# Programme data\n",
    "\n",
    "This notebook prepares data for the Programme theme page."
   ]
  },
  {
   "cell_type": "code",
   "execution_count": null,
   "metadata": {},
   "outputs": [],
   "source": [
    "import json\n",
    "from datetime import date\n",
    "\n",
    "from utils.paths import SITE\n",
    "from utils.themes.programme import Programme, ProgrammeSlice"
   ]
  },
  {
   "cell_type": "code",
   "execution_count": null,
   "metadata": {},
   "outputs": [],
   "source": [
    "EVENTS = SITE / 'themes/programme/_data/events'\n",
    "EVENTS.mkdir(exist_ok=True, parents=True)"
   ]
  },
  {
   "cell_type": "markdown",
   "metadata": {},
   "source": [
    "## Events data"
   ]
  },
  {
   "cell_type": "markdown",
   "metadata": {},
   "source": [
    "Read events"
   ]
  },
  {
   "cell_type": "code",
   "execution_count": null,
   "metadata": {},
   "outputs": [],
   "source": [
    "programme_data = ProgrammeSlice(range=(date.min, date.today()))"
   ]
  },
  {
   "cell_type": "markdown",
   "metadata": {},
   "source": [
    "Create an aggregate by month of the events"
   ]
  },
  {
   "cell_type": "code",
   "execution_count": null,
   "metadata": {},
   "outputs": [],
   "source": [
    "(\n",
    "    programme_data.events\n",
    "    .aggregate('month', {\n",
    "        'Events': ('events', sum),\n",
    "        'Audience': ('audience', sum),\n",
    "        # 'Records': (len),\n",
    "    })\n",
    "    .convert('month', lambda f: f.isoformat())\n",
    "    .tocsv(EVENTS / 'total_by_month.csv')\n",
    ")"
   ]
  },
  {
   "cell_type": "markdown",
   "metadata": {},
   "source": [
    "Aggregate by Project and by Month, and convert months to columns"
   ]
  },
  {
   "cell_type": "code",
   "execution_count": null,
   "metadata": {},
   "outputs": [],
   "source": [
    "(\n",
    "    programme_data.events\n",
    "    .aggregate(['project_name', 'month'], sum, 'events')\n",
    "    .recast(key='project_name', variablefield='month', missing=0)\n",
    "    .tocsv(EVENTS / 'monthly_by_project.csv')\n",
    ")"
   ]
  },
  {
   "cell_type": "markdown",
   "metadata": {},
   "source": [
    "Aggregate by Project and by Month, and convert projects to columns"
   ]
  },
  {
   "cell_type": "code",
   "execution_count": null,
   "metadata": {},
   "outputs": [],
   "source": [
    "(\n",
    "    programme_data.events\n",
    "    .aggregate(['project_name', 'month'], sum, 'events')\n",
    "    .recast(key='month', variablefield='project_name', missing=0)\n",
    "    .tocsv(EVENTS / 'monthly_breakdown.csv')\n",
    ")"
   ]
  },
  {
   "cell_type": "markdown",
   "metadata": {},
   "source": [
    "## Project summaries"
   ]
  },
  {
   "cell_type": "markdown",
   "metadata": {},
   "source": [
    "Create a project breakdown"
   ]
  },
  {
   "cell_type": "code",
   "execution_count": null,
   "metadata": {},
   "outputs": [],
   "source": [
    "with open(EVENTS / 'by_project.json', 'w') as f:\n",
    "    json.dump(\n",
    "        dict(\n",
    "            programme_data.project_details.records()\n",
    "        ),\n",
    "        f,\n",
    "        indent=2,\n",
    "    )"
   ]
  },
  {
   "cell_type": "markdown",
   "metadata": {},
   "source": [
    "Create a summary file"
   ]
  },
  {
   "cell_type": "code",
   "execution_count": null,
   "metadata": {},
   "outputs": [],
   "source": [
    "programme_data.excluded_events_data"
   ]
  },
  {
   "cell_type": "code",
   "execution_count": null,
   "metadata": {},
   "outputs": [],
   "source": [
    "with open(EVENTS / 'summary.json', 'w') as f:\n",
    "    json.dump(\n",
    "        {\n",
    "            'total': {\n",
    "                'events': sum(programme_data.events.values('events')),\n",
    "                'audience': sum(a for a in programme_data.events.values('audience') if a is not None)\n",
    "            },\n",
    "            'excluded': dict(programme_data.excluded_events_data.aggregate('validation', len).records()),\n",
    "            'date': {\n",
    "                'earliest': min(programme_data.events_data.values('start_date')).isoformat(),\n",
    "                'latest': max(programme_data.events_data.values('end_date')).isoformat(),\n",
    "            }\n",
    "        },\n",
    "        f,\n",
    "        indent=2,\n",
    "    )"
   ]
  },
  {
   "cell_type": "markdown",
   "metadata": {},
   "source": [
    "## Venues"
   ]
  },
  {
   "cell_type": "code",
   "execution_count": null,
   "metadata": {},
   "outputs": [],
   "source": [
    "education_settings = (\n",
    "    Programme.venues\n",
    "    .selectcontains('Org/Venue Type', 'Education Setting')\n",
    ")"
   ]
  },
  {
   "cell_type": "code",
   "execution_count": null,
   "metadata": {},
   "outputs": [],
   "source": [
    "loading_bay = (\n",
    "    Programme.venues\n",
    "    .selectcontains('Organisation &/or Venue Name', 'Loading Bay')\n",
    "    .addfield('event_report_count', lambda r: len(r['Event Reports']))\n",
    "    .aggregate(['Organisation &/or Venue Name', 'id'], sum, 'event_report_count')\n",
    "    .cutout('id')\n",
    ")\n",
    "loading_bay"
   ]
  },
  {
   "cell_type": "code",
   "execution_count": null,
   "metadata": {},
   "outputs": [],
   "source": [
    "beacon = (\n",
    "    Programme.venues\n",
    "    .selectcontains('Organisation &/or Venue Name', 'Beacon - ')\n",
    "    .addfield('event_report_count', lambda r: len(r['Event Reports'] or []))\n",
    "    .aggregate(['Organisation &/or Venue Name', 'id'], sum, 'event_report_count')\n",
    "    .cutout('id')\n",
    ")\n",
    "beacon"
   ]
  },
  {
   "cell_type": "code",
   "execution_count": null,
   "metadata": {},
   "outputs": [],
   "source": [
    "json.dump(\n",
    "    {\n",
    "        'loading_bay': dict(loading_bay.records()),\n",
    "        'beacon': dict(beacon.records()),\n",
    "    },\n",
    "    open(EVENTS / 'by_venue.json', 'w')\n",
    ")"
   ]
  }
 ],
 "metadata": {
  "kernelspec": {
   "display_name": "data.bradford2025.co.uk-DmiwwEw1",
   "language": "python",
   "name": "python3"
  },
  "language_info": {
   "codemirror_mode": {
    "name": "ipython",
    "version": 3
   },
   "file_extension": ".py",
   "mimetype": "text/x-python",
   "name": "python",
   "nbconvert_exporter": "python",
   "pygments_lexer": "ipython3",
   "version": "3.12.4"
  }
 },
 "nbformat": 4,
 "nbformat_minor": 2
}
