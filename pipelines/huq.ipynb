{
 "cells": [
  {
   "cell_type": "markdown",
   "metadata": {},
   "source": [
    "# HUQ data processing"
   ]
  },
  {
   "cell_type": "code",
   "execution_count": null,
   "metadata": {},
   "outputs": [],
   "source": [
    "import petl as etl\n",
    "from utils.paths import HUQ, SITE"
   ]
  },
  {
   "cell_type": "code",
   "execution_count": null,
   "metadata": {},
   "outputs": [],
   "source": [
    "ticketing = (\n",
    "    etl\n",
    "    .fromcsv(HUQ / 'mastercard.csv')\n",
    "    .convertnumbers()\n",
    "    .convert('datestamp', etl.dateparser('%Y-%m-%d'))\n",
    ")"
   ]
  },
  {
   "cell_type": "code",
   "execution_count": null,
   "metadata": {},
   "outputs": [],
   "source": [
    "ticketing"
   ]
  },
  {
   "cell_type": "code",
   "execution_count": null,
   "metadata": {},
   "outputs": [],
   "source": [
    "OUTPUT = SITE / 'experiments/huq/_data'\n",
    "OUTPUT.mkdir(exist_ok=True, parents=True)"
   ]
  },
  {
   "cell_type": "code",
   "execution_count": null,
   "metadata": {},
   "outputs": [],
   "source": [
    "(\n",
    "    ticketing\n",
    "    .selecteq('variable', 'average_account_count')\n",
    "    .cutout('variable')\n",
    "    .tocsv(OUTPUT / 'footfall_proxy.csv')\n",
    ")"
   ]
  },
  {
   "cell_type": "code",
   "execution_count": null,
   "metadata": {},
   "outputs": [],
   "source": [
    "(\n",
    "    ticketing\n",
    "    .selecteq('variable', 'transaction_amount')\n",
    "    .cutout('variable')\n",
    "    .tocsv(OUTPUT / 'spend_index.csv')\n",
    ")"
   ]
  },
  {
   "cell_type": "markdown",
   "metadata": {},
   "source": [
    "* purchasing_power_quantile\n",
    "* estimated_actual_footfall\n",
    "* estimated_actual_footfall_rolling\n",
    "* indexed_signal\n",
    "* indexed_signal_rolling"
   ]
  },
  {
   "cell_type": "code",
   "execution_count": null,
   "metadata": {},
   "outputs": [],
   "source": [
    "footfall = (\n",
    "    etl\n",
    "    .fromcsv(str(HUQ / 'footfall.long.csv.bz2'))\n",
    "    .selecteq('variable', 'estimated_actual_footfall_rolling')\n",
    "    .cut('datestamp', 'centre_name', 'value')\n",
    "    .convert('value', int)\n",
    "    .selectgt('value', 0)\n",
    "    .cache()\n",
    ")"
   ]
  },
  {
   "cell_type": "code",
   "execution_count": null,
   "metadata": {},
   "outputs": [],
   "source": [
    "import re\n",
    "for k, t in footfall.facet('centre_name').items():\n",
    "    filename = re.sub(r'[\\s-]+', '_', k.lower()) + '.csv'\n",
    "    t.tocsv(OUTPUT / 'footfall' / filename)"
   ]
  }
 ],
 "metadata": {
  "kernelspec": {
   "display_name": "data.bradford2025.co.uk-DmiwwEw1",
   "language": "python",
   "name": "python3"
  },
  "language_info": {
   "codemirror_mode": {
    "name": "ipython",
    "version": 3
   },
   "file_extension": ".py",
   "mimetype": "text/x-python",
   "name": "python",
   "nbconvert_exporter": "python",
   "pygments_lexer": "ipython3",
   "version": "3.12.4"
  }
 },
 "nbformat": 4,
 "nbformat_minor": 2
}
