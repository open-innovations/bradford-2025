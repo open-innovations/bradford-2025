{
 "cells": [
  {
   "cell_type": "markdown",
   "metadata": {},
   "source": [
    "# HUQ data processing"
   ]
  },
  {
   "cell_type": "code",
   "execution_count": 1,
   "metadata": {},
   "outputs": [],
   "source": [
    "import petl as etl\n",
    "from utils.paths import HUQ, SITE"
   ]
  },
  {
   "cell_type": "code",
   "execution_count": 2,
   "metadata": {},
   "outputs": [],
   "source": [
    "ticketing = (\n",
    "    etl\n",
    "    .fromcsv(HUQ / 'mastercard.csv')\n",
    "    .convertnumbers()\n",
    "    .convert('datestamp', etl.dateparser('%Y-%m-%d'))\n",
    ")"
   ]
  },
  {
   "cell_type": "code",
   "execution_count": 3,
   "metadata": {},
   "outputs": [
    {
     "data": {
      "text/html": [
       "<table class='petl'>\n",
       "<thead>\n",
       "<tr>\n",
       "<th>datestamp</th>\n",
       "<th>variable</th>\n",
       "<th>value</th>\n",
       "</tr>\n",
       "</thead>\n",
       "<tbody>\n",
       "<tr>\n",
       "<td>2024-12-01</td>\n",
       "<td>average_account_count</td>\n",
       "<td style='text-align: right'>215</td>\n",
       "</tr>\n",
       "<tr>\n",
       "<td>2024-12-01</td>\n",
       "<td>average_spend_amount</td>\n",
       "<td style='text-align: right'>40</td>\n",
       "</tr>\n",
       "<tr>\n",
       "<td>2024-12-01</td>\n",
       "<td>average_ticket</td>\n",
       "<td style='text-align: right'>38</td>\n",
       "</tr>\n",
       "<tr>\n",
       "<td>2024-12-01</td>\n",
       "<td>transaction_amount</td>\n",
       "<td style='text-align: right'>142</td>\n",
       "</tr>\n",
       "<tr>\n",
       "<td>2024-12-01</td>\n",
       "<td>transaction_count</td>\n",
       "<td style='text-align: right'>223</td>\n",
       "</tr>\n",
       "</tbody>\n",
       "</table>\n",
       "<p><strong>...</strong></p>"
      ],
      "text/plain": [
       "+----------------------------+-------------------------+-------+\n",
       "| datestamp                  | variable                | value |\n",
       "+============================+=========================+=======+\n",
       "| datetime.date(2024, 12, 1) | 'average_account_count' |   215 |\n",
       "+----------------------------+-------------------------+-------+\n",
       "| datetime.date(2024, 12, 1) | 'average_spend_amount'  |    40 |\n",
       "+----------------------------+-------------------------+-------+\n",
       "| datetime.date(2024, 12, 1) | 'average_ticket'        |    38 |\n",
       "+----------------------------+-------------------------+-------+\n",
       "| datetime.date(2024, 12, 1) | 'transaction_amount'    |   142 |\n",
       "+----------------------------+-------------------------+-------+\n",
       "| datetime.date(2024, 12, 1) | 'transaction_count'     |   223 |\n",
       "+----------------------------+-------------------------+-------+\n",
       "..."
      ]
     },
     "execution_count": 3,
     "metadata": {},
     "output_type": "execute_result"
    }
   ],
   "source": [
    "ticketing"
   ]
  },
  {
   "cell_type": "code",
   "execution_count": 4,
   "metadata": {},
   "outputs": [],
   "source": [
    "OUTPUT = SITE / 'experiments/huq/_data'\n",
    "OUTPUT.mkdir(exist_ok=True, parents=True)"
   ]
  },
  {
   "cell_type": "code",
   "execution_count": 5,
   "metadata": {},
   "outputs": [],
   "source": [
    "(\n",
    "    ticketing\n",
    "    .selecteq('variable', 'average_account_count')\n",
    "    .cutout('variable')\n",
    "    .tocsv(OUTPUT / 'footfall_proxy.csv')\n",
    ")"
   ]
  },
  {
   "cell_type": "code",
   "execution_count": 6,
   "metadata": {},
   "outputs": [],
   "source": [
    "(\n",
    "    ticketing\n",
    "    .selecteq('variable', 'transaction_amount')\n",
    "    .cutout('variable')\n",
    "    .tocsv(OUTPUT / 'spend_index.csv')\n",
    ")"
   ]
  },
  {
   "cell_type": "code",
   "execution_count": null,
   "metadata": {},
   "outputs": [],
   "source": [
    "footfall = (\n",
    "    etl\n",
    "    .fromcsv(HUQ / 'footfall.csv')\n",
    "    .cut('datestamp', 'centre_name', 'estimated_actual_footfall_rolling')\n",
    "    .rename(2, 'value')\n",
    "    .convertnumbers()\n",
    "    .convert('datestamp', etl.dateparser('%Y-%m-%d'))\n",
    "    .cache()\n",
    ")"
   ]
  },
  {
   "cell_type": "code",
   "execution_count": 8,
   "metadata": {},
   "outputs": [],
   "source": [
    "import re\n",
    "for k, t in footfall.facet('centre_name').items():\n",
    "    filename = re.sub(r'[\\s-]+', '_', k.lower()) + '.csv'\n",
    "    t.tocsv(OUTPUT / 'footfall' / filename)"
   ]
  },
  {
   "cell_type": "code",
   "execution_count": null,
   "metadata": {},
   "outputs": [],
   "source": []
  }
 ],
 "metadata": {
  "kernelspec": {
   "display_name": "data.bradford2025.co.uk-DmiwwEw1",
   "language": "python",
   "name": "python3"
  },
  "language_info": {
   "codemirror_mode": {
    "name": "ipython",
    "version": 3
   },
   "file_extension": ".py",
   "mimetype": "text/x-python",
   "name": "python",
   "nbconvert_exporter": "python",
   "pygments_lexer": "ipython3",
   "version": "3.12.4"
  }
 },
 "nbformat": 4,
 "nbformat_minor": 2
}
