{
 "cells": [
  {
   "cell_type": "markdown",
   "metadata": {},
   "source": [
    "# HUQ data processing"
   ]
  },
  {
   "cell_type": "code",
   "execution_count": 2,
   "metadata": {},
   "outputs": [],
   "source": [
    "import petl as etl\n",
    "from utils.paths import HUQ, SITE"
   ]
  },
  {
   "cell_type": "code",
   "execution_count": 3,
   "metadata": {},
   "outputs": [],
   "source": [
    "ticketing = (\n",
    "    etl\n",
    "    .fromcsv(HUQ / 'mastercard.csv')\n",
    "    .convertnumbers()\n",
    "    .convert('datestamp', etl.dateparser('%Y-%m-%d'))\n",
    ")"
   ]
  },
  {
   "cell_type": "code",
   "execution_count": 4,
   "metadata": {},
   "outputs": [],
   "source": [
    "OUTPUT = SITE / 'experiments/huq/_data'\n",
    "OUTPUT.mkdir(exist_ok=True, parents=True)"
   ]
  },
  {
   "cell_type": "code",
   "execution_count": 5,
   "metadata": {},
   "outputs": [],
   "source": [
    "(\n",
    "    ticketing\n",
    "    .selecteq('variable', 'average_account_count')\n",
    "    .cutout('variable')\n",
    "    .tocsv(OUTPUT / 'footfall_proxy.csv')\n",
    ")"
   ]
  },
  {
   "cell_type": "code",
   "execution_count": 6,
   "metadata": {},
   "outputs": [],
   "source": [
    "(\n",
    "    ticketing\n",
    "    .selecteq('variable', 'transaction_amount')\n",
    "    .cutout('variable')\n",
    "    .tocsv(OUTPUT / 'spend_index.csv')\n",
    ")"
   ]
  },
  {
   "cell_type": "code",
   "execution_count": null,
   "metadata": {},
   "outputs": [],
   "source": [
    "footfall = (\n",
    "    etl\n",
    "    .fromcsv(HUQ / 'footfall.csv')\n",
    "    .cut('datestamp', 'estimated_actual_footfall')\n",
    "    .convertnumbers()\n",
    "    .convert('datestamp', etl.dateparser('%Y-%m-%d'))\n",
    "    .cache()\n",
    ")"
   ]
  },
  {
   "cell_type": "code",
   "execution_count": 17,
   "metadata": {},
   "outputs": [],
   "source": [
    "footfall.tocsv(OUTPUT / 'footfall.csv')"
   ]
  },
  {
   "cell_type": "code",
   "execution_count": null,
   "metadata": {},
   "outputs": [],
   "source": []
  }
 ],
 "metadata": {
  "kernelspec": {
   "display_name": "bd25-L4uOQWuf",
   "language": "python",
   "name": "python3"
  },
  "language_info": {
   "codemirror_mode": {
    "name": "ipython",
    "version": 3
   },
   "file_extension": ".py",
   "mimetype": "text/x-python",
   "name": "python",
   "nbconvert_exporter": "python",
   "pygments_lexer": "ipython3",
   "version": "3.12.7"
  }
 },
 "nbformat": 4,
 "nbformat_minor": 2
}
