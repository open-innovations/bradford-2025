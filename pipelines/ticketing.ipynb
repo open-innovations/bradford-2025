{
 "cells": [
  {
   "cell_type": "code",
   "execution_count": 61,
   "metadata": {},
   "outputs": [],
   "source": [
    "import json\n",
    "\n",
    "import pandas as pd\n",
    "import petl as etl\n",
    "from utils.paths import DATA, SITE"
   ]
  },
  {
   "cell_type": "code",
   "execution_count": 62,
   "metadata": {},
   "outputs": [],
   "source": [
    "TICKET_DATA = SITE / 'themes/ticketing/_data/operational'\n",
    "TICKET_DATA.mkdir(parents=True, exist_ok=True)"
   ]
  },
  {
   "cell_type": "code",
   "execution_count": 63,
   "metadata": {},
   "outputs": [],
   "source": [
    "tickets = etl.fromcsv(DATA / 'ticketing/tickets.csv').convertnumbers()"
   ]
  },
  {
   "cell_type": "code",
   "execution_count": 64,
   "metadata": {},
   "outputs": [],
   "source": [
    "def make_date_index(df):\n",
    "    df.date=df.date.pipe(pd.DatetimeIndex)\n",
    "    return df"
   ]
  },
  {
   "cell_type": "code",
   "execution_count": 65,
   "metadata": {},
   "outputs": [],
   "source": [
    "def resample_to_week(df):\n",
    "    df = df.resample('W-FRI', on='date').sum()\n",
    "    df.index.names = ['week_ending']\n",
    "    return df"
   ]
  },
  {
   "cell_type": "code",
   "execution_count": 66,
   "metadata": {},
   "outputs": [],
   "source": [
    "by_week = (\n",
    "    tickets\n",
    "    .selecteq('geography_type', 'oslaua')\n",
    "    .aggregate('date', sum, 'count_of_tickets')\n",
    "    .convert('date', etl.dateparser('%Y-%m-%d'))\n",
    "    .todataframe()\n",
    "    .pipe(make_date_index)\n",
    "    .pipe(resample_to_week)\n",
    ")"
   ]
  },
  {
   "cell_type": "code",
   "execution_count": 67,
   "metadata": {},
   "outputs": [],
   "source": [
    "weekly_tickets = pd.concat(\n",
    "    [\n",
    "        by_week.rename(columns={'value': 'weekly'}),\n",
    "        by_week.cumsum().rename(columns={'value': 'total'})\n",
    "    ],\n",
    "    axis=1\n",
    ")"
   ]
  },
  {
   "cell_type": "code",
   "execution_count": 68,
   "metadata": {},
   "outputs": [],
   "source": [
    "weekly_tickets.to_csv(TICKET_DATA / 'weekly_tickets.csv')"
   ]
  },
  {
   "cell_type": "code",
   "execution_count": 69,
   "metadata": {},
   "outputs": [],
   "source": [
    "geo = tickets.aggregate(['geography_type', 'geography_code'], sum, 'count_of_tickets')"
   ]
  },
  {
   "cell_type": "code",
   "execution_count": 70,
   "metadata": {},
   "outputs": [],
   "source": [
    "geo.tocsv(TICKET_DATA / 'geography.csv')"
   ]
  },
  {
   "cell_type": "code",
   "execution_count": 71,
   "metadata": {},
   "outputs": [],
   "source": [
    "orders = (\n",
    "    etl\n",
    "    .fromcsv(DATA / 'ticketing/orders.csv')\n",
    "    .convertnumbers()\n",
    "    .convert('date', etl.dateparser('%Y-%m-%d'))\n",
    ")"
   ]
  },
  {
   "cell_type": "code",
   "execution_count": 72,
   "metadata": {},
   "outputs": [],
   "source": [
    "weekly_orders = (\n",
    "    orders\n",
    "    .todataframe()\n",
    "    .pipe(make_date_index)\n",
    "    .pipe(resample_to_week)\n",
    ")\n"
   ]
  },
  {
   "cell_type": "code",
   "execution_count": 73,
   "metadata": {},
   "outputs": [],
   "source": [
    "pd.concat(\n",
    "    [\n",
    "        weekly_orders.rename(columns={'count_of_orders': 'weekly'}),\n",
    "        weekly_orders.cumsum().rename(columns={'count_of_orders': 'total'})\n",
    "    ],\n",
    "    axis=1\n",
    ").to_csv(TICKET_DATA / 'weekly_orders.csv')"
   ]
  },
  {
   "cell_type": "code",
   "execution_count": 74,
   "metadata": {},
   "outputs": [],
   "source": [
    "summary = {\n",
    "    'orders': orders.values('count_of_orders').sum(),\n",
    "    'tickets': tickets.selecteq('geography_type', 'osward').values('count_of_tickets').sum(),\n",
    "}"
   ]
  },
  {
   "cell_type": "code",
   "execution_count": 75,
   "metadata": {},
   "outputs": [],
   "source": [
    "with open(TICKET_DATA / 'summary.json', 'w') as f:\n",
    "    json.dump(summary, f)"
   ]
  },
  {
   "cell_type": "code",
   "execution_count": null,
   "metadata": {},
   "outputs": [],
   "source": []
  }
 ],
 "metadata": {
  "kernelspec": {
   "display_name": "bd25-L4uOQWuf",
   "language": "python",
   "name": "python3"
  },
  "language_info": {
   "codemirror_mode": {
    "name": "ipython",
    "version": 3
   },
   "file_extension": ".py",
   "mimetype": "text/x-python",
   "name": "python",
   "nbconvert_exporter": "python",
   "pygments_lexer": "ipython3",
   "version": "3.12.7"
  }
 },
 "nbformat": 4,
 "nbformat_minor": 2
}
