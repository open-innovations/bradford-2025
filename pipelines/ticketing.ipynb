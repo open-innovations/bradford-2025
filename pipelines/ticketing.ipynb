{
 "cells": [
  {
   "cell_type": "code",
   "execution_count": 1,
   "metadata": {},
   "outputs": [],
   "source": [
    "import ast\n",
    "import json\n",
    "\n",
    "import pandas as pd\n",
    "import petl as etl\n",
    "from utils.paths import PUBLISHED, SITE\n",
    "from utils.date import date_to_week"
   ]
  },
  {
   "cell_type": "code",
   "execution_count": 2,
   "metadata": {},
   "outputs": [],
   "source": [
    "TICKET_DATA = SITE / 'themes/ticketing/_data/operational'\n",
    "TICKET_DATA.mkdir(parents=True, exist_ok=True)"
   ]
  },
  {
   "cell_type": "code",
   "execution_count": 3,
   "metadata": {},
   "outputs": [],
   "source": [
    "instances = etl.fromcsv(PUBLISHED / 'ticketing/event-instances.csv')"
   ]
  },
  {
   "cell_type": "code",
   "execution_count": 4,
   "metadata": {},
   "outputs": [],
   "source": [
    "tickets = (\n",
    "    etl\n",
    "    .fromcsv(PUBLISHED / 'ticketing/tickets.csv')\n",
    "    .join(\n",
    "        instances\n",
    "        .cut('instance_id', 'eventType')\n",
    "        .convert('eventType', lambda f: ast.literal_eval(f).pop())\n",
    "    )\n",
    "    .addfield('week_ending', lambda r: date_to_week(r.date))\n",
    "    .selectnotin('eventType', ['TestEvent'])\n",
    "    .convertnumbers()\n",
    "    .cache()\n",
    ")"
   ]
  },
  {
   "cell_type": "code",
   "execution_count": 5,
   "metadata": {},
   "outputs": [],
   "source": [
    "def make_date_index(df, column_name='date'):\n",
    "    df[column_name]=df[column_name].pipe(pd.DatetimeIndex)\n",
    "    df.set_index(column_name, inplace=True)\n",
    "    return df"
   ]
  },
  {
   "cell_type": "code",
   "execution_count": 6,
   "metadata": {},
   "outputs": [],
   "source": [
    "by_week = (\n",
    "    tickets\n",
    "    .selecteq('geography_type', 'oslaua')\n",
    "    .aggregate('week_ending', sum, 'count_of_tickets', field='count_of_tickets')\n",
    "    .todataframe()\n",
    "    .pipe(make_date_index, column_name='week_ending')\n",
    ")"
   ]
  },
  {
   "cell_type": "code",
   "execution_count": 7,
   "metadata": {},
   "outputs": [],
   "source": [
    "weekly_tickets = pd.concat(\n",
    "    [\n",
    "        by_week.rename(columns={'count_of_tickets': 'weekly'}),\n",
    "        by_week.cumsum().rename(columns={'count_of_tickets': 'total'})\n",
    "    ],\n",
    "    axis=1\n",
    ")"
   ]
  },
  {
   "cell_type": "code",
   "execution_count": 8,
   "metadata": {},
   "outputs": [],
   "source": [
    "weekly_tickets.to_csv(TICKET_DATA / 'weekly_tickets.csv')"
   ]
  },
  {
   "cell_type": "code",
   "execution_count": 9,
   "metadata": {},
   "outputs": [],
   "source": [
    "def geography_area(row):\n",
    "    if row.geography_type != 'oslaua':\n",
    "        return None\n",
    "    if row.geography_code == 'MISSING':\n",
    "        return 'Unknown'\n",
    "    if row.geography_code == 'E08000032':\n",
    "        return 'Bradford'\n",
    "    if row.geography_code in 'E08000033 E08000034 E08000035 E08000036'.split():\n",
    "        return 'Other West Yorkshire'\n",
    "    return 'Other areas'"
   ]
  },
  {
   "cell_type": "code",
   "execution_count": 10,
   "metadata": {},
   "outputs": [],
   "source": [
    "geo = tickets.aggregate(['geography_type', 'geography_code'], sum, 'count_of_tickets')"
   ]
  },
  {
   "cell_type": "code",
   "execution_count": 11,
   "metadata": {},
   "outputs": [],
   "source": [
    "geo.tocsv(TICKET_DATA / 'geography.csv')"
   ]
  },
  {
   "cell_type": "code",
   "execution_count": 12,
   "metadata": {},
   "outputs": [],
   "source": [
    "orders = (\n",
    "    etl\n",
    "    .fromcsv(PUBLISHED / 'ticketing/orders.csv')\n",
    "    .addfield('week_ending', lambda r: date_to_week(r.date))\n",
    "    .convertnumbers()\n",
    ")"
   ]
  },
  {
   "cell_type": "code",
   "execution_count": 13,
   "metadata": {},
   "outputs": [],
   "source": [
    "weekly_orders = (\n",
    "    orders\n",
    "    .aggregate('week_ending', sum, 'count_of_orders', field='count_of_orders')\n",
    "    .todataframe()\n",
    "    .pipe(make_date_index, column_name='week_ending')\n",
    ")"
   ]
  },
  {
   "cell_type": "code",
   "execution_count": 14,
   "metadata": {},
   "outputs": [
    {
     "data": {
      "text/html": [
       "<table class='petl'>\n",
       "<thead>\n",
       "<tr>\n",
       "<th>geography_code</th>\n",
       "<th>value</th>\n",
       "</tr>\n",
       "</thead>\n",
       "<tbody>\n",
       "<tr>\n",
       "<td>E08000032</td>\n",
       "<td style='text-align: right'>32452</td>\n",
       "</tr>\n",
       "<tr>\n",
       "<td>MISSING</td>\n",
       "<td style='text-align: right'>15672</td>\n",
       "</tr>\n",
       "<tr>\n",
       "<td>E08000035</td>\n",
       "<td style='text-align: right'>7250</td>\n",
       "</tr>\n",
       "<tr>\n",
       "<td>E08000033</td>\n",
       "<td style='text-align: right'>3207</td>\n",
       "</tr>\n",
       "<tr>\n",
       "<td>E06000065</td>\n",
       "<td style='text-align: right'>2416</td>\n",
       "</tr>\n",
       "<tr>\n",
       "<td>E08000034</td>\n",
       "<td style='text-align: right'>2383</td>\n",
       "</tr>\n",
       "<tr>\n",
       "<td>E06000014</td>\n",
       "<td style='text-align: right'>601</td>\n",
       "</tr>\n",
       "<tr>\n",
       "<td>E08000036</td>\n",
       "<td style='text-align: right'>539</td>\n",
       "</tr>\n",
       "<tr>\n",
       "<td>E08000019</td>\n",
       "<td style='text-align: right'>531</td>\n",
       "</tr>\n",
       "<tr>\n",
       "<td>E06000010</td>\n",
       "<td style='text-align: right'>354</td>\n",
       "</tr>\n",
       "<tr>\n",
       "<td>E08000003</td>\n",
       "<td style='text-align: right'>315</td>\n",
       "</tr>\n",
       "<tr>\n",
       "<td>E06000011</td>\n",
       "<td style='text-align: right'>305</td>\n",
       "</tr>\n",
       "</tbody>\n",
       "</table>\n"
      ]
     },
     "metadata": {},
     "output_type": "display_data"
    }
   ],
   "source": [
    "(\n",
    "    tickets\n",
    "    .selecteq('geography_type', 'oslaua')\n",
    "    .aggregate('geography_code', sum, 'count_of_tickets')\n",
    "    .sort('value', reverse=True)\n",
    ").selectgt('value', 300).displayall()"
   ]
  },
  {
   "cell_type": "code",
   "execution_count": 15,
   "metadata": {},
   "outputs": [
    {
     "data": {
      "application/vnd.microsoft.datawrangler.viewer.v0+json": {
       "columns": [
        {
         "name": "week_ending",
         "rawType": "datetime64[ns]",
         "type": "datetime"
        },
        {
         "name": "count_of_orders",
         "rawType": "int64",
         "type": "integer"
        }
       ],
       "ref": "e185cbf4-594f-49ff-9e16-8cc4f7494027",
       "rows": [
        [
         "2024-06-30 00:00:00",
         "8"
        ],
        [
         "2024-07-07 00:00:00",
         "21"
        ],
        [
         "2024-07-14 00:00:00",
         "6"
        ],
        [
         "2024-07-21 00:00:00",
         "4"
        ],
        [
         "2024-07-28 00:00:00",
         "5"
        ],
        [
         "2024-08-04 00:00:00",
         "6"
        ],
        [
         "2024-08-11 00:00:00",
         "183"
        ],
        [
         "2024-08-18 00:00:00",
         "204"
        ],
        [
         "2024-08-25 00:00:00",
         "84"
        ],
        [
         "2024-09-01 00:00:00",
         "105"
        ],
        [
         "2024-09-08 00:00:00",
         "281"
        ],
        [
         "2024-09-15 00:00:00",
         "214"
        ],
        [
         "2024-09-22 00:00:00",
         "16"
        ],
        [
         "2024-09-29 00:00:00",
         "4"
        ],
        [
         "2024-10-13 00:00:00",
         "5"
        ],
        [
         "2024-10-20 00:00:00",
         "5"
        ],
        [
         "2024-10-27 00:00:00",
         "269"
        ],
        [
         "2024-11-03 00:00:00",
         "39"
        ],
        [
         "2024-11-10 00:00:00",
         "775"
        ],
        [
         "2024-11-17 00:00:00",
         "123"
        ],
        [
         "2024-11-24 00:00:00",
         "1589"
        ],
        [
         "2024-12-01 00:00:00",
         "339"
        ],
        [
         "2024-12-08 00:00:00",
         "408"
        ],
        [
         "2024-12-15 00:00:00",
         "728"
        ],
        [
         "2024-12-22 00:00:00",
         "836"
        ],
        [
         "2024-12-29 00:00:00",
         "658"
        ],
        [
         "2025-01-05 00:00:00",
         "1461"
        ],
        [
         "2025-01-12 00:00:00",
         "3113"
        ],
        [
         "2025-01-19 00:00:00",
         "446"
        ],
        [
         "2025-01-26 00:00:00",
         "737"
        ],
        [
         "2025-02-02 00:00:00",
         "437"
        ],
        [
         "2025-02-09 00:00:00",
         "295"
        ],
        [
         "2025-02-16 00:00:00",
         "212"
        ],
        [
         "2025-02-23 00:00:00",
         "266"
        ],
        [
         "2025-03-02 00:00:00",
         "534"
        ],
        [
         "2025-03-09 00:00:00",
         "780"
        ],
        [
         "2025-03-16 00:00:00",
         "694"
        ],
        [
         "2025-03-23 00:00:00",
         "573"
        ],
        [
         "2025-03-30 00:00:00",
         "424"
        ],
        [
         "2025-04-06 00:00:00",
         "796"
        ],
        [
         "2025-04-13 00:00:00",
         "1190"
        ],
        [
         "2025-04-20 00:00:00",
         "628"
        ],
        [
         "2025-04-27 00:00:00",
         "574"
        ],
        [
         "2025-05-04 00:00:00",
         "665"
        ],
        [
         "2025-05-11 00:00:00",
         "422"
        ],
        [
         "2025-05-18 00:00:00",
         "585"
        ],
        [
         "2025-05-25 00:00:00",
         "877"
        ],
        [
         "2025-06-01 00:00:00",
         "850"
        ],
        [
         "2025-06-08 00:00:00",
         "1735"
        ],
        [
         "2025-06-15 00:00:00",
         "654"
        ]
       ],
       "shape": {
        "columns": 1,
        "rows": 51
       }
      },
      "text/html": [
       "<div>\n",
       "<style scoped>\n",
       "    .dataframe tbody tr th:only-of-type {\n",
       "        vertical-align: middle;\n",
       "    }\n",
       "\n",
       "    .dataframe tbody tr th {\n",
       "        vertical-align: top;\n",
       "    }\n",
       "\n",
       "    .dataframe thead th {\n",
       "        text-align: right;\n",
       "    }\n",
       "</style>\n",
       "<table border=\"1\" class=\"dataframe\">\n",
       "  <thead>\n",
       "    <tr style=\"text-align: right;\">\n",
       "      <th></th>\n",
       "      <th>count_of_orders</th>\n",
       "    </tr>\n",
       "    <tr>\n",
       "      <th>week_ending</th>\n",
       "      <th></th>\n",
       "    </tr>\n",
       "  </thead>\n",
       "  <tbody>\n",
       "    <tr>\n",
       "      <th>2024-06-30</th>\n",
       "      <td>8</td>\n",
       "    </tr>\n",
       "    <tr>\n",
       "      <th>2024-07-07</th>\n",
       "      <td>21</td>\n",
       "    </tr>\n",
       "    <tr>\n",
       "      <th>2024-07-14</th>\n",
       "      <td>6</td>\n",
       "    </tr>\n",
       "    <tr>\n",
       "      <th>2024-07-21</th>\n",
       "      <td>4</td>\n",
       "    </tr>\n",
       "    <tr>\n",
       "      <th>2024-07-28</th>\n",
       "      <td>5</td>\n",
       "    </tr>\n",
       "    <tr>\n",
       "      <th>2024-08-04</th>\n",
       "      <td>6</td>\n",
       "    </tr>\n",
       "    <tr>\n",
       "      <th>2024-08-11</th>\n",
       "      <td>183</td>\n",
       "    </tr>\n",
       "    <tr>\n",
       "      <th>2024-08-18</th>\n",
       "      <td>204</td>\n",
       "    </tr>\n",
       "    <tr>\n",
       "      <th>2024-08-25</th>\n",
       "      <td>84</td>\n",
       "    </tr>\n",
       "    <tr>\n",
       "      <th>2024-09-01</th>\n",
       "      <td>105</td>\n",
       "    </tr>\n",
       "    <tr>\n",
       "      <th>2024-09-08</th>\n",
       "      <td>281</td>\n",
       "    </tr>\n",
       "    <tr>\n",
       "      <th>2024-09-15</th>\n",
       "      <td>214</td>\n",
       "    </tr>\n",
       "    <tr>\n",
       "      <th>2024-09-22</th>\n",
       "      <td>16</td>\n",
       "    </tr>\n",
       "    <tr>\n",
       "      <th>2024-09-29</th>\n",
       "      <td>4</td>\n",
       "    </tr>\n",
       "    <tr>\n",
       "      <th>2024-10-13</th>\n",
       "      <td>5</td>\n",
       "    </tr>\n",
       "    <tr>\n",
       "      <th>2024-10-20</th>\n",
       "      <td>5</td>\n",
       "    </tr>\n",
       "    <tr>\n",
       "      <th>2024-10-27</th>\n",
       "      <td>269</td>\n",
       "    </tr>\n",
       "    <tr>\n",
       "      <th>2024-11-03</th>\n",
       "      <td>39</td>\n",
       "    </tr>\n",
       "    <tr>\n",
       "      <th>2024-11-10</th>\n",
       "      <td>775</td>\n",
       "    </tr>\n",
       "    <tr>\n",
       "      <th>2024-11-17</th>\n",
       "      <td>123</td>\n",
       "    </tr>\n",
       "    <tr>\n",
       "      <th>2024-11-24</th>\n",
       "      <td>1589</td>\n",
       "    </tr>\n",
       "    <tr>\n",
       "      <th>2024-12-01</th>\n",
       "      <td>339</td>\n",
       "    </tr>\n",
       "    <tr>\n",
       "      <th>2024-12-08</th>\n",
       "      <td>408</td>\n",
       "    </tr>\n",
       "    <tr>\n",
       "      <th>2024-12-15</th>\n",
       "      <td>728</td>\n",
       "    </tr>\n",
       "    <tr>\n",
       "      <th>2024-12-22</th>\n",
       "      <td>836</td>\n",
       "    </tr>\n",
       "    <tr>\n",
       "      <th>2024-12-29</th>\n",
       "      <td>658</td>\n",
       "    </tr>\n",
       "    <tr>\n",
       "      <th>2025-01-05</th>\n",
       "      <td>1461</td>\n",
       "    </tr>\n",
       "    <tr>\n",
       "      <th>2025-01-12</th>\n",
       "      <td>3113</td>\n",
       "    </tr>\n",
       "    <tr>\n",
       "      <th>2025-01-19</th>\n",
       "      <td>446</td>\n",
       "    </tr>\n",
       "    <tr>\n",
       "      <th>2025-01-26</th>\n",
       "      <td>737</td>\n",
       "    </tr>\n",
       "    <tr>\n",
       "      <th>2025-02-02</th>\n",
       "      <td>437</td>\n",
       "    </tr>\n",
       "    <tr>\n",
       "      <th>2025-02-09</th>\n",
       "      <td>295</td>\n",
       "    </tr>\n",
       "    <tr>\n",
       "      <th>2025-02-16</th>\n",
       "      <td>212</td>\n",
       "    </tr>\n",
       "    <tr>\n",
       "      <th>2025-02-23</th>\n",
       "      <td>266</td>\n",
       "    </tr>\n",
       "    <tr>\n",
       "      <th>2025-03-02</th>\n",
       "      <td>534</td>\n",
       "    </tr>\n",
       "    <tr>\n",
       "      <th>2025-03-09</th>\n",
       "      <td>780</td>\n",
       "    </tr>\n",
       "    <tr>\n",
       "      <th>2025-03-16</th>\n",
       "      <td>694</td>\n",
       "    </tr>\n",
       "    <tr>\n",
       "      <th>2025-03-23</th>\n",
       "      <td>573</td>\n",
       "    </tr>\n",
       "    <tr>\n",
       "      <th>2025-03-30</th>\n",
       "      <td>424</td>\n",
       "    </tr>\n",
       "    <tr>\n",
       "      <th>2025-04-06</th>\n",
       "      <td>796</td>\n",
       "    </tr>\n",
       "    <tr>\n",
       "      <th>2025-04-13</th>\n",
       "      <td>1190</td>\n",
       "    </tr>\n",
       "    <tr>\n",
       "      <th>2025-04-20</th>\n",
       "      <td>628</td>\n",
       "    </tr>\n",
       "    <tr>\n",
       "      <th>2025-04-27</th>\n",
       "      <td>574</td>\n",
       "    </tr>\n",
       "    <tr>\n",
       "      <th>2025-05-04</th>\n",
       "      <td>665</td>\n",
       "    </tr>\n",
       "    <tr>\n",
       "      <th>2025-05-11</th>\n",
       "      <td>422</td>\n",
       "    </tr>\n",
       "    <tr>\n",
       "      <th>2025-05-18</th>\n",
       "      <td>585</td>\n",
       "    </tr>\n",
       "    <tr>\n",
       "      <th>2025-05-25</th>\n",
       "      <td>877</td>\n",
       "    </tr>\n",
       "    <tr>\n",
       "      <th>2025-06-01</th>\n",
       "      <td>850</td>\n",
       "    </tr>\n",
       "    <tr>\n",
       "      <th>2025-06-08</th>\n",
       "      <td>1735</td>\n",
       "    </tr>\n",
       "    <tr>\n",
       "      <th>2025-06-15</th>\n",
       "      <td>654</td>\n",
       "    </tr>\n",
       "    <tr>\n",
       "      <th>2025-06-22</th>\n",
       "      <td>135</td>\n",
       "    </tr>\n",
       "  </tbody>\n",
       "</table>\n",
       "</div>"
      ],
      "text/plain": [
       "             count_of_orders\n",
       "week_ending                 \n",
       "2024-06-30                 8\n",
       "2024-07-07                21\n",
       "2024-07-14                 6\n",
       "2024-07-21                 4\n",
       "2024-07-28                 5\n",
       "2024-08-04                 6\n",
       "2024-08-11               183\n",
       "2024-08-18               204\n",
       "2024-08-25                84\n",
       "2024-09-01               105\n",
       "2024-09-08               281\n",
       "2024-09-15               214\n",
       "2024-09-22                16\n",
       "2024-09-29                 4\n",
       "2024-10-13                 5\n",
       "2024-10-20                 5\n",
       "2024-10-27               269\n",
       "2024-11-03                39\n",
       "2024-11-10               775\n",
       "2024-11-17               123\n",
       "2024-11-24              1589\n",
       "2024-12-01               339\n",
       "2024-12-08               408\n",
       "2024-12-15               728\n",
       "2024-12-22               836\n",
       "2024-12-29               658\n",
       "2025-01-05              1461\n",
       "2025-01-12              3113\n",
       "2025-01-19               446\n",
       "2025-01-26               737\n",
       "2025-02-02               437\n",
       "2025-02-09               295\n",
       "2025-02-16               212\n",
       "2025-02-23               266\n",
       "2025-03-02               534\n",
       "2025-03-09               780\n",
       "2025-03-16               694\n",
       "2025-03-23               573\n",
       "2025-03-30               424\n",
       "2025-04-06               796\n",
       "2025-04-13              1190\n",
       "2025-04-20               628\n",
       "2025-04-27               574\n",
       "2025-05-04               665\n",
       "2025-05-11               422\n",
       "2025-05-18               585\n",
       "2025-05-25               877\n",
       "2025-06-01               850\n",
       "2025-06-08              1735\n",
       "2025-06-15               654\n",
       "2025-06-22               135"
      ]
     },
     "execution_count": 15,
     "metadata": {},
     "output_type": "execute_result"
    }
   ],
   "source": [
    "weekly_orders"
   ]
  },
  {
   "cell_type": "code",
   "execution_count": 16,
   "metadata": {},
   "outputs": [],
   "source": [
    "pd.concat(\n",
    "    [\n",
    "        weekly_orders.rename(columns={'count_of_orders': 'weekly'}),\n",
    "        weekly_orders.cumsum().rename(columns={'count_of_orders': 'total'})\n",
    "    ],\n",
    "    axis=1\n",
    ").to_csv(TICKET_DATA / 'weekly_orders.csv')"
   ]
  },
  {
   "cell_type": "code",
   "execution_count": 17,
   "metadata": {},
   "outputs": [],
   "source": [
    "summary = {\n",
    "    'orders': orders.values('count_of_orders').sum(),\n",
    "    'tickets': tickets.selecteq('geography_type', 'osward').values('count_of_tickets').sum(),\n",
    "    'geo': {\n",
    "        'by_area': dict(\n",
    "            tickets\n",
    "            .selecteq('geography_type', 'oslaua')\n",
    "            .addfield('geography_area', geography_area)\n",
    "            .selectnotnone('geography_area')\n",
    "            .aggregate(['geography_area'], sum, 'count_of_tickets')\n",
    "            .records()\n",
    "        )\n",
    "    }\n",
    "}"
   ]
  },
  {
   "cell_type": "code",
   "execution_count": 18,
   "metadata": {},
   "outputs": [],
   "source": [
    "with open(TICKET_DATA / 'summary.json', 'w') as f:\n",
    "    json.dump(summary, f)"
   ]
  },
  {
   "cell_type": "code",
   "execution_count": 19,
   "metadata": {},
   "outputs": [],
   "source": [
    "(\n",
    "    tickets\n",
    "    .selecteq('geography_type', 'oslaua')\n",
    "    .convert('type', {\n",
    "        'Adult': 'Full Price',\n",
    "        'Guest Ticket': 'Full Price',\n",
    "\n",
    "        'Audio Description': 'Accessible Ticket',\n",
    "        'BSL Interpreted': 'Accessible Ticket',\n",
    "        'Essential Companion': 'Accessible Ticket',\n",
    "        'Wheelchair User': 'Accessible Ticket',\n",
    "\n",
    "        'Z Community Ticket': 'Community Ticket',\n",
    "\n",
    "        'Under 16': 'Child Ticket',\n",
    "        'Child': 'Child Ticket',\n",
    "\n",
    "        'RSVP': 'Bradford 2025',\n",
    "        'Z Press Ticket': 'Bradford 2025',\n",
    "        'Z Company Ticket': 'Bradford 2025',\n",
    "        'Z Guest Artist': 'Bradford 2025',\n",
    "    })\n",
    "    .aggregate('type', sum, 'count_of_tickets', field='tickets')\n",
    "    .sort('tickets', reverse=True)\n",
    "    .rename({\n",
    "        'type': 'Ticket type',\n",
    "        'tickets': 'Number of tickets sold',\n",
    "    })\n",
    "    .tocsv(TICKET_DATA / 'type.csv')\n",
    ")"
   ]
  },
  {
   "cell_type": "code",
   "execution_count": 20,
   "metadata": {},
   "outputs": [],
   "source": [
    "event_type = (\n",
    "    tickets\n",
    "    .selecteq('geography_type', 'oslaua')\n",
    "    .aggregate(['week_ending', 'eventType'], sum, 'count_of_tickets', field='tickets')\n",
    "    .update('eventType', 'UNKNOWN', where=lambda r: not r.eventType)\n",
    ")\n",
    "\n",
    "(\n",
    "    event_type\n",
    "    .recast(variablefield='eventType', valuefield='tickets', missing=0)\n",
    "    .tocsv(TICKET_DATA / 'event_type_by_week.csv')\n",
    ")\n",
    "(\n",
    "    event_type\n",
    "    .aggregate('eventType', sum, 'tickets', field='tickets')\n",
    "    .convert('eventType', {\n",
    "        'MainProgrammeEvent': 'Main Programme',\n",
    "        'VIPReceptionEvent': 'VIP Reception',\n",
    "        'UNKNOWN': 'Unknown',\n",
    "        'SectorEvent': 'Sector Event',\n",
    "    })\n",
    "    .sort('tickets', reverse=True)\n",
    "    .rename({\n",
    "        'eventType': 'Event type',\n",
    "        'tickets': 'Number of tickets sold',\n",
    "    })\n",
    "    .tocsv(TICKET_DATA / 'event_type.csv')\n",
    ")"
   ]
  },
  {
   "cell_type": "code",
   "execution_count": null,
   "metadata": {},
   "outputs": [],
   "source": []
  }
 ],
 "metadata": {
  "kernelspec": {
   "display_name": "data.bradford2025.co.uk-DmiwwEw1",
   "language": "python",
   "name": "python3"
  },
  "language_info": {
   "codemirror_mode": {
    "name": "ipython",
    "version": 3
   },
   "file_extension": ".py",
   "mimetype": "text/x-python",
   "name": "python",
   "nbconvert_exporter": "python",
   "pygments_lexer": "ipython3",
   "version": "3.12.4"
  }
 },
 "nbformat": 4,
 "nbformat_minor": 2
}
