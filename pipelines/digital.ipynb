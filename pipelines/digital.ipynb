{
 "cells": [
  {
   "cell_type": "code",
   "execution_count": null,
   "id": "62410515",
   "metadata": {},
   "outputs": [],
   "source": [
    "import json\n",
    "from datetime import date\n",
    "\n",
    "import petl as etl\n",
    "from utils.paths import PUBLISHED, SITE"
   ]
  },
  {
   "cell_type": "code",
   "execution_count": null,
   "id": "f585c8e5",
   "metadata": {},
   "outputs": [],
   "source": [
    "FOLLOWERS = SITE / 'insights/digital/_data/followers'\n",
    "FOLLOWERS.mkdir(exist_ok=True, parents=True)"
   ]
  },
  {
   "cell_type": "code",
   "execution_count": null,
   "id": "8202e1e3",
   "metadata": {},
   "outputs": [],
   "source": [
    "followers = (\n",
    "    etl.fromcsv(PUBLISHED / 'digital/followers.csv')\n",
    "    # .convert('Date', date.fromisoformat)\n",
    "    .convertnumbers()\n",
    ")"
   ]
  },
  {
   "cell_type": "code",
   "execution_count": null,
   "id": "b71dd82d",
   "metadata": {},
   "outputs": [],
   "source": [
    "with open(FOLLOWERS / 'latest.json', 'w', encoding='utf-8') as f: \n",
    "    json.dump(\n",
    "        dict(\n",
    "            followers\n",
    "            .groupselectlast('variable')\n",
    "            .addfield('data', lambda r: { 'count': r.value, 'updated': r.Date })\n",
    "            .cut('variable', 'data')\n",
    "            .records()\n",
    "        ),\n",
    "        f,\n",
    "        indent=2,\n",
    "    )"
   ]
  },
  {
   "cell_type": "code",
   "execution_count": null,
   "id": "cad9619c",
   "metadata": {},
   "outputs": [],
   "source": [
    "(\n",
    "    followers\n",
    "    .recast()\n",
    "    .tojson(FOLLOWERS / 'by_month.json', indent=2)\n",
    ")"
   ]
  },
  {
   "cell_type": "code",
   "execution_count": null,
   "id": "f7bef887",
   "metadata": {},
   "outputs": [],
   "source": []
  }
 ],
 "metadata": {
  "kernelspec": {
   "display_name": "data.bradford2025.co.uk-DmiwwEw1",
   "language": "python",
   "name": "python3"
  },
  "language_info": {
   "codemirror_mode": {
    "name": "ipython",
    "version": 3
   },
   "file_extension": ".py",
   "mimetype": "text/x-python",
   "name": "python",
   "nbconvert_exporter": "python",
   "pygments_lexer": "ipython3",
   "version": "3.12.4"
  }
 },
 "nbformat": 4,
 "nbformat_minor": 5
}
