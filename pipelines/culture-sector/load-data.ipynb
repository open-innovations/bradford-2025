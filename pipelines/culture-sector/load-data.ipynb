{
 "cells": [
  {
   "cell_type": "code",
   "execution_count": 1,
   "metadata": {},
   "outputs": [],
   "source": [
    "from pathlib import Path\n",
    "from zipfile import ZipFile\n",
    "\n",
    "from tempfile import TemporaryDirectory\n",
    "\n",
    "import pipeline_utils.db as database"
   ]
  },
  {
   "cell_type": "code",
   "execution_count": 2,
   "metadata": {},
   "outputs": [],
   "source": [
    "RAW_DATA = Path('../raw')"
   ]
  },
  {
   "cell_type": "code",
   "execution_count": 3,
   "metadata": {},
   "outputs": [],
   "source": [
    "ch_zip = ZipFile(RAW_DATA / 'company-data.zip')\n",
    "filename = ch_zip.namelist()[0]"
   ]
  },
  {
   "cell_type": "code",
   "execution_count": 4,
   "metadata": {},
   "outputs": [],
   "source": [
    "db = database.connect()"
   ]
  },
  {
   "cell_type": "code",
   "execution_count": 5,
   "metadata": {},
   "outputs": [],
   "source": [
    "with TemporaryDirectory() as d:\n",
    "    companies = ch_zip.extract(filename, d)\n",
    "    db.sql(f'''CREATE OR REPLACE TABLE CompanyData AS\n",
    "            SELECT * FROM read_csv(\"{ companies }\")''')"
   ]
  },
  {
   "cell_type": "code",
   "execution_count": 6,
   "metadata": {},
   "outputs": [
    {
     "data": {
      "text/html": [
       "<div>\n",
       "<style scoped>\n",
       "    .dataframe tbody tr th:only-of-type {\n",
       "        vertical-align: middle;\n",
       "    }\n",
       "\n",
       "    .dataframe tbody tr th {\n",
       "        vertical-align: top;\n",
       "    }\n",
       "\n",
       "    .dataframe thead th {\n",
       "        text-align: right;\n",
       "    }\n",
       "</style>\n",
       "<table border=\"1\" class=\"dataframe\">\n",
       "  <thead>\n",
       "    <tr style=\"text-align: right;\">\n",
       "      <th></th>\n",
       "      <th>Count of companies</th>\n",
       "    </tr>\n",
       "  </thead>\n",
       "  <tbody>\n",
       "    <tr>\n",
       "      <th>0</th>\n",
       "      <td>5632838</td>\n",
       "    </tr>\n",
       "  </tbody>\n",
       "</table>\n",
       "</div>"
      ],
      "text/plain": [
       "   Count of companies\n",
       "0             5632838"
      ]
     },
     "execution_count": 6,
     "metadata": {},
     "output_type": "execute_result"
    }
   ],
   "source": [
    "db.sql(\"SELECT count(*) as 'Count of companies' FROM CompanyData;\").df()"
   ]
  },
  {
   "cell_type": "code",
   "execution_count": 7,
   "metadata": {},
   "outputs": [],
   "source": [
    "cc_zip = ZipFile(RAW_DATA / 'charity-data.zip')\n",
    "cc_area_zip = ZipFile(RAW_DATA / 'charity-area-data.zip')\n",
    "cc_classification_zip = ZipFile(RAW_DATA / 'charity-classification-data.zip')"
   ]
  },
  {
   "cell_type": "code",
   "execution_count": 8,
   "metadata": {},
   "outputs": [],
   "source": [
    "with TemporaryDirectory() as d:\n",
    "    c = cc_zip.extract(cc_zip.namelist()[0], d)\n",
    "    ca = cc_area_zip.extract(cc_area_zip.namelist()[0], d)\n",
    "    cc = cc_classification_zip.extract(cc_classification_zip.namelist()[0], d)\n",
    "\n",
    "    db.sql(f'''\n",
    "           \n",
    "           CREATE OR REPLACE TEMP TABLE tCharities AS\n",
    "            SELECT * FROM read_csv(\"{ c }\", quote=NULL) WHERE date_of_removal IS NULL;\n",
    "           CREATE OR REPLACE TEMP TABLE tCharityArea AS\n",
    "            SELECT * FROM read_csv(\"{ ca }\", quote=NULL);\n",
    "           CREATE OR REPLACE TEMP TABLE tCharityClassification AS\n",
    "            SELECT * FROM read_csv(\"{ cc }\", quote=NULL);\n",
    "            ''')"
   ]
  },
  {
   "cell_type": "code",
   "execution_count": 9,
   "metadata": {},
   "outputs": [
    {
     "data": {
      "text/plain": [
       "┌─────────────────────────────┐\n",
       "│ geographic_area_description │\n",
       "│           varchar           │\n",
       "├─────────────────────────────┤\n",
       "│ Bradford City               │\n",
       "└─────────────────────────────┘"
      ]
     },
     "execution_count": 9,
     "metadata": {},
     "output_type": "execute_result"
    }
   ],
   "source": [
    "db.sql('''SELECT DISTINCT(geographic_area_description) FROM tCharityArea WHERE geographic_area_description LIKE '%radford%';''')"
   ]
  },
  {
   "cell_type": "code",
   "execution_count": 10,
   "metadata": {},
   "outputs": [],
   "source": [
    "db.sql( '''\n",
    "        CREATE OR REPLACE TABLE tCharitiesScope AS\n",
    "        SELECT DISTINCT *\n",
    "          FROM tCharityArea a\n",
    "          JOIN tCharityClassification c\n",
    "            ON a.organisation_number = c.organisation_number\n",
    "         WHERE a.geographic_area_description = 'Bradford City'\n",
    "           AND c.classification_type = 'What'\n",
    "           AND c.classification_code = '109';\n",
    "       ''')"
   ]
  },
  {
   "cell_type": "code",
   "execution_count": 11,
   "metadata": {},
   "outputs": [],
   "source": [
    "db.query('''\n",
    "         CREATE OR REPLACE TABLE Charities AS\n",
    "            SELECT\n",
    "                c.registered_charity_number,\n",
    "                c.organisation_number,\n",
    "                charity_name,\n",
    "                latest_income,\n",
    "                latest_expenditure,\n",
    "                charity_contact_postcode,\n",
    "                charity_contact_web,\n",
    "                charity_company_registration_number,\n",
    "         \n",
    "            FROM tCharities c\n",
    "            JOIN tCharitiesScope s\n",
    "         ON s.organisation_number == c.organisation_number\n",
    "         ''')"
   ]
  },
  {
   "cell_type": "code",
   "execution_count": 12,
   "metadata": {},
   "outputs": [
    {
     "data": {
      "text/html": [
       "<div>\n",
       "<style scoped>\n",
       "    .dataframe tbody tr th:only-of-type {\n",
       "        vertical-align: middle;\n",
       "    }\n",
       "\n",
       "    .dataframe tbody tr th {\n",
       "        vertical-align: top;\n",
       "    }\n",
       "\n",
       "    .dataframe thead th {\n",
       "        text-align: right;\n",
       "    }\n",
       "</style>\n",
       "<table border=\"1\" class=\"dataframe\">\n",
       "  <thead>\n",
       "    <tr style=\"text-align: right;\">\n",
       "      <th></th>\n",
       "      <th>Count of Charities</th>\n",
       "    </tr>\n",
       "  </thead>\n",
       "  <tbody>\n",
       "    <tr>\n",
       "      <th>0</th>\n",
       "      <td>260</td>\n",
       "    </tr>\n",
       "  </tbody>\n",
       "</table>\n",
       "</div>"
      ],
      "text/plain": [
       "   Count of Charities\n",
       "0                 260"
      ]
     },
     "execution_count": 12,
     "metadata": {},
     "output_type": "execute_result"
    }
   ],
   "source": [
    "db.query('''\n",
    "         SELECT COUNT(*) AS 'Count of Charities' FROM Charities\n",
    "         ;''').df()"
   ]
  },
  {
   "cell_type": "code",
   "execution_count": 13,
   "metadata": {},
   "outputs": [],
   "source": [
    "db.close()"
   ]
  },
  {
   "cell_type": "code",
   "execution_count": null,
   "metadata": {},
   "outputs": [],
   "source": []
  }
 ],
 "metadata": {
  "kernelspec": {
   "display_name": "bradford-2025-T5c5aHPV",
   "language": "python",
   "name": "python3"
  },
  "language_info": {
   "codemirror_mode": {
    "name": "ipython",
    "version": 3
   },
   "file_extension": ".py",
   "mimetype": "text/x-python",
   "name": "python",
   "nbconvert_exporter": "python",
   "pygments_lexer": "ipython3",
   "version": "3.12.3"
  }
 },
 "nbformat": 4,
 "nbformat_minor": 2
}
