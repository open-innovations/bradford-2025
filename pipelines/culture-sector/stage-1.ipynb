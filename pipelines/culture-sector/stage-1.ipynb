{
 "cells": [
  {
   "cell_type": "code",
   "execution_count": 1,
   "metadata": {},
   "outputs": [],
   "source": [
    "import petl as etl\n",
    "from config import RAW, FUNDED_ORGS_LIST, la_names"
   ]
  },
  {
   "cell_type": "code",
   "execution_count": 2,
   "metadata": {},
   "outputs": [],
   "source": [
    "date_parser = etl.dateparser('%Y-%m-%d 00:00:00')"
   ]
  },
  {
   "cell_type": "markdown",
   "metadata": {},
   "source": [
    "## Load data"
   ]
  },
  {
   "cell_type": "markdown",
   "metadata": {},
   "source": [
    "### Arts Council England Investment Programme"
   ]
  },
  {
   "cell_type": "code",
   "execution_count": 3,
   "metadata": {},
   "outputs": [],
   "source": [
    "ace_investment_programme = (\n",
    "    etl.fromcsv(RAW / 'arts-council-investment-programme.csv')\n",
    "    .rename({\n",
    "            'Applicant Name': 'organisation',\n",
    "            \"Type of organisation\\n(NPO/IPSO/Transfer)\": 'Source'\n",
    "            })\n",
    "    .addfield('Period', '2023/26')\n",
    "    .cut('organisation', 'Source', 'Local authority', 'Period')\n",
    ")"
   ]
  },
  {
   "cell_type": "markdown",
   "metadata": {},
   "source": [
    "### Arts Council England Project Grants"
   ]
  },
  {
   "cell_type": "code",
   "execution_count": 4,
   "metadata": {},
   "outputs": [],
   "source": [
    "ace_project_grants = (\n",
    "    etl.fromcsv(RAW / 'arts-council-project-grants.csv')\n",
    "    .convert('Award date', lambda d: date_parser(d).year)\n",
    "    .rename({\n",
    "            'Recipient': 'organisation',\n",
    "            'Award date': 'Period'\n",
    "            })\n",
    "    .addfield('Source', 'Project Grant')\n",
    "    .cut('organisation', 'Source', 'Local authority', 'Period')\n",
    ")"
   ]
  },
  {
   "cell_type": "code",
   "execution_count": 5,
   "metadata": {},
   "outputs": [],
   "source": [
    "data = etl.cat(\n",
    "    ace_investment_programme,\n",
    "    ace_project_grants\n",
    ").selectin(\n",
    "    'Local authority', la_names\n",
    ").selectnotin(\n",
    "    'organisation', ['-']\n",
    ").convert(\n",
    "    'organisation', lambda x: x.strip()\n",
    ").aggregate(\n",
    "    ('organisation', 'Local authority', 'Source'),\n",
    "    len,\n",
    "    field=\"Number\"\n",
    ").sort(\n",
    "    ['organisation', 'Local authority']\n",
    ")"
   ]
  },
  {
   "cell_type": "code",
   "execution_count": 6,
   "metadata": {},
   "outputs": [],
   "source": [
    "data.tocsv(FUNDED_ORGS_LIST)"
   ]
  }
 ],
 "metadata": {
  "kernelspec": {
   "display_name": "bradford-2025-T5c5aHPV",
   "language": "python",
   "name": "python3"
  },
  "language_info": {
   "codemirror_mode": {
    "name": "ipython",
    "version": 3
   },
   "file_extension": ".py",
   "mimetype": "text/x-python",
   "name": "python",
   "nbconvert_exporter": "python",
   "pygments_lexer": "ipython3",
   "version": "3.12.3"
  }
 },
 "nbformat": 4,
 "nbformat_minor": 2
}
