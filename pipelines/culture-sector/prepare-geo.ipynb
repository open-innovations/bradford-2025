{
 "cells": [
  {
   "cell_type": "code",
   "execution_count": 1,
   "metadata": {},
   "outputs": [],
   "source": [
    "import re\n",
    "from zipfile import ZipFile\n",
    "\n",
    "import petl as etl\n",
    "from pipeline_utils.filesystem.paths import RAW_DATA, REF_DATA\n",
    "\n",
    "onspd_zip = RAW_DATA / 'onspd.zip'\n",
    "\n",
    "postcode_areas = ['BD']\n",
    "\n",
    "search = re.compile(f'Data/multi_csv/.*({'|'.join(postcode_areas)})\\\\.csv')\n",
    "\n",
    "files = [\n",
    "    f for f in\n",
    "    ZipFile(onspd_zip).namelist()\n",
    "    if\n",
    "    re.match(search, f)\n",
    "]\n",
    "\n",
    "postcodes = etl.cat(\n",
    "    *[etl.fromcsv(etl.ZipSource(onspd_zip, file)) for file in files]\n",
    ").selecteq(\n",
    "    'doterm', ''\n",
    ").cut(\n",
    "    *'pcds oslaua lat long oa21 lsoa21 msoa21'.split(' ')\n",
    ")\n",
    "\n",
    "postcodes.tocsv(REF_DATA / 'onspd_extract.csv')\n"
   ]
  }
 ],
 "metadata": {
  "kernelspec": {
   "display_name": "bradford-2025-T5c5aHPV",
   "language": "python",
   "name": "python3"
  },
  "language_info": {
   "codemirror_mode": {
    "name": "ipython",
    "version": 3
   },
   "file_extension": ".py",
   "mimetype": "text/x-python",
   "name": "python",
   "nbconvert_exporter": "python",
   "pygments_lexer": "ipython3",
   "version": "3.12.3"
  }
 },
 "nbformat": 4,
 "nbformat_minor": 2
}
