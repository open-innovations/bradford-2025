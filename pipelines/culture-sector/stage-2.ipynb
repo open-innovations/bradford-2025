{
 "cells": [
  {
   "cell_type": "code",
   "execution_count": 1,
   "metadata": {},
   "outputs": [],
   "source": [
    "import pandas as pd\n",
    "from thefuzz.process import extractOne, extractBests\n",
    "\n",
    "import pipeline_utils.db as database\n",
    "\n",
    "from config import RAW, WORKING, FUNDED_ORGS_LIST"
   ]
  },
  {
   "cell_type": "markdown",
   "metadata": {},
   "source": [
    "## Make direct matches to the company data"
   ]
  },
  {
   "cell_type": "code",
   "execution_count": 2,
   "metadata": {},
   "outputs": [],
   "source": [
    "# Load company database\n",
    "db = database.connect(read_only=True)"
   ]
  },
  {
   "cell_type": "code",
   "execution_count": 3,
   "metadata": {},
   "outputs": [],
   "source": [
    "db.sql(f'''CREATE TEMP TABLE tFundedOrgs AS SELECT DISTINCT organisation FROM read_csv('{FUNDED_ORGS_LIST}');''')"
   ]
  },
  {
   "cell_type": "code",
   "execution_count": 4,
   "metadata": {},
   "outputs": [
    {
     "data": {
      "text/plain": [
       "┌───────┐\n",
       "│ Count │\n",
       "│ int64 │\n",
       "├───────┤\n",
       "│   103 │\n",
       "└───────┘"
      ]
     },
     "execution_count": 4,
     "metadata": {},
     "output_type": "execute_result"
    }
   ],
   "source": [
    "db.sql('''SELECT COUNT(*) AS Count FROM tFundedOrgs''')"
   ]
  },
  {
   "cell_type": "code",
   "execution_count": 5,
   "metadata": {},
   "outputs": [],
   "source": [
    "db.sql('''\n",
    "       CREATE TEMP TABLE tDirect as SELECT r.*,\n",
    "              CompanyName as registered_name,\n",
    "              CompanyNumber as company_number,\n",
    "              \"URI\" as uri,\n",
    "              \"RegAddress.PostTown\" as post_town,\n",
    "              \"RegAddress.PostCode\" as postcode,\n",
    "              CompanyCategory as company_category,\n",
    "              CompanyStatus as company_status,\n",
    "              [x for x in [\n",
    "                     \"SICCode.SicText_1\",\n",
    "                     \"SICCode.SicText_2\",\n",
    "                     \"SICCode.SicText_3\",\n",
    "                     \"SICCode.SicText_4\"\n",
    "              ] if x is not NULL] as sic_code,\n",
    "              IncorporationDate as incorporation_date,\n",
    "              DissolutionDate as dissolution_date,\n",
    "              \"Accounts.AccountCategory\" as accounts_category\n",
    "              -- , c.*\n",
    "                        \n",
    "       FROM tFundedOrgs r LEFT JOIN CompanyData c\n",
    "       ON upper(r.organisation) == c.CompanyName;\n",
    "''')"
   ]
  },
  {
   "cell_type": "code",
   "execution_count": 6,
   "metadata": {},
   "outputs": [],
   "source": [
    "ignored_companies = []"
   ]
  },
  {
   "cell_type": "code",
   "execution_count": 7,
   "metadata": {},
   "outputs": [],
   "source": [
    "direct_matches = db.sql(\n",
    "    'SELECT * from tDirect WHERE company_number IS NOT NULL'\n",
    ").df().query('~organisation.isin(@ignored_companies)')"
   ]
  },
  {
   "cell_type": "code",
   "execution_count": 8,
   "metadata": {},
   "outputs": [],
   "source": [
    "db.close()"
   ]
  },
  {
   "cell_type": "code",
   "execution_count": 9,
   "metadata": {},
   "outputs": [],
   "source": [
    "direct_matches.sort_values(by='organisation').loc[: , ['organisation', 'company_number']].to_csv(WORKING / '2-company-match-direct.csv', index=False)"
   ]
  },
  {
   "cell_type": "markdown",
   "metadata": {},
   "source": [
    "### Fix typos in longlist\n",
    "\n",
    "Having matched the details, let's see if we can fuzzy match missing items in the longlist.\n",
    "\n",
    "First, let's get a list of organisations that have been matched to Company House data."
   ]
  },
  {
   "cell_type": "code",
   "execution_count": 10,
   "metadata": {},
   "outputs": [],
   "source": [
    "matched_organisations = direct_matches.organisation.unique().tolist()"
   ]
  },
  {
   "cell_type": "markdown",
   "metadata": {},
   "source": [
    "Then load the raw longlist"
   ]
  },
  {
   "cell_type": "code",
   "execution_count": 11,
   "metadata": {},
   "outputs": [],
   "source": [
    "raw = pd.read_csv(FUNDED_ORGS_LIST)"
   ]
  },
  {
   "cell_type": "code",
   "execution_count": 12,
   "metadata": {},
   "outputs": [
    {
     "data": {
      "text/html": [
       "<div>\n",
       "<style scoped>\n",
       "    .dataframe tbody tr th:only-of-type {\n",
       "        vertical-align: middle;\n",
       "    }\n",
       "\n",
       "    .dataframe tbody tr th {\n",
       "        vertical-align: top;\n",
       "    }\n",
       "\n",
       "    .dataframe thead th {\n",
       "        text-align: right;\n",
       "    }\n",
       "</style>\n",
       "<table border=\"1\" class=\"dataframe\">\n",
       "  <thead>\n",
       "    <tr style=\"text-align: right;\">\n",
       "      <th></th>\n",
       "      <th>match</th>\n",
       "    </tr>\n",
       "    <tr>\n",
       "      <th>organisation</th>\n",
       "      <th></th>\n",
       "    </tr>\n",
       "  </thead>\n",
       "  <tbody>\n",
       "  </tbody>\n",
       "</table>\n",
       "</div>"
      ],
      "text/plain": [
       "Empty DataFrame\n",
       "Columns: [match]\n",
       "Index: []"
      ]
     },
     "execution_count": 12,
     "metadata": {},
     "output_type": "execute_result"
    }
   ],
   "source": [
    "corrections = pd.concat(\n",
    "    [\n",
    "        raw,\n",
    "        raw.organisation.map(\n",
    "            lambda x: extractOne(x, matched_organisations, score_cutoff=90)\n",
    "        ).apply(\n",
    "            pd.Series, index=['match', 'score']\n",
    "        )\n",
    "    ], axis=1\n",
    ").query(\n",
    "    'score.notna() and score < 100'\n",
    ").loc[: ,['organisation', 'match']].set_index('organisation')\n",
    "corrections\n"
   ]
  },
  {
   "cell_type": "code",
   "execution_count": 13,
   "metadata": {},
   "outputs": [],
   "source": [
    "corrections.to_csv(WORKING / '2-company-corrections.csv')"
   ]
  },
  {
   "cell_type": "markdown",
   "metadata": {},
   "source": [
    "## Fuzzy match company data"
   ]
  },
  {
   "cell_type": "code",
   "execution_count": 14,
   "metadata": {},
   "outputs": [],
   "source": [
    "drop_list = pd.concat([direct_matches, corrections.reset_index()]).organisation"
   ]
  },
  {
   "cell_type": "code",
   "execution_count": 15,
   "metadata": {},
   "outputs": [],
   "source": [
    "db = database.connect(read_only=True)"
   ]
  },
  {
   "cell_type": "code",
   "execution_count": 16,
   "metadata": {},
   "outputs": [],
   "source": [
    "companies = db.query('''\n",
    "                        SELECT DISTINCT CompanyName, CompanyNumber FROM CompanyData\n",
    "                        WHERE CompanyStatus == 'Active'\n",
    "                        AND \"RegAddress.PostCode\" SIMILAR TO '(NE|DH|SR).*'\n",
    "                        ORDER BY CompanyName;\n",
    "''').df()"
   ]
  },
  {
   "cell_type": "code",
   "execution_count": 17,
   "metadata": {},
   "outputs": [],
   "source": [
    "db.close()"
   ]
  },
  {
   "cell_type": "code",
   "execution_count": 18,
   "metadata": {},
   "outputs": [],
   "source": [
    "candidates = pd.read_csv(FUNDED_ORGS_LIST, usecols=[0]).organisation"
   ]
  },
  {
   "cell_type": "code",
   "execution_count": 19,
   "metadata": {},
   "outputs": [],
   "source": [
    "def matcher(c, choices):\n",
    "    return extractBests(c, choices, score_cutoff=80)"
   ]
  },
  {
   "cell_type": "code",
   "execution_count": 20,
   "metadata": {},
   "outputs": [],
   "source": [
    "candidate_list = candidates[~candidates.isin(drop_list)].unique().tolist()"
   ]
  },
  {
   "cell_type": "code",
   "execution_count": 21,
   "metadata": {},
   "outputs": [],
   "source": [
    "matches = companies.CompanyName.str.replace(r'\\W+', ' ', regex=True).apply(matcher, choices=candidate_list).rename('Matches')"
   ]
  },
  {
   "cell_type": "code",
   "execution_count": 22,
   "metadata": {},
   "outputs": [],
   "source": [
    "res = pd.concat([companies, matches], axis=1).explode('Matches').dropna()\n",
    "res['match'], res['score'] = zip(*res.Matches)\n",
    "\n",
    "fuzzy_matches = res.loc[res.score > 90, ['match', 'CompanyName', 'CompanyNumber', 'score']]\n",
    "fuzzy_matches['type'] = 'fuzzy'\n",
    "fuzzy_matches.set_index('match').to_csv(WORKING / '2-company-match-fuzzy.csv')"
   ]
  },
  {
   "cell_type": "markdown",
   "metadata": {},
   "source": [
    "Direct match charites"
   ]
  },
  {
   "cell_type": "code",
   "execution_count": 23,
   "metadata": {},
   "outputs": [],
   "source": [
    "db = database.connect(read_only=True)"
   ]
  },
  {
   "cell_type": "code",
   "execution_count": 24,
   "metadata": {},
   "outputs": [],
   "source": [
    "db.query(f'''\n",
    "         CREATE OR REPLACE TEMP TABLE tShortlist AS SELECT organisation FROM '{ FUNDED_ORGS_LIST }';\n",
    "         ''')"
   ]
  },
  {
   "cell_type": "code",
   "execution_count": 25,
   "metadata": {},
   "outputs": [
    {
     "data": {
      "text/plain": [
       "┌───────────────────────────┬─────────────────────┬───────────────────────────────────────────────────────────────────────────────┬───────────────┬────────────────────┬──────────────────────────┬──────────────────────────────────────────┬─────────────────────────────────────┐\n",
       "│ registered_charity_number │ organisation_number │                                 charity_name                                  │ latest_income │ latest_expenditure │ charity_contact_postcode │           charity_contact_web            │ charity_company_registration_number │\n",
       "│           int64           │        int64        │                                    varchar                                    │    varchar    │      varchar       │         varchar          │                 varchar                  │               varchar               │\n",
       "├───────────────────────────┼─────────────────────┼───────────────────────────────────────────────────────────────────────────────┼───────────────┼────────────────────┼──────────────────────────┼──────────────────────────────────────────┼─────────────────────────────────────┤\n",
       "│                   1126326 │             5000305 │ THE UNITED SIKH ASSOCIATION DAY CENTRE FOR ELDERLY                            │ 23410         │ 22322              │ BD3 8LJ                  │ NULL                                     │ NULL                                │\n",
       "│                   1127877 │             5000573 │ LIGHT OF THE WORLD COMMUNITY CENTRE LIMITED                                   │ 299144        │ 339659             │ BD2 4JH                  │ www.lightoftheworldbradford.org.uk       │ 06666862                            │\n",
       "│                   1128209 │             5001140 │ BANGLADESH HINDU ASSOCIATION (UK)                                             │ 9237          │ 9060               │ E12 6UA                  │ NULL                                     │ 05202054                            │\n",
       "│                   1129801 │             5002229 │ NORTH OF ENGLAND ACTIVITIES AND TRAINING                                      │ 21433         │ 37954              │ BD3 0NA                  │ n/a.n/a                                  │ NULL                                │\n",
       "│                   1130777 │             5003833 │ PAROCHIAL CHURCH COUNCIL OF THE ECCLESIASTICAL PARISH OF TONG AND LAISTERDYKE │ 235105        │ 226432             │ BD4 9EJ                  │ thlparish.org.uk                         │ NULL                                │\n",
       "│                   1130878 │             5003844 │ THE YORKSHIRE CRICKET FOUNDATION                                              │ 829307        │ 872896             │ LS6 3DP                  │ www.yorkshirecricketfoundation.com       │ 06934670                            │\n",
       "│                   1139151 │             5005410 │ SALTAIRE COMMUNITY FESTIVAL                                                   │ 59086         │ 57747              │ BD18 4DT                 │ www.saltairefestival.co.uk               │ 05237882                            │\n",
       "│                   1138899 │             5012219 │ AFEMAI CHILDREN'S TRUST                                                       │ 80032         │ 59927              │ WF3 1RW                  │ www.afemaichildrenstrust.org.uk          │ NULL                                │\n",
       "│                   1143088 │             5014265 │ Ayup Sultan Trust                                                             │ 500           │ 500                │ FY1 3SF                  │ https://ayup-sultan-trust.yolasite.com/  │ NULL                                │\n",
       "│                   1140763 │             5014848 │ ADDAS CENTRE                                                                  │ 0             │ 0                  │ WF13 3EZ                 │ NULL                                     │ NULL                                │\n",
       "│                      ·    │                ·    │      ·                                                                        │ ·             │ ·                  │    ·                     │  ·                                       │  ·                                  │\n",
       "│                      ·    │                ·    │      ·                                                                        │ ·             │ ·                  │    ·                     │  ·                                       │  ·                                  │\n",
       "│                      ·    │                ·    │      ·                                                                        │ ·             │ ·                  │    ·                     │  ·                                       │  ·                                  │\n",
       "│                   1124545 │             4038019 │ WEST YORKSHIRE KURDISH COMMUNITY ASSOCIATION                                  │ 6500          │ 5900               │ BD5 0BS                  │ NULL                                     │ NULL                                │\n",
       "│                   1124251 │             4038286 │ Race Equality Network                                                         │ 169016        │ 134835             │ BD7 1PX                  │ www.raceequalitynetwork.org.uk           │ 05298722                            │\n",
       "│                   1123716 │             4038552 │ YORKSHIRE PHILHARMONIC CHOIR LIMITED                                          │ 60057         │ 46446              │ WF6 1SL                  │ www.yorkshirephilharmonicchoir.co.uk     │ 06515248                            │\n",
       "│                   1129714 │             4044713 │ BANGLADESHI YOUTH ORGANISATION                                                │ 188785        │ 156470             │ BD8 7JN                  │ NULL                                     │ 04681096                            │\n",
       "│                   1131121 │             4044824 │ SHIPLEY MASJID ASSOCIATION                                                    │ 43367         │ 23105              │ BD18 3PH                 │ www.shipleymasjid.com                    │ NULL                                │\n",
       "│                   1131588 │             4045333 │ BRADFORD DISTRICT COMMUNITY FOUNDATION                                        │ 350237        │ 217015             │ LS1 2TE                  │ NULL                                     │ 06852262                            │\n",
       "│                   1127093 │             4042758 │ The Keith Howard Foundation                                                   │ 492521        │ 969070             │ LS29 9LF                 │ https://www.keithhowardfoundation.co.uk/ │ NULL                                │\n",
       "│                   1131035 │             4046886 │ HARROGATE MALE VOICE CHOIR                                                    │ 8525          │ 10143              │ HG5 9JX                  │ www.harrogatemvc.org.uk                  │ NULL                                │\n",
       "│                   1138144 │             4049890 │ JALALABAD ISLAMIC AND CULTURAL ASSOCIATION                                    │ 18165         │ 14656              │ BD3 9DD                  │ NULL                                     │ NULL                                │\n",
       "│                   1138092 │             4050075 │ UPENDO WETU                                                                   │ 0             │ 0                  │ NG3 3AH                  │ www.upendowetu.org.uk                    │ NULL                                │\n",
       "├───────────────────────────┴─────────────────────┴───────────────────────────────────────────────────────────────────────────────┴───────────────┴────────────────────┴──────────────────────────┴──────────────────────────────────────────┴─────────────────────────────────────┤\n",
       "│ 260 rows (20 shown)                                                                                                                                                                                                                                                    8 columns │\n",
       "└──────────────────────────────────────────────────────────────────────────────────────────────────────────────────────────────────────────────────────────────────────────────────────────────────────────────────────────────────────────────────────────────────────────────────┘"
      ]
     },
     "execution_count": 25,
     "metadata": {},
     "output_type": "execute_result"
    }
   ],
   "source": [
    "db.query('''SELECT * FROM Charities;''')"
   ]
  },
  {
   "cell_type": "code",
   "execution_count": 26,
   "metadata": {},
   "outputs": [],
   "source": [
    "charities = db.query('''\n",
    "         SELECT DISTINCT\n",
    "            s.*,\n",
    "            c.charity_name,\n",
    "            c.registered_charity_number,\n",
    "            c.charity_company_registration_number\n",
    "         FROM Charities c\n",
    "         JOIN tShortlist s\n",
    "         ON upper(s.organisation) == upper(c.charity_name)\n",
    "         ORDER BY charity_name\n",
    "         ''').df(\n",
    "         )\n",
    "charities.to_csv(WORKING / '2-charity-match-direct.csv')"
   ]
  },
  {
   "cell_type": "code",
   "execution_count": 27,
   "metadata": {},
   "outputs": [],
   "source": [
    "db.close()"
   ]
  },
  {
   "cell_type": "markdown",
   "metadata": {},
   "source": [
    "## SIC Codes"
   ]
  },
  {
   "cell_type": "code",
   "execution_count": 28,
   "metadata": {},
   "outputs": [],
   "source": [
    "db = database.connect(read_only=True)"
   ]
  },
  {
   "cell_type": "code",
   "execution_count": 29,
   "metadata": {},
   "outputs": [],
   "source": [
    "db.query(\n",
    "    f'''\n",
    "    CREATE OR REPLACE TEMP TABLE tCompanyNumbers AS\n",
    "    SELECT *\n",
    "    FROM\n",
    "    (\n",
    "        SELECT company_number FROM read_csv('{ WORKING / '2-company-match-direct.csv' }')\n",
    "        UNION ALL\n",
    "        SELECT CompanyNumber AS company_number FROM read_csv('{ WORKING / '2-company-match-fuzzy.csv' }')\n",
    "        UNION ALL\n",
    "        SELECT charity_company_registration_number AS company_number FROM read_csv('{ WORKING / '2-charity-match-direct.csv' }')\n",
    "    )\n",
    "    '''\n",
    ")"
   ]
  },
  {
   "cell_type": "code",
   "execution_count": 30,
   "metadata": {},
   "outputs": [],
   "source": [
    "all_sic_codes = db.query(\n",
    "    '''\n",
    "    SELECT\n",
    "        [x for x in [\n",
    "            \"SICCode.SicText_1\",\n",
    "            \"SICCode.SicText_2\",\n",
    "            \"SICCode.SicText_3\",\n",
    "            \"SICCode.SicText_4\"\n",
    "        ] if x is not NULL] as sic_code\n",
    "    FROM CompanyData c\n",
    "    JOIN tCompanyNumbers n\n",
    "    ON c.CompanyNumber == n.company_number\n",
    "    '''\n",
    ")"
   ]
  },
  {
   "cell_type": "code",
   "execution_count": 31,
   "metadata": {},
   "outputs": [],
   "source": [
    "excluded_sic_codes = [\n",
    "    'None Supplied',\n",
    "    '47610 - Retail sale of books in specialised stores',\n",
    "    '47990 - Other retail sale not in stores, stalls or markets',\n",
    "    '56302 - Public houses and bars',\n",
    "    '70210 - Public relations and communications activities',\n",
    "    '82990 - Other business support service activities n.e.c.',\n",
    "    '84110 - General public administration activities',\n",
    "    '85590 - Other education n.e.c.',\n",
    "    '85600 - Educational support services',\n",
    "    '87900 - Other residential care activities n.e.c.',\n",
    "    '88100 - Social work activities without accommodation for the elderly and disabled',\n",
    "    '88990 - Other social work activities without accommodation n.e.c.',\n",
    "    '93120 - Activities of sport clubs',\n",
    "    '93290 - Other amusement and recreation activities n.e.c.',\n",
    "    '94110 - Activities of business and employers membership organizations',\n",
    "    '94990 - Activities of other membership organizations n.e.c.',\n",
    "    '96090 - Other service activities n.e.c.',\n",
    "]"
   ]
  },
  {
   "cell_type": "code",
   "execution_count": 32,
   "metadata": {},
   "outputs": [],
   "source": [
    "pd.Series(\n",
    "    all_sic_codes.df().sic_code.explode().unique(),\n",
    "    name='sic_code'\n",
    ").sort_values().pipe(\n",
    "    lambda s: s.loc[~s.isin(excluded_sic_codes)]\n",
    ").to_csv(\n",
    "    WORKING / '2-sic-codes.csv', index=False\n",
    ")"
   ]
  }
 ],
 "metadata": {
  "kernelspec": {
   "display_name": "bradford-2025-T5c5aHPV",
   "language": "python",
   "name": "python3"
  },
  "language_info": {
   "codemirror_mode": {
    "name": "ipython",
    "version": 3
   },
   "file_extension": ".py",
   "mimetype": "text/x-python",
   "name": "python",
   "nbconvert_exporter": "python",
   "pygments_lexer": "ipython3",
   "version": "3.12.3"
  }
 },
 "nbformat": 4,
 "nbformat_minor": 2
}
