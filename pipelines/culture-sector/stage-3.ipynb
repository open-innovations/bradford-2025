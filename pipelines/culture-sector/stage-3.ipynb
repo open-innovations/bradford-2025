{
 "cells": [
  {
   "cell_type": "markdown",
   "metadata": {},
   "source": [
    "This stage merges the raw longlist with the candidate data from the reference sources to create the new list.\n",
    "\n",
    "It round-trips the data from the existing landscape list to ensure that any manual overrides are included."
   ]
  },
  {
   "cell_type": "code",
   "execution_count": 1,
   "metadata": {},
   "outputs": [],
   "source": [
    "import petl as etl\n",
    "from pipeline_utils.reference.geo import la_code_lookup\n",
    "from pipeline_utils.reference.onspd import normalise_postcode, postcode_lookup\n",
    "from pipeline_utils.filesystem.paths import RAW_DATA, DATA\n",
    "import pipeline_utils.db as database\n",
    "from config import WORKING"
   ]
  },
  {
   "cell_type": "markdown",
   "metadata": {},
   "source": [
    "Load the spelling corrections we have inferred from the matching stage."
   ]
  },
  {
   "cell_type": "code",
   "execution_count": 2,
   "metadata": {},
   "outputs": [],
   "source": [
    "corrections = etl.fromcsv(WORKING / '2-company-corrections.csv').lookupone('organisation', 'match')"
   ]
  },
  {
   "cell_type": "markdown",
   "metadata": {},
   "source": [
    "Load the untagged longlist from the raw directory and perform the following operations:\n",
    "\n",
    "1. Convert numeric data to numbers\n",
    "2. Correct the spellings of the organisational data\n",
    "3. Augment with local authority data"
   ]
  },
  {
   "cell_type": "code",
   "execution_count": 3,
   "metadata": {},
   "outputs": [
    {
     "data": {
      "text/html": [
       "<table class='petl'>\n",
       "<thead>\n",
       "<tr>\n",
       "<th>organisation</th>\n",
       "<th>Source</th>\n",
       "<th>Number</th>\n",
       "<th>funding_geo_code</th>\n",
       "<th>funding_geo_name</th>\n",
       "</tr>\n",
       "</thead>\n",
       "<tbody>\n",
       "<tr>\n",
       "<td>509ArtsLtd</td>\n",
       "<td>Project Grant</td>\n",
       "<td style='text-align: right'>4</td>\n",
       "<td>E08000032</td>\n",
       "<td>Bradford</td>\n",
       "</tr>\n",
       "<tr>\n",
       "<td>Alan Clay</td>\n",
       "<td>Project Grant</td>\n",
       "<td style='text-align: right'>1</td>\n",
       "<td>E08000032</td>\n",
       "<td>Bradford</td>\n",
       "</tr>\n",
       "<tr>\n",
       "<td>Anthony Middleton</td>\n",
       "<td>Project Grant</td>\n",
       "<td style='text-align: right'>1</td>\n",
       "<td>E08000032</td>\n",
       "<td>Bradford</td>\n",
       "</tr>\n",
       "<tr>\n",
       "<td>As Sirens Fall</td>\n",
       "<td>Project Grant</td>\n",
       "<td style='text-align: right'>1</td>\n",
       "<td>E08000032</td>\n",
       "<td>Bradford</td>\n",
       "</tr>\n",
       "<tr>\n",
       "<td>Ashley Manning</td>\n",
       "<td>Project Grant</td>\n",
       "<td style='text-align: right'>1</td>\n",
       "<td>E08000032</td>\n",
       "<td>Bradford</td>\n",
       "</tr>\n",
       "</tbody>\n",
       "</table>\n",
       "<p><strong>...</strong></p>"
      ],
      "text/plain": [
       "+---------------------+-----------------+--------+------------------+------------------+\n",
       "| organisation        | Source          | Number | funding_geo_code | funding_geo_name |\n",
       "+=====================+=================+========+==================+==================+\n",
       "| '509ArtsLtd'        | 'Project Grant' |      4 | 'E08000032'      | 'Bradford'       |\n",
       "+---------------------+-----------------+--------+------------------+------------------+\n",
       "| 'Alan Clay'         | 'Project Grant' |      1 | 'E08000032'      | 'Bradford'       |\n",
       "+---------------------+-----------------+--------+------------------+------------------+\n",
       "| 'Anthony Middleton' | 'Project Grant' |      1 | 'E08000032'      | 'Bradford'       |\n",
       "+---------------------+-----------------+--------+------------------+------------------+\n",
       "| 'As Sirens Fall'    | 'Project Grant' |      1 | 'E08000032'      | 'Bradford'       |\n",
       "+---------------------+-----------------+--------+------------------+------------------+\n",
       "| 'Ashley Manning'    | 'Project Grant' |      1 | 'E08000032'      | 'Bradford'       |\n",
       "+---------------------+-----------------+--------+------------------+------------------+\n",
       "..."
      ]
     },
     "execution_count": 3,
     "metadata": {},
     "output_type": "execute_result"
    }
   ],
   "source": [
    "raw = etl.fromcsv(\n",
    "    WORKING / 'funded-organisations.csv'\n",
    ").convertnumbers(\n",
    ").convert(\n",
    "    'organisation', lambda x: corrections.get(x, x)\n",
    ").convert(\n",
    "    'Local authority', la_code_lookup\n",
    ").unpackdict(\n",
    "    'Local authority'\n",
    ").rename({\n",
    "    'LAD24CD': 'funding_geo_code',\n",
    "    'LAD24NM': 'funding_geo_name',\n",
    "}).cache()\n",
    "\n",
    "raw"
   ]
  },
  {
   "cell_type": "markdown",
   "metadata": {},
   "source": [
    "Get the list of sources in the longlist. We'll use this to update the values in the columns later on."
   ]
  },
  {
   "cell_type": "code",
   "execution_count": 4,
   "metadata": {},
   "outputs": [
    {
     "data": {
      "text/plain": [
       "('NPO', 'Project Grant')"
      ]
     },
     "execution_count": 4,
     "metadata": {},
     "output_type": "execute_result"
    }
   ],
   "source": [
    "sources = tuple(raw.cut('Source').distinct().values('Source'))\n",
    "sources"
   ]
  },
  {
   "cell_type": "markdown",
   "metadata": {},
   "source": [
    "Recast the longlist to convert the Source column into a column per entry, and convert any non-None values into True"
   ]
  },
  {
   "cell_type": "code",
   "execution_count": 5,
   "metadata": {},
   "outputs": [
    {
     "data": {
      "text/html": [
       "<table class='petl'>\n",
       "<thead>\n",
       "<tr>\n",
       "<th>organisation</th>\n",
       "<th>funding_geo_code</th>\n",
       "<th>funding_geo_name</th>\n",
       "<th>NPO</th>\n",
       "<th>Project Grant</th>\n",
       "</tr>\n",
       "</thead>\n",
       "<tbody>\n",
       "<tr>\n",
       "<td>509ArtsLtd</td>\n",
       "<td>E08000032</td>\n",
       "<td>Bradford</td>\n",
       "<td>None</td>\n",
       "<td>True</td>\n",
       "</tr>\n",
       "<tr>\n",
       "<td>Alan Clay</td>\n",
       "<td>E08000032</td>\n",
       "<td>Bradford</td>\n",
       "<td>None</td>\n",
       "<td>True</td>\n",
       "</tr>\n",
       "<tr>\n",
       "<td>Anthony Middleton</td>\n",
       "<td>E08000032</td>\n",
       "<td>Bradford</td>\n",
       "<td>None</td>\n",
       "<td>True</td>\n",
       "</tr>\n",
       "<tr>\n",
       "<td>As Sirens Fall</td>\n",
       "<td>E08000032</td>\n",
       "<td>Bradford</td>\n",
       "<td>None</td>\n",
       "<td>True</td>\n",
       "</tr>\n",
       "<tr>\n",
       "<td>Ashley Manning</td>\n",
       "<td>E08000032</td>\n",
       "<td>Bradford</td>\n",
       "<td>None</td>\n",
       "<td>True</td>\n",
       "</tr>\n",
       "</tbody>\n",
       "</table>\n",
       "<p><strong>...</strong></p>"
      ],
      "text/plain": [
       "+---------------------+------------------+------------------+------+---------------+\n",
       "| organisation        | funding_geo_code | funding_geo_name | NPO  | Project Grant |\n",
       "+=====================+==================+==================+======+===============+\n",
       "| '509ArtsLtd'        | 'E08000032'      | 'Bradford'       | None | True          |\n",
       "+---------------------+------------------+------------------+------+---------------+\n",
       "| 'Alan Clay'         | 'E08000032'      | 'Bradford'       | None | True          |\n",
       "+---------------------+------------------+------------------+------+---------------+\n",
       "| 'Anthony Middleton' | 'E08000032'      | 'Bradford'       | None | True          |\n",
       "+---------------------+------------------+------------------+------+---------------+\n",
       "| 'As Sirens Fall'    | 'E08000032'      | 'Bradford'       | None | True          |\n",
       "+---------------------+------------------+------------------+------+---------------+\n",
       "| 'Ashley Manning'    | 'E08000032'      | 'Bradford'       | None | True          |\n",
       "+---------------------+------------------+------------------+------+---------------+\n",
       "..."
      ]
     },
     "execution_count": 5,
     "metadata": {},
     "output_type": "execute_result"
    }
   ],
   "source": [
    "wide_table = raw.recast(\n",
    "    variablefield=\"Source\",\n",
    "    valuefield=\"Number\"\n",
    ").convert(\n",
    "    sources,\n",
    "    lambda x: True if x is not None else None\n",
    ")\n",
    "wide_table"
   ]
  },
  {
   "cell_type": "markdown",
   "metadata": {},
   "source": [
    "At this point we will also add in new data from the result of stage 2.\n",
    "1. location Manually set locations\n",
    "2. companies Company data from Companies house(direct and fuzzy matched)"
   ]
  },
  {
   "cell_type": "code",
   "execution_count": 6,
   "metadata": {},
   "outputs": [
    {
     "ename": "FileNotFoundError",
     "evalue": "[Errno 2] No such file or directory: '/Users/lukestrange/Code/bradford-2025/raw/landscape-locations.csv'",
     "output_type": "error",
     "traceback": [
      "\u001b[31m---------------------------------------------------------------------------\u001b[39m",
      "\u001b[31mFileNotFoundError\u001b[39m                         Traceback (most recent call last)",
      "\u001b[36mCell\u001b[39m\u001b[36m \u001b[39m\u001b[32mIn[6]\u001b[39m\u001b[32m, line 1\u001b[39m\n\u001b[32m----> \u001b[39m\u001b[32m1\u001b[39m location = \u001b[43metl\u001b[49m\u001b[43m.\u001b[49m\u001b[43mfromcsv\u001b[49m\u001b[43m(\u001b[49m\u001b[43mRAW_DATA\u001b[49m\u001b[43m \u001b[49m\u001b[43m/\u001b[49m\u001b[43m \u001b[49m\u001b[33;43m'\u001b[39;49m\u001b[33;43mlandscape-locations.csv\u001b[39;49m\u001b[33;43m'\u001b[39;49m\u001b[43m)\u001b[49m\u001b[43m.\u001b[49m\u001b[43mlookupone\u001b[49m\u001b[43m(\u001b[49m\u001b[33;43m'\u001b[39;49m\u001b[33;43morganisation\u001b[39;49m\u001b[33;43m'\u001b[39;49m\u001b[43m,\u001b[49m\u001b[43m \u001b[49m\u001b[43m[\u001b[49m\u001b[33;43m'\u001b[39;49m\u001b[33;43mlatitude\u001b[39;49m\u001b[33;43m'\u001b[39;49m\u001b[43m,\u001b[49m\u001b[43m \u001b[49m\u001b[33;43m'\u001b[39;49m\u001b[33;43mlongitude\u001b[39;49m\u001b[33;43m'\u001b[39;49m\u001b[43m]\u001b[49m\u001b[43m)\u001b[49m\n",
      "\u001b[36mFile \u001b[39m\u001b[32m~/.local/share/virtualenvs/bradford-2025-T5c5aHPV/lib/python3.12/site-packages/petl/util/lookups.py:168\u001b[39m, in \u001b[36mlookupone\u001b[39m\u001b[34m(table, key, value, dictionary, strict)\u001b[39m\n\u001b[32m    165\u001b[39m     dictionary = \u001b[38;5;28mdict\u001b[39m()\n\u001b[32m    167\u001b[39m \u001b[38;5;66;03m# setup\u001b[39;00m\n\u001b[32m--> \u001b[39m\u001b[32m168\u001b[39m it, getkey, getvalue = \u001b[43m_setup_lookup\u001b[49m\u001b[43m(\u001b[49m\u001b[43mtable\u001b[49m\u001b[43m,\u001b[49m\u001b[43m \u001b[49m\u001b[43mkey\u001b[49m\u001b[43m,\u001b[49m\u001b[43m \u001b[49m\u001b[43mvalue\u001b[49m\u001b[43m)\u001b[49m\n\u001b[32m    170\u001b[39m \u001b[38;5;66;03m# build lookup dictionary\u001b[39;00m\n\u001b[32m    171\u001b[39m \u001b[38;5;28;01mfor\u001b[39;00m row \u001b[38;5;129;01min\u001b[39;00m it:\n",
      "\u001b[36mFile \u001b[39m\u001b[32m~/.local/share/virtualenvs/bradford-2025-T5c5aHPV/lib/python3.12/site-packages/petl/util/lookups.py:17\u001b[39m, in \u001b[36m_setup_lookup\u001b[39m\u001b[34m(table, key, value)\u001b[39m\n\u001b[32m     15\u001b[39m it = \u001b[38;5;28miter\u001b[39m(table)\n\u001b[32m     16\u001b[39m \u001b[38;5;28;01mtry\u001b[39;00m:\n\u001b[32m---> \u001b[39m\u001b[32m17\u001b[39m     hdr = \u001b[38;5;28;43mnext\u001b[39;49m\u001b[43m(\u001b[49m\u001b[43mit\u001b[49m\u001b[43m)\u001b[49m\n\u001b[32m     18\u001b[39m \u001b[38;5;28;01mexcept\u001b[39;00m \u001b[38;5;167;01mStopIteration\u001b[39;00m:\n\u001b[32m     19\u001b[39m     hdr = []\n",
      "\u001b[36mFile \u001b[39m\u001b[32m~/.local/share/virtualenvs/bradford-2025-T5c5aHPV/lib/python3.12/site-packages/petl/io/csv_py3.py:32\u001b[39m, in \u001b[36mCSVView.__iter__\u001b[39m\u001b[34m(self)\u001b[39m\n\u001b[32m     30\u001b[39m \u001b[38;5;28;01mif\u001b[39;00m \u001b[38;5;28mself\u001b[39m.header \u001b[38;5;129;01mis\u001b[39;00m \u001b[38;5;129;01mnot\u001b[39;00m \u001b[38;5;28;01mNone\u001b[39;00m:\n\u001b[32m     31\u001b[39m     \u001b[38;5;28;01myield\u001b[39;00m \u001b[38;5;28mtuple\u001b[39m(\u001b[38;5;28mself\u001b[39m.header)\n\u001b[32m---> \u001b[39m\u001b[32m32\u001b[39m \u001b[38;5;28;01mwith\u001b[39;00m \u001b[38;5;28;43mself\u001b[39;49m\u001b[43m.\u001b[49m\u001b[43msource\u001b[49m\u001b[43m.\u001b[49m\u001b[43mopen\u001b[49m\u001b[43m(\u001b[49m\u001b[33;43m'\u001b[39;49m\u001b[33;43mrb\u001b[39;49m\u001b[33;43m'\u001b[39;49m\u001b[43m)\u001b[49m \u001b[38;5;28;01mas\u001b[39;00m buf:\n\u001b[32m     33\u001b[39m     csvfile = io.TextIOWrapper(buf, encoding=\u001b[38;5;28mself\u001b[39m.encoding,\n\u001b[32m     34\u001b[39m                                errors=\u001b[38;5;28mself\u001b[39m.errors, newline=\u001b[33m'\u001b[39m\u001b[33m'\u001b[39m)\n\u001b[32m     35\u001b[39m     \u001b[38;5;28;01mtry\u001b[39;00m:\n",
      "\u001b[36mFile \u001b[39m\u001b[32m/Library/Frameworks/Python.framework/Versions/3.12/lib/python3.12/pathlib.py:1013\u001b[39m, in \u001b[36mPath.open\u001b[39m\u001b[34m(self, mode, buffering, encoding, errors, newline)\u001b[39m\n\u001b[32m   1011\u001b[39m \u001b[38;5;28;01mif\u001b[39;00m \u001b[33m\"\u001b[39m\u001b[33mb\u001b[39m\u001b[33m\"\u001b[39m \u001b[38;5;129;01mnot\u001b[39;00m \u001b[38;5;129;01min\u001b[39;00m mode:\n\u001b[32m   1012\u001b[39m     encoding = io.text_encoding(encoding)\n\u001b[32m-> \u001b[39m\u001b[32m1013\u001b[39m \u001b[38;5;28;01mreturn\u001b[39;00m \u001b[43mio\u001b[49m\u001b[43m.\u001b[49m\u001b[43mopen\u001b[49m\u001b[43m(\u001b[49m\u001b[38;5;28;43mself\u001b[39;49m\u001b[43m,\u001b[49m\u001b[43m \u001b[49m\u001b[43mmode\u001b[49m\u001b[43m,\u001b[49m\u001b[43m \u001b[49m\u001b[43mbuffering\u001b[49m\u001b[43m,\u001b[49m\u001b[43m \u001b[49m\u001b[43mencoding\u001b[49m\u001b[43m,\u001b[49m\u001b[43m \u001b[49m\u001b[43merrors\u001b[49m\u001b[43m,\u001b[49m\u001b[43m \u001b[49m\u001b[43mnewline\u001b[49m\u001b[43m)\u001b[49m\n",
      "\u001b[31mFileNotFoundError\u001b[39m: [Errno 2] No such file or directory: '/Users/lukestrange/Code/bradford-2025/raw/landscape-locations.csv'"
     ]
    }
   ],
   "source": [
    "location = etl.fromcsv(RAW_DATA / 'landscape-locations.csv').lookupone('organisation', ['latitude', 'longitude'])"
   ]
  },
  {
   "cell_type": "markdown",
   "metadata": {},
   "source": [
    "Direct and fuzzy data loaded from database"
   ]
  },
  {
   "cell_type": "code",
   "execution_count": null,
   "metadata": {},
   "outputs": [
    {
     "ename": "BinderException",
     "evalue": "Binder Error: Referenced column \"organisation\" not found in FROM clause!\nCandidate bindings: \"column0\"\n\nLINE 6:               SELECT organisation, charity_company_registration_number AS compan...\n                             ^",
     "output_type": "error",
     "traceback": [
      "\u001b[31m---------------------------------------------------------------------------\u001b[39m",
      "\u001b[31mBinderException\u001b[39m                           Traceback (most recent call last)",
      "\u001b[36mCell\u001b[39m\u001b[36m \u001b[39m\u001b[32mIn[7]\u001b[39m\u001b[32m, line 2\u001b[39m\n\u001b[32m      1\u001b[39m db = database.connect(read_only=\u001b[38;5;28;01mTrue\u001b[39;00m)\n\u001b[32m----> \u001b[39m\u001b[32m2\u001b[39m \u001b[43mdb\u001b[49m\u001b[43m.\u001b[49m\u001b[43mquery\u001b[49m\u001b[43m(\u001b[49m\u001b[33;43mf\u001b[39;49m\u001b[33;43m'''\u001b[39;49m\n\u001b[32m      3\u001b[39m \u001b[33;43m         CREATE OR REPLACE TEMP TABLE tCompanies AS\u001b[39;49m\n\u001b[32m      4\u001b[39m \u001b[33;43m              SELECT match as organisation, CompanyNumber as company_number, type, score\u001b[39;49m\n\u001b[32m      5\u001b[39m \u001b[33;43m                     FROM read_csv(\u001b[39;49m\u001b[33;43m'\u001b[39;49m\u001b[38;5;132;43;01m{\u001b[39;49;00m\u001b[38;5;250;43m \u001b[39;49m\u001b[43mWORKING\u001b[49m\u001b[38;5;250;43m \u001b[39;49m\u001b[43m/\u001b[49m\u001b[38;5;250;43m \u001b[39;49m\u001b[33;43m'\u001b[39;49m\u001b[33;43m2-company-match-fuzzy.csv\u001b[39;49m\u001b[33;43m'\u001b[39;49m\u001b[38;5;250;43m \u001b[39;49m\u001b[38;5;132;43;01m}\u001b[39;49;00m\u001b[33;43m'\u001b[39;49m\u001b[33;43m)\u001b[39;49m\n\u001b[32m      6\u001b[39m \u001b[33;43m              UNION ALL\u001b[39;49m\n\u001b[32m      7\u001b[39m \u001b[33;43m              SELECT organisation, charity_company_registration_number AS company_number, \u001b[39;49m\u001b[33;43m'\u001b[39;49m\u001b[33;43mcharity\u001b[39;49m\u001b[33;43m'\u001b[39;49m\u001b[33;43m AS type, 100 AS score\u001b[39;49m\n\u001b[32m      8\u001b[39m \u001b[33;43m                     FROM read_csv(\u001b[39;49m\u001b[33;43m'\u001b[39;49m\u001b[38;5;132;43;01m{\u001b[39;49;00m\u001b[38;5;250;43m \u001b[39;49m\u001b[43mWORKING\u001b[49m\u001b[38;5;250;43m \u001b[39;49m\u001b[43m/\u001b[49m\u001b[38;5;250;43m \u001b[39;49m\u001b[33;43m'\u001b[39;49m\u001b[33;43m2-charity-match-direct.csv\u001b[39;49m\u001b[33;43m'\u001b[39;49m\u001b[38;5;250;43m \u001b[39;49m\u001b[38;5;132;43;01m}\u001b[39;49;00m\u001b[33;43m'\u001b[39;49m\u001b[33;43m)\u001b[39;49m\n\u001b[32m      9\u001b[39m \u001b[33;43m              UNION ALL\u001b[39;49m\n\u001b[32m     10\u001b[39m \u001b[33;43m              SELECT *, \u001b[39;49m\u001b[33;43m'\u001b[39;49m\u001b[33;43mdirect\u001b[39;49m\u001b[33;43m'\u001b[39;49m\u001b[33;43m AS type, 100 as score\u001b[39;49m\n\u001b[32m     11\u001b[39m \u001b[33;43m                     FROM read_csv(\u001b[39;49m\u001b[33;43m'\u001b[39;49m\u001b[38;5;132;43;01m{\u001b[39;49;00m\u001b[38;5;250;43m \u001b[39;49m\u001b[43mWORKING\u001b[49m\u001b[38;5;250;43m \u001b[39;49m\u001b[43m/\u001b[49m\u001b[38;5;250;43m \u001b[39;49m\u001b[33;43m'\u001b[39;49m\u001b[33;43m2-company-match-direct.csv\u001b[39;49m\u001b[33;43m'\u001b[39;49m\u001b[38;5;250;43m \u001b[39;49m\u001b[38;5;132;43;01m}\u001b[39;49;00m\u001b[33;43m'\u001b[39;49m\u001b[33;43m);\u001b[39;49m\n\u001b[32m     12\u001b[39m \u001b[33;43m         CREATE OR REPLACE TEMP TABLE tCharities AS\u001b[39;49m\n\u001b[32m     13\u001b[39m \u001b[33;43m              SELECT *\u001b[39;49m\n\u001b[32m     14\u001b[39m \u001b[33;43m                     FROM read_csv(\u001b[39;49m\u001b[33;43m'\u001b[39;49m\u001b[38;5;132;43;01m{\u001b[39;49;00m\u001b[38;5;250;43m \u001b[39;49m\u001b[43mWORKING\u001b[49m\u001b[38;5;250;43m \u001b[39;49m\u001b[43m/\u001b[49m\u001b[38;5;250;43m \u001b[39;49m\u001b[33;43m'\u001b[39;49m\u001b[33;43m2-charity-match-direct.csv\u001b[39;49m\u001b[33;43m'\u001b[39;49m\u001b[38;5;250;43m \u001b[39;49m\u001b[38;5;132;43;01m}\u001b[39;49;00m\u001b[33;43m'\u001b[39;49m\u001b[33;43m);\u001b[39;49m\n\u001b[32m     15\u001b[39m \u001b[33;43m         CREATE OR REPLACE TEMP TABLE tSicCodes AS\u001b[39;49m\n\u001b[32m     16\u001b[39m \u001b[33;43m              SELECT *\u001b[39;49m\n\u001b[32m     17\u001b[39m \u001b[33;43m              FROM read_csv(\u001b[39;49m\u001b[33;43m'\u001b[39;49m\u001b[38;5;132;43;01m{\u001b[39;49;00m\u001b[38;5;250;43m \u001b[39;49m\u001b[43mWORKING\u001b[49m\u001b[38;5;250;43m \u001b[39;49m\u001b[43m/\u001b[49m\u001b[38;5;250;43m \u001b[39;49m\u001b[33;43m'\u001b[39;49m\u001b[33;43m2-sic-codes.csv\u001b[39;49m\u001b[33;43m'\u001b[39;49m\u001b[38;5;250;43m \u001b[39;49m\u001b[38;5;132;43;01m}\u001b[39;49;00m\u001b[33;43m'\u001b[39;49m\u001b[33;43m);\u001b[39;49m\n\u001b[32m     18\u001b[39m \u001b[33;43m         CREATE OR REPLACE TEMP TABLE tPostcodes AS\u001b[39;49m\n\u001b[32m     19\u001b[39m \u001b[33;43m              SELECT pcds AS postcode, lat, long\u001b[39;49m\n\u001b[32m     20\u001b[39m \u001b[33;43m              FROM read_csv(\u001b[39;49m\u001b[33;43m'\u001b[39;49m\u001b[38;5;132;43;01m{\u001b[39;49;00m\u001b[38;5;250;43m \u001b[39;49m\u001b[43mDATA\u001b[49m\u001b[38;5;250;43m \u001b[39;49m\u001b[43m/\u001b[49m\u001b[38;5;250;43m \u001b[39;49m\u001b[33;43m'\u001b[39;49m\u001b[33;43mreference/onspd_extract.csv\u001b[39;49m\u001b[33;43m'\u001b[39;49m\u001b[38;5;250;43m \u001b[39;49m\u001b[38;5;132;43;01m}\u001b[39;49;00m\u001b[33;43m'\u001b[39;49m\u001b[33;43m)\u001b[39;49m\n\u001b[32m     21\u001b[39m \u001b[33;43m              WHERE oslaua == \u001b[39;49m\u001b[33;43m'\u001b[39;49m\u001b[33;43mE08000021\u001b[39;49m\u001b[33;43m'\u001b[39;49m\u001b[33;43m;\u001b[39;49m\n\u001b[32m     22\u001b[39m \u001b[33;43m         CREATE OR REPLACE TEMP TABLE tCompanyExtract AS\u001b[39;49m\n\u001b[32m     23\u001b[39m \u001b[33;43m              SELECT\u001b[39;49m\n\u001b[32m     24\u001b[39m \u001b[33;43m                    CompanyName as registered_name,\u001b[39;49m\n\u001b[32m     25\u001b[39m \u001b[33;43m                    CompanyNumber as company_number,\u001b[39;49m\n\u001b[32m     26\u001b[39m \u001b[33;43m                    \u001b[39;49m\u001b[33;43m\"\u001b[39;49m\u001b[33;43mURI\u001b[39;49m\u001b[33;43m\"\u001b[39;49m\u001b[33;43m as uri,\u001b[39;49m\n\u001b[32m     27\u001b[39m \u001b[33;43m                    \u001b[39;49m\u001b[33;43m\"\u001b[39;49m\u001b[33;43mRegAddress.PostTown\u001b[39;49m\u001b[33;43m\"\u001b[39;49m\u001b[33;43m as post_town,\u001b[39;49m\n\u001b[32m     28\u001b[39m \u001b[33;43m                    \u001b[39;49m\u001b[33;43m\"\u001b[39;49m\u001b[33;43mRegAddress.PostCode\u001b[39;49m\u001b[33;43m\"\u001b[39;49m\u001b[33;43m as postcode,\u001b[39;49m\n\u001b[32m     29\u001b[39m \u001b[33;43m                    CompanyCategory as company_category,\u001b[39;49m\n\u001b[32m     30\u001b[39m \u001b[33;43m                    CompanyStatus as company_status,\u001b[39;49m\n\u001b[32m     31\u001b[39m \u001b[33;43m                    [x for x in [\u001b[39;49m\n\u001b[32m     32\u001b[39m \u001b[33;43m                            \u001b[39;49m\u001b[33;43m\"\u001b[39;49m\u001b[33;43mSICCode.SicText_1\u001b[39;49m\u001b[33;43m\"\u001b[39;49m\u001b[33;43m,\u001b[39;49m\n\u001b[32m     33\u001b[39m \u001b[33;43m                            \u001b[39;49m\u001b[33;43m\"\u001b[39;49m\u001b[33;43mSICCode.SicText_2\u001b[39;49m\u001b[33;43m\"\u001b[39;49m\u001b[33;43m,\u001b[39;49m\n\u001b[32m     34\u001b[39m \u001b[33;43m                            \u001b[39;49m\u001b[33;43m\"\u001b[39;49m\u001b[33;43mSICCode.SicText_3\u001b[39;49m\u001b[33;43m\"\u001b[39;49m\u001b[33;43m,\u001b[39;49m\n\u001b[32m     35\u001b[39m \u001b[33;43m                            \u001b[39;49m\u001b[33;43m\"\u001b[39;49m\u001b[33;43mSICCode.SicText_4\u001b[39;49m\u001b[33;43m\"\u001b[39;49m\n\u001b[32m     36\u001b[39m \u001b[33;43m                    ] if x is not NULL] as sic_code,\u001b[39;49m\n\u001b[32m     37\u001b[39m \u001b[33;43m                    IncorporationDate as incorporation_date,\u001b[39;49m\n\u001b[32m     38\u001b[39m \u001b[33;43m                    DissolutionDate as dissolution_date,\u001b[39;49m\n\u001b[32m     39\u001b[39m \u001b[33;43m                    \u001b[39;49m\u001b[33;43m\"\u001b[39;49m\u001b[33;43mAccounts.AccountCategory\u001b[39;49m\u001b[33;43m\"\u001b[39;49m\u001b[33;43m as accounts_category,\u001b[39;49m\n\u001b[32m     40\u001b[39m \u001b[33;43m                    lat AS latitude, long as longitude,\u001b[39;49m\n\u001b[32m     41\u001b[39m \u001b[33;43m              FROM CompanyData c\u001b[39;49m\n\u001b[32m     42\u001b[39m \u001b[33;43m              JOIN tPostcodes p\u001b[39;49m\n\u001b[32m     43\u001b[39m \u001b[33;43m              ON c.\u001b[39;49m\u001b[33;43m\"\u001b[39;49m\u001b[33;43mRegAddress.PostCode\u001b[39;49m\u001b[33;43m\"\u001b[39;49m\u001b[33;43m == p.postcode;\u001b[39;49m\n\u001b[32m     44\u001b[39m \u001b[33;43m              ;\u001b[39;49m\n\u001b[32m     45\u001b[39m \u001b[33;43m         \u001b[39;49m\u001b[33;43m'''\u001b[39;49m\u001b[43m)\u001b[49m\n",
      "\u001b[31mBinderException\u001b[39m: Binder Error: Referenced column \"organisation\" not found in FROM clause!\nCandidate bindings: \"column0\"\n\nLINE 6:               SELECT organisation, charity_company_registration_number AS compan...\n                             ^"
     ]
    }
   ],
   "source": [
    "db = database.connect(read_only=True)\n",
    "db.query(f'''\n",
    "         CREATE OR REPLACE TEMP TABLE tCompanies AS\n",
    "              SELECT match as organisation, CompanyNumber as company_number, type, score\n",
    "                     FROM read_csv('{ WORKING / '2-company-match-fuzzy.csv' }')\n",
    "              UNION ALL\n",
    "              SELECT organisation, charity_company_registration_number AS company_number, 'charity' AS type, 100 AS score\n",
    "                     FROM read_csv('{ WORKING / '2-charity-match-direct.csv' }')\n",
    "              UNION ALL\n",
    "              SELECT *, 'direct' AS type, 100 as score\n",
    "                     FROM read_csv('{ WORKING / '2-company-match-direct.csv' }');\n",
    "         CREATE OR REPLACE TEMP TABLE tCharities AS\n",
    "              SELECT *\n",
    "                     FROM read_csv('{ WORKING / '2-charity-match-direct.csv' }');\n",
    "         CREATE OR REPLACE TEMP TABLE tSicCodes AS\n",
    "              SELECT *\n",
    "              FROM read_csv('{ WORKING / '2-sic-codes.csv' }');\n",
    "         CREATE OR REPLACE TEMP TABLE tPostcodes AS\n",
    "              SELECT pcds AS postcode, lat, long\n",
    "              FROM read_csv('{ DATA / 'reference/onspd_extract.csv' }')\n",
    "              WHERE oslaua == 'E08000021';\n",
    "         CREATE OR REPLACE TEMP TABLE tCompanyExtract AS\n",
    "              SELECT\n",
    "                    CompanyName as registered_name,\n",
    "                    CompanyNumber as company_number,\n",
    "                    \"URI\" as uri,\n",
    "                    \"RegAddress.PostTown\" as post_town,\n",
    "                    \"RegAddress.PostCode\" as postcode,\n",
    "                    CompanyCategory as company_category,\n",
    "                    CompanyStatus as company_status,\n",
    "                    [x for x in [\n",
    "                            \"SICCode.SicText_1\",\n",
    "                            \"SICCode.SicText_2\",\n",
    "                            \"SICCode.SicText_3\",\n",
    "                            \"SICCode.SicText_4\"\n",
    "                    ] if x is not NULL] as sic_code,\n",
    "                    IncorporationDate as incorporation_date,\n",
    "                    DissolutionDate as dissolution_date,\n",
    "                    \"Accounts.AccountCategory\" as accounts_category,\n",
    "                    lat AS latitude, long as longitude,\n",
    "              FROM CompanyData c\n",
    "              JOIN tPostcodes p\n",
    "              ON c.\"RegAddress.PostCode\" == p.postcode;\n",
    "              ;\n",
    "         ''')"
   ]
  },
  {
   "cell_type": "code",
   "execution_count": null,
   "metadata": {},
   "outputs": [],
   "source": [
    "db.query('''\n",
    "    SELECT * from tCompanies;\n",
    "         ''')"
   ]
  },
  {
   "cell_type": "code",
   "execution_count": null,
   "metadata": {},
   "outputs": [],
   "source": [
    "companies = etl.fromdataframe(\n",
    "    db.query('''\n",
    "             SELECT m.organisation as organisation,\n",
    "                c.CompanyName as registered_name,\n",
    "                c.CompanyNumber as company_number,\n",
    "                m.type,\n",
    "                m.score,\n",
    "                \"URI\" as uri,\n",
    "                \"RegAddress.PostTown\" as post_town,\n",
    "                \"RegAddress.PostCode\" as postcode,\n",
    "                CompanyCategory as company_category,\n",
    "                CompanyStatus as company_status,\n",
    "                [x for x in [\n",
    "                        \"SICCode.SicText_1\",\n",
    "                        \"SICCode.SicText_2\",\n",
    "                        \"SICCode.SicText_3\",\n",
    "                        \"SICCode.SicText_4\"\n",
    "                ] if x is not NULL] as sic_code,\n",
    "                IncorporationDate as incorporation_date,\n",
    "                DissolutionDate as dissolution_date,\n",
    "                \"Accounts.AccountCategory\" as accounts_category\n",
    "             FROM tCompanies m\n",
    "             JOIN CompanyData c\n",
    "             ON m.company_number == c.CompanyNumber;\n",
    "             ''').df())"
   ]
  },
  {
   "cell_type": "code",
   "execution_count": null,
   "metadata": {},
   "outputs": [],
   "source": [
    "company_by_sic = etl.fromdataframe(\n",
    "    db.query(f'''\n",
    "             SELECT DISTINCT c.*\n",
    "             FROM (\n",
    "               SELECT e.*\n",
    "               FROM tCompanyExtract e\n",
    "               LEFT JOIN (SELECT company_number FROM tCompanies) r\n",
    "               ON e.company_number == r.company_number\n",
    "               WHERE r.company_number IS NULL\n",
    "             ) c\n",
    "             JOIN tSicCodes s\n",
    "             ON list_contains(c.sic_code, s.sic_code)\n",
    "             ORDER BY c.company_number;\n",
    "             ''').df()\n",
    ")"
   ]
  },
  {
   "cell_type": "code",
   "execution_count": null,
   "metadata": {},
   "outputs": [],
   "source": [
    "charities = etl.fromdataframe(\n",
    "    db.query('''\n",
    "             SELECT\n",
    "             l.organisation,\n",
    "             c.charity_name,\n",
    "             c.registered_charity_number,\n",
    "             c.charity_company_registration_number,\n",
    "             charity_contact_postcode,\n",
    "             charity_contact_web,\n",
    "             latest_income AS charity_latest_income,\n",
    "             latest_expenditure AS charity_latest_expenditure\n",
    "             FROM Charities c\n",
    "             JOIN tCharities l\n",
    "             ON c.registered_charity_number == l.registered_charity_number\n",
    "             ''').df()\n",
    ")"
   ]
  },
  {
   "cell_type": "code",
   "execution_count": null,
   "metadata": {},
   "outputs": [],
   "source": [
    "db.close()"
   ]
  },
  {
   "cell_type": "code",
   "execution_count": null,
   "metadata": {},
   "outputs": [],
   "source": [
    "company_data = companies.dictlookupone('organisation')\n",
    "charity_data = charities.dictlookupone('organisation')"
   ]
  },
  {
   "cell_type": "markdown",
   "metadata": {},
   "source": [
    "Create new landscape table"
   ]
  },
  {
   "cell_type": "code",
   "execution_count": null,
   "metadata": {},
   "outputs": [],
   "source": [
    "landscape_matched = (\n",
    "    wide_table\n",
    "    .addfield('location', lambda r: location.get(r.organisation, ()))\n",
    "    .unpack('location', newfields=['latitude', 'longitude'])\n",
    "    .addfield('company_data', lambda r: company_data.get(r.organisation, {}))\n",
    "    .unpackdict('company_data', keys=[\n",
    "        'company_category',\n",
    "        'accounts_category',\n",
    "        'company_number',\n",
    "        'company_status',\n",
    "        'dissolution_date',\n",
    "        'incorporation_date',\n",
    "        'post_town',\n",
    "        'postcode',\n",
    "        'sic_code',\n",
    "        'uri',\n",
    "        'type', 'score'\n",
    "    ])\n",
    "    .convert('postcode', normalise_postcode)\n",
    "    .addfield('charity_data', lambda r: charity_data.get(r.organisation, {}))\n",
    "    .unpackdict('charity_data', keys=[\n",
    "        'charity_name',\n",
    "        'registered_charity_number',\n",
    "        'charity_company_registration_number',\n",
    "        'charity_contact_postcode',\n",
    "        'charity_contact_web',\n",
    "        'charity_latest_expenditure',\n",
    "        'charity_latest_income',\n",
    "    ])\n",
    ")\n",
    "\n",
    "landscape = (\n",
    "    etl\n",
    "    .cat(landscape_matched, company_by_sic)\n",
    "    .convert('postcode', lambda x: postcode_lookup.get(x, { 'pcds': x }))\n",
    "    .unpackdict('postcode', keys=['pcds', 'lat', 'long', 'oslaua'])\n",
    "    .convert('latitude', lambda x, r: r['lat'], pass_row=True, where=lambda r: r['latitude'] == None and r['lat'] != None)\n",
    "    .convert('longitude', lambda x, r: r['long'], pass_row=True, where=lambda r: r['longitude'] == None and r['long'] != None)\n",
    "    .cutout('lat', 'long')\n",
    "    .convert('organisation', lambda x, r: x or r.registered_name, pass_row=True)\n",
    "    .cutout('registered_name')\n",
    "    .convert('sic_code', list)\n",
    "    .sort('organisation')\n",
    ")"
   ]
  },
  {
   "cell_type": "code",
   "execution_count": null,
   "metadata": {},
   "outputs": [],
   "source": [
    "landscape.selectnotnone('company_number').duplicates('company_number')"
   ]
  },
  {
   "cell_type": "code",
   "execution_count": null,
   "metadata": {},
   "outputs": [],
   "source": [
    "landscape.selectnotnone('registered_charity_number').select(lambda r: r.company_number != r.charity_company_registration_number)"
   ]
  },
  {
   "cell_type": "code",
   "execution_count": null,
   "metadata": {},
   "outputs": [],
   "source": [
    "landscape.tocsv(DATA / 'culture_landscape.csv')"
   ]
  },
  {
   "cell_type": "code",
   "execution_count": null,
   "metadata": {},
   "outputs": [],
   "source": [
    "landscape.cut('sic_code').selectnotnone('sic_code')"
   ]
  }
 ],
 "metadata": {
  "kernelspec": {
   "display_name": "bradford-2025-T5c5aHPV",
   "language": "python",
   "name": "python3"
  },
  "language_info": {
   "codemirror_mode": {
    "name": "ipython",
    "version": 3
   },
   "file_extension": ".py",
   "mimetype": "text/x-python",
   "name": "python",
   "nbconvert_exporter": "python",
   "pygments_lexer": "ipython3",
   "version": "3.12.3"
  }
 },
 "nbformat": 4,
 "nbformat_minor": 2
}
