{
 "cells": [
  {
   "cell_type": "code",
   "execution_count": 1,
   "id": "540f7172",
   "metadata": {},
   "outputs": [],
   "source": [
    "import petl as etl\n",
    "from utils.paths import PUBLISHED, SITE"
   ]
  },
  {
   "cell_type": "code",
   "execution_count": 2,
   "id": "81e591a6",
   "metadata": {},
   "outputs": [],
   "source": [
    "WARD = SITE / 'insights/reach/_data'\n",
    "WARD.mkdir(exist_ok=True, parents=True)"
   ]
  },
  {
   "cell_type": "code",
   "execution_count": 3,
   "id": "f74a33a0",
   "metadata": {},
   "outputs": [],
   "source": [
    "wards = etl.fromcsv(SITE / '_data/wards.csv')"
   ]
  },
  {
   "cell_type": "markdown",
   "id": "04c368ac",
   "metadata": {},
   "source": [
    "## Tickets"
   ]
  },
  {
   "cell_type": "code",
   "execution_count": 4,
   "id": "c1355e20",
   "metadata": {},
   "outputs": [],
   "source": [
    "tickets = (\n",
    "    etl\n",
    "    .fromcsv(PUBLISHED / 'ticketing/tickets.csv')\n",
    "    .selecteq('geography_type', 'osward')\n",
    "    .selectne('geography_code', 'OTHER')\n",
    "    .convertnumbers()\n",
    "    # TODO May need to filter out specific ticket types\n",
    "    .aggregate(['geography_code'], sum, 'count_of_tickets')\n",
    "    .addfield('variable', 'tickets', index=1)\n",
    ")\n",
    "\n",
    "total_bradford_sales = tickets.values('value').sum()\n",
    "\n",
    "tickets_prop = (\n",
    "    tickets\n",
    "    .convert('value', lambda x: x / total_bradford_sales)\n",
    "    .convert('value', lambda x: round(x, 3))\n",
    "    .update('variable', 'tickets_prop')\n",
    ")"
   ]
  },
  {
   "cell_type": "markdown",
   "id": "d59b56e2",
   "metadata": {},
   "source": [
    "## Combine ward stats"
   ]
  },
  {
   "cell_type": "code",
   "execution_count": 5,
   "id": "4b148e1a",
   "metadata": {},
   "outputs": [],
   "source": [
    "data = (\n",
    "    etl\n",
    "    .cat(\n",
    "        tickets,\n",
    "        tickets_prop,\n",
    "    )\n",
    "    .recast(['geography_code'])\n",
    "    .leftjoin(\n",
    "        wards.cut('code', 'name'),\n",
    "        lkey='geography_code',\n",
    "        rkey='code'\n",
    "    )\n",
    "    .sort('name')\n",
    ")"
   ]
  },
  {
   "cell_type": "code",
   "execution_count": 6,
   "id": "b2f68792",
   "metadata": {},
   "outputs": [],
   "source": [
    "data.tojson(WARD / 'by_ward.json', indent=2)"
   ]
  },
  {
   "cell_type": "code",
   "execution_count": null,
   "id": "2a25c101",
   "metadata": {},
   "outputs": [],
   "source": []
  }
 ],
 "metadata": {
  "kernelspec": {
   "display_name": "data.bradford2025.co.uk-DmiwwEw1",
   "language": "python",
   "name": "python3"
  },
  "language_info": {
   "codemirror_mode": {
    "name": "ipython",
    "version": 3
   },
   "file_extension": ".py",
   "mimetype": "text/x-python",
   "name": "python",
   "nbconvert_exporter": "python",
   "pygments_lexer": "ipython3",
   "version": "3.12.4"
  }
 },
 "nbformat": 4,
 "nbformat_minor": 5
}
